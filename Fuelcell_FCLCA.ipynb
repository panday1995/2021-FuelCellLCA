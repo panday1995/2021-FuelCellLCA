{
 "cells": [
  {
   "cell_type": "markdown",
   "metadata": {},
   "source": [
    "# Import Databases "
   ]
  },
  {
   "cell_type": "code",
   "execution_count": 1,
   "metadata": {
    "scrolled": false
   },
   "outputs": [
    {
     "data": {
      "application/javascript": [
       "\n",
       "            setTimeout(function() {\n",
       "                var nbb_cell_id = 1;\n",
       "                var nbb_unformatted_code = \"from pandas import ExcelWriter\\n\\nimport brightway2 as bw\\nimport matplotlib.pyplot as plt\\nimport numpy as np\\nimport os\\nimport pandas as pd\\nimport seaborn as sns\\nimport scipy as sp\\nimport time\\n\\n%load_ext nb_black\";\n",
       "                var nbb_formatted_code = \"from pandas import ExcelWriter\\n\\nimport brightway2 as bw\\nimport matplotlib.pyplot as plt\\nimport numpy as np\\nimport os\\nimport pandas as pd\\nimport seaborn as sns\\nimport scipy as sp\\nimport time\\n\\n%load_ext nb_black\";\n",
       "                var nbb_cells = Jupyter.notebook.get_cells();\n",
       "                for (var i = 0; i < nbb_cells.length; ++i) {\n",
       "                    if (nbb_cells[i].input_prompt_number == nbb_cell_id) {\n",
       "                        if (nbb_cells[i].get_text() == nbb_unformatted_code) {\n",
       "                             nbb_cells[i].set_text(nbb_formatted_code);\n",
       "                        }\n",
       "                        break;\n",
       "                    }\n",
       "                }\n",
       "            }, 500);\n",
       "            "
      ],
      "text/plain": [
       "<IPython.core.display.Javascript object>"
      ]
     },
     "metadata": {},
     "output_type": "display_data"
    }
   ],
   "source": [
    "from pandas import ExcelWriter\n",
    "\n",
    "import brightway2 as bw\n",
    "import matplotlib.pyplot as plt\n",
    "import numpy as np\n",
    "import os\n",
    "import pandas as pd\n",
    "import seaborn as sns\n",
    "import scipy as sp\n",
    "import time\n",
    "\n",
    "%load_ext nb_black"
   ]
  },
  {
   "cell_type": "code",
   "execution_count": 2,
   "metadata": {},
   "outputs": [
    {
     "data": {
      "application/javascript": [
       "\n",
       "            setTimeout(function() {\n",
       "                var nbb_cell_id = 2;\n",
       "                var nbb_unformatted_code = \"bw.projects.set_current(\\\"SOFC\\\")  # setup and name project\";\n",
       "                var nbb_formatted_code = \"bw.projects.set_current(\\\"SOFC\\\")  # setup and name project\";\n",
       "                var nbb_cells = Jupyter.notebook.get_cells();\n",
       "                for (var i = 0; i < nbb_cells.length; ++i) {\n",
       "                    if (nbb_cells[i].input_prompt_number == nbb_cell_id) {\n",
       "                        if (nbb_cells[i].get_text() == nbb_unformatted_code) {\n",
       "                             nbb_cells[i].set_text(nbb_formatted_code);\n",
       "                        }\n",
       "                        break;\n",
       "                    }\n",
       "                }\n",
       "            }, 500);\n",
       "            "
      ],
      "text/plain": [
       "<IPython.core.display.Javascript object>"
      ]
     },
     "metadata": {},
     "output_type": "display_data"
    }
   ],
   "source": [
    "bw.projects.set_current(\"SOFC\")  # setup and name project"
   ]
  },
  {
   "cell_type": "code",
   "execution_count": 3,
   "metadata": {},
   "outputs": [
    {
     "name": "stdout",
     "output_type": "stream",
     "text": [
      "Biosphere database already present!!! No setup is needed\n"
     ]
    },
    {
     "data": {
      "application/javascript": [
       "\n",
       "            setTimeout(function() {\n",
       "                var nbb_cell_id = 3;\n",
       "                var nbb_unformatted_code = \"bw.bw2setup()\";\n",
       "                var nbb_formatted_code = \"bw.bw2setup()\";\n",
       "                var nbb_cells = Jupyter.notebook.get_cells();\n",
       "                for (var i = 0; i < nbb_cells.length; ++i) {\n",
       "                    if (nbb_cells[i].input_prompt_number == nbb_cell_id) {\n",
       "                        if (nbb_cells[i].get_text() == nbb_unformatted_code) {\n",
       "                             nbb_cells[i].set_text(nbb_formatted_code);\n",
       "                        }\n",
       "                        break;\n",
       "                    }\n",
       "                }\n",
       "            }, 500);\n",
       "            "
      ],
      "text/plain": [
       "<IPython.core.display.Javascript object>"
      ]
     },
     "metadata": {},
     "output_type": "display_data"
    }
   ],
   "source": [
    "bw.bw2setup()"
   ]
  },
  {
   "cell_type": "code",
   "execution_count": 4,
   "metadata": {},
   "outputs": [
    {
     "data": {
      "application/javascript": [
       "\n",
       "            setTimeout(function() {\n",
       "                var nbb_cell_id = 4;\n",
       "                var nbb_unformatted_code = \"if \\\"ecoinvent 3.6\\\" not in bw.databases:\\n    link = \\\"D:\\\\ecoinvent3.6cutoffecoSpold02\\\\datasets\\\"\\n    ei36 = bw.SingleOutputEcospold2Importer(link, \\\"ecoinvent 3.6\\\", use_mp=False)\\n    ei36.apply_strategies()\\n    ei36.statistics()\\n    ei36.write_database()\";\n",
       "                var nbb_formatted_code = \"if \\\"ecoinvent 3.6\\\" not in bw.databases:\\n    link = \\\"D:\\\\ecoinvent3.6cutoffecoSpold02\\\\datasets\\\"\\n    ei36 = bw.SingleOutputEcospold2Importer(link, \\\"ecoinvent 3.6\\\", use_mp=False)\\n    ei36.apply_strategies()\\n    ei36.statistics()\\n    ei36.write_database()\";\n",
       "                var nbb_cells = Jupyter.notebook.get_cells();\n",
       "                for (var i = 0; i < nbb_cells.length; ++i) {\n",
       "                    if (nbb_cells[i].input_prompt_number == nbb_cell_id) {\n",
       "                        if (nbb_cells[i].get_text() == nbb_unformatted_code) {\n",
       "                             nbb_cells[i].set_text(nbb_formatted_code);\n",
       "                        }\n",
       "                        break;\n",
       "                    }\n",
       "                }\n",
       "            }, 500);\n",
       "            "
      ],
      "text/plain": [
       "<IPython.core.display.Javascript object>"
      ]
     },
     "metadata": {},
     "output_type": "display_data"
    }
   ],
   "source": [
    "if \"ecoinvent 3.6\" not in bw.databases:\n",
    "    link = \"D:\\ecoinvent3.6cutoffecoSpold02\\datasets\"\n",
    "    ei36 = bw.SingleOutputEcospold2Importer(link, \"ecoinvent 3.6\", use_mp=False)\n",
    "    ei36.apply_strategies()\n",
    "    ei36.statistics()\n",
    "    ei36.write_database()"
   ]
  },
  {
   "cell_type": "code",
   "execution_count": 5,
   "metadata": {},
   "outputs": [
    {
     "data": {
      "text/plain": [
       "18121"
      ]
     },
     "execution_count": 5,
     "metadata": {},
     "output_type": "execute_result"
    },
    {
     "data": {
      "application/javascript": [
       "\n",
       "            setTimeout(function() {\n",
       "                var nbb_cell_id = 5;\n",
       "                var nbb_unformatted_code = \"len(bw.Database(\\\"ecoinvent 3.6\\\"))  # display number of act in DB\";\n",
       "                var nbb_formatted_code = \"len(bw.Database(\\\"ecoinvent 3.6\\\"))  # display number of act in DB\";\n",
       "                var nbb_cells = Jupyter.notebook.get_cells();\n",
       "                for (var i = 0; i < nbb_cells.length; ++i) {\n",
       "                    if (nbb_cells[i].input_prompt_number == nbb_cell_id) {\n",
       "                        if (nbb_cells[i].get_text() == nbb_unformatted_code) {\n",
       "                             nbb_cells[i].set_text(nbb_formatted_code);\n",
       "                        }\n",
       "                        break;\n",
       "                    }\n",
       "                }\n",
       "            }, 500);\n",
       "            "
      ],
      "text/plain": [
       "<IPython.core.display.Javascript object>"
      ]
     },
     "metadata": {},
     "output_type": "display_data"
    }
   ],
   "source": [
    "len(bw.Database(\"ecoinvent 3.6\"))  # display number of act in DB"
   ]
  },
  {
   "cell_type": "code",
   "execution_count": 6,
   "metadata": {
    "scrolled": true
   },
   "outputs": [
    {
     "data": {
      "text/plain": [
       "bw2data.backends.peewee.database.SQLiteBackend"
      ]
     },
     "execution_count": 6,
     "metadata": {},
     "output_type": "execute_result"
    },
    {
     "data": {
      "application/javascript": [
       "\n",
       "            setTimeout(function() {\n",
       "                var nbb_cell_id = 6;\n",
       "                var nbb_unformatted_code = \"eidb = bw.Database(\\\"ecoinvent 3.6\\\")\\ntype(eidb)\";\n",
       "                var nbb_formatted_code = \"eidb = bw.Database(\\\"ecoinvent 3.6\\\")\\ntype(eidb)\";\n",
       "                var nbb_cells = Jupyter.notebook.get_cells();\n",
       "                for (var i = 0; i < nbb_cells.length; ++i) {\n",
       "                    if (nbb_cells[i].input_prompt_number == nbb_cell_id) {\n",
       "                        if (nbb_cells[i].get_text() == nbb_unformatted_code) {\n",
       "                             nbb_cells[i].set_text(nbb_formatted_code);\n",
       "                        }\n",
       "                        break;\n",
       "                    }\n",
       "                }\n",
       "            }, 500);\n",
       "            "
      ],
      "text/plain": [
       "<IPython.core.display.Javascript object>"
      ]
     },
     "metadata": {},
     "output_type": "display_data"
    }
   ],
   "source": [
    "eidb = bw.Database(\"ecoinvent 3.6\")\n",
    "type(eidb)"
   ]
  },
  {
   "cell_type": "markdown",
   "metadata": {},
   "source": [
    "# Building LCA Matrices"
   ]
  },
  {
   "cell_type": "code",
   "execution_count": 7,
   "metadata": {},
   "outputs": [
    {
     "data": {
      "text/html": [
       "<div>\n",
       "<style scoped>\n",
       "    .dataframe tbody tr th:only-of-type {\n",
       "        vertical-align: middle;\n",
       "    }\n",
       "\n",
       "    .dataframe tbody tr th {\n",
       "        vertical-align: top;\n",
       "    }\n",
       "\n",
       "    .dataframe thead th {\n",
       "        text-align: right;\n",
       "    }\n",
       "</style>\n",
       "<table border=\"1\" class=\"dataframe\">\n",
       "  <thead>\n",
       "    <tr style=\"text-align: right;\">\n",
       "      <th></th>\n",
       "      <th>input</th>\n",
       "      <th>output</th>\n",
       "      <th>row</th>\n",
       "      <th>col</th>\n",
       "      <th>type</th>\n",
       "      <th>uncertainty_type</th>\n",
       "      <th>amount</th>\n",
       "      <th>loc</th>\n",
       "      <th>scale</th>\n",
       "      <th>shape</th>\n",
       "      <th>minimum</th>\n",
       "      <th>maximum</th>\n",
       "      <th>negative</th>\n",
       "    </tr>\n",
       "  </thead>\n",
       "  <tbody>\n",
       "    <tr>\n",
       "      <th>0</th>\n",
       "      <td>1</td>\n",
       "      <td>1</td>\n",
       "      <td>4294967295</td>\n",
       "      <td>4294967295</td>\n",
       "      <td>1</td>\n",
       "      <td>0</td>\n",
       "      <td>0.065686</td>\n",
       "      <td>0.065686</td>\n",
       "      <td>NaN</td>\n",
       "      <td>NaN</td>\n",
       "      <td>NaN</td>\n",
       "      <td>NaN</td>\n",
       "      <td>False</td>\n",
       "    </tr>\n",
       "    <tr>\n",
       "      <th>1</th>\n",
       "      <td>1</td>\n",
       "      <td>1</td>\n",
       "      <td>4294967295</td>\n",
       "      <td>4294967295</td>\n",
       "      <td>0</td>\n",
       "      <td>0</td>\n",
       "      <td>1.000000</td>\n",
       "      <td>1.000000</td>\n",
       "      <td>NaN</td>\n",
       "      <td>NaN</td>\n",
       "      <td>NaN</td>\n",
       "      <td>NaN</td>\n",
       "      <td>False</td>\n",
       "    </tr>\n",
       "    <tr>\n",
       "      <th>2</th>\n",
       "      <td>1</td>\n",
       "      <td>641</td>\n",
       "      <td>4294967295</td>\n",
       "      <td>4294967295</td>\n",
       "      <td>1</td>\n",
       "      <td>0</td>\n",
       "      <td>1.000000</td>\n",
       "      <td>1.000000</td>\n",
       "      <td>NaN</td>\n",
       "      <td>NaN</td>\n",
       "      <td>NaN</td>\n",
       "      <td>NaN</td>\n",
       "      <td>False</td>\n",
       "    </tr>\n",
       "    <tr>\n",
       "      <th>3</th>\n",
       "      <td>1</td>\n",
       "      <td>9780</td>\n",
       "      <td>4294967295</td>\n",
       "      <td>4294967295</td>\n",
       "      <td>1</td>\n",
       "      <td>2</td>\n",
       "      <td>747.526978</td>\n",
       "      <td>6.616770</td>\n",
       "      <td>0.117047</td>\n",
       "      <td>NaN</td>\n",
       "      <td>NaN</td>\n",
       "      <td>NaN</td>\n",
       "      <td>False</td>\n",
       "    </tr>\n",
       "    <tr>\n",
       "      <th>4</th>\n",
       "      <td>1</td>\n",
       "      <td>11495</td>\n",
       "      <td>4294967295</td>\n",
       "      <td>4294967295</td>\n",
       "      <td>1</td>\n",
       "      <td>2</td>\n",
       "      <td>0.000013</td>\n",
       "      <td>-11.282328</td>\n",
       "      <td>0.206398</td>\n",
       "      <td>NaN</td>\n",
       "      <td>NaN</td>\n",
       "      <td>NaN</td>\n",
       "      <td>False</td>\n",
       "    </tr>\n",
       "  </tbody>\n",
       "</table>\n",
       "</div>"
      ],
      "text/plain": [
       "   input  output         row         col  type  uncertainty_type      amount  \\\n",
       "0      1       1  4294967295  4294967295     1                 0    0.065686   \n",
       "1      1       1  4294967295  4294967295     0                 0    1.000000   \n",
       "2      1     641  4294967295  4294967295     1                 0    1.000000   \n",
       "3      1    9780  4294967295  4294967295     1                 2  747.526978   \n",
       "4      1   11495  4294967295  4294967295     1                 2    0.000013   \n",
       "\n",
       "         loc     scale  shape  minimum  maximum  negative  \n",
       "0   0.065686       NaN    NaN      NaN      NaN     False  \n",
       "1   1.000000       NaN    NaN      NaN      NaN     False  \n",
       "2   1.000000       NaN    NaN      NaN      NaN     False  \n",
       "3   6.616770  0.117047    NaN      NaN      NaN     False  \n",
       "4 -11.282328  0.206398    NaN      NaN      NaN     False  "
      ]
     },
     "execution_count": 7,
     "metadata": {},
     "output_type": "execute_result"
    },
    {
     "data": {
      "application/javascript": [
       "\n",
       "            setTimeout(function() {\n",
       "                var nbb_cell_id = 7;\n",
       "                var nbb_unformatted_code = \"structured_array = np.load(eidb.filepath_processed())\\npd.DataFrame(structured_array).head()\";\n",
       "                var nbb_formatted_code = \"structured_array = np.load(eidb.filepath_processed())\\npd.DataFrame(structured_array).head()\";\n",
       "                var nbb_cells = Jupyter.notebook.get_cells();\n",
       "                for (var i = 0; i < nbb_cells.length; ++i) {\n",
       "                    if (nbb_cells[i].input_prompt_number == nbb_cell_id) {\n",
       "                        if (nbb_cells[i].get_text() == nbb_unformatted_code) {\n",
       "                             nbb_cells[i].set_text(nbb_formatted_code);\n",
       "                        }\n",
       "                        break;\n",
       "                    }\n",
       "                }\n",
       "            }, 500);\n",
       "            "
      ],
      "text/plain": [
       "<IPython.core.display.Javascript object>"
      ]
     },
     "metadata": {},
     "output_type": "display_data"
    }
   ],
   "source": [
    "structured_array = np.load(eidb.filepath_processed())\n",
    "pd.DataFrame(structured_array).head()"
   ]
  },
  {
   "cell_type": "code",
   "execution_count": 8,
   "metadata": {},
   "outputs": [
    {
     "data": {
      "text/plain": [
       "ecoinvent 3.6  9866f4f7ef49f93173b854e0f4546155    1\n",
       "               dc3220628f718eaacb12446e5c1f62e1    2\n",
       "               c77f91e383dcc1ba4ca8fb9424cea758    3\n",
       "               eb1f615abe8bd14c9709e24c606b5588    4\n",
       "               1951bf0c2a1297b2ba3412581e4c6623    5\n",
       "dtype: int64"
      ]
     },
     "execution_count": 8,
     "metadata": {},
     "output_type": "execute_result"
    },
    {
     "data": {
      "application/javascript": [
       "\n",
       "            setTimeout(function() {\n",
       "                var nbb_cell_id = 8;\n",
       "                var nbb_unformatted_code = \"pd.Series(bw.mapping).head()\";\n",
       "                var nbb_formatted_code = \"pd.Series(bw.mapping).head()\";\n",
       "                var nbb_cells = Jupyter.notebook.get_cells();\n",
       "                for (var i = 0; i < nbb_cells.length; ++i) {\n",
       "                    if (nbb_cells[i].input_prompt_number == nbb_cell_id) {\n",
       "                        if (nbb_cells[i].get_text() == nbb_unformatted_code) {\n",
       "                             nbb_cells[i].set_text(nbb_formatted_code);\n",
       "                        }\n",
       "                        break;\n",
       "                    }\n",
       "                }\n",
       "            }, 500);\n",
       "            "
      ],
      "text/plain": [
       "<IPython.core.display.Javascript object>"
      ]
     },
     "metadata": {},
     "output_type": "display_data"
    }
   ],
   "source": [
    "pd.Series(bw.mapping).head()"
   ]
  },
  {
   "cell_type": "code",
   "execution_count": 9,
   "metadata": {},
   "outputs": [
    {
     "data": {
      "text/plain": [
       "{'format': 'Ecospold2',\n",
       " 'depends': ['biosphere3'],\n",
       " 'backend': 'sqlite',\n",
       " 'number': 18121,\n",
       " 'modified': '2020-09-20T21:42:24.180057',\n",
       " 'searchable': True,\n",
       " 'processed': '2020-09-20T21:44:46.057789'}"
      ]
     },
     "execution_count": 9,
     "metadata": {},
     "output_type": "execute_result"
    },
    {
     "data": {
      "application/javascript": [
       "\n",
       "            setTimeout(function() {\n",
       "                var nbb_cell_id = 9;\n",
       "                var nbb_unformatted_code = \"eidb.metadata  # \\u6570\\u636e\\u5e93\\u7c7b\\u578b\";\n",
       "                var nbb_formatted_code = \"eidb.metadata  # \\u6570\\u636e\\u5e93\\u7c7b\\u578b\";\n",
       "                var nbb_cells = Jupyter.notebook.get_cells();\n",
       "                for (var i = 0; i < nbb_cells.length; ++i) {\n",
       "                    if (nbb_cells[i].input_prompt_number == nbb_cell_id) {\n",
       "                        if (nbb_cells[i].get_text() == nbb_unformatted_code) {\n",
       "                             nbb_cells[i].set_text(nbb_formatted_code);\n",
       "                        }\n",
       "                        break;\n",
       "                    }\n",
       "                }\n",
       "            }, 500);\n",
       "            "
      ],
      "text/plain": [
       "<IPython.core.display.Javascript object>"
      ]
     },
     "metadata": {},
     "output_type": "display_data"
    }
   ],
   "source": [
    "eidb.metadata  # 数据库类型"
   ]
  },
  {
   "cell_type": "markdown",
   "metadata": {},
   "source": [
    "# Setup Foreground Database "
   ]
  },
  {
   "cell_type": "code",
   "execution_count": 10,
   "metadata": {},
   "outputs": [
    {
     "name": "stdout",
     "output_type": "stream",
     "text": [
      "Extracted 1 worksheets in 0.10 seconds\n",
      "Applying strategy: link_iterable_by_fields\n"
     ]
    },
    {
     "name": "stderr",
     "output_type": "stream",
     "text": [
      "Writing activities to SQLite3 database:\n"
     ]
    },
    {
     "name": "stdout",
     "output_type": "stream",
     "text": [
      "Wrote matching file to:\n",
      "C:\\Users\\sheep\\AppData\\Local\\pylca\\Brightway3\\SOFC.6b6e45b646d3f7510875adf749c4e552\\output\\db-matching-SOFC-import.xlsx\n"
     ]
    },
    {
     "name": "stderr",
     "output_type": "stream",
     "text": [
      "0% [################] 100% | ETA: 00:00:00\n",
      "Total time elapsed: 00:00:00\n"
     ]
    },
    {
     "name": "stdout",
     "output_type": "stream",
     "text": [
      "Title: Writing activities to SQLite3 database:\n",
      "  Started: 01/10/2022 14:30:00\n",
      "  Finished: 01/10/2022 14:30:00\n",
      "  Total time elapsed: 00:00:00\n",
      "  CPU %: 97.70\n",
      "  Memory %: 2.92\n",
      "Created database: SOFC import\n"
     ]
    },
    {
     "data": {
      "application/javascript": [
       "\n",
       "            setTimeout(function() {\n",
       "                var nbb_cell_id = 10;\n",
       "                var nbb_unformatted_code = \"# Setup Foreground Database for SOFC\\nSOFC = bw.ExcelImporter(\\n    r\\\"D:\\\\tencent_files\\\\chrome_Download\\\\Research\\\\LCA\\\\LCA SOFC\\\\BW2Import\\\\SOFC_Import.xlsx\\\"\\n)\\nSOFC.apply_strategies(verbose=False)\\nSOFC.match_database(\\n    \\\"ecoinvent 3.6\\\", fields=(\\\"name\\\", \\\"unit\\\", \\\"location\\\", \\\"reference product\\\")\\n)\\nSOFC.statistics(print_stats=False)\\n# check unlinked exchanges\\nSOFC.write_excel()\\nSOFC.write_database()\";\n",
       "                var nbb_formatted_code = \"# Setup Foreground Database for SOFC\\nSOFC = bw.ExcelImporter(\\n    r\\\"D:\\\\tencent_files\\\\chrome_Download\\\\Research\\\\LCA\\\\LCA SOFC\\\\BW2Import\\\\SOFC_Import.xlsx\\\"\\n)\\nSOFC.apply_strategies(verbose=False)\\nSOFC.match_database(\\n    \\\"ecoinvent 3.6\\\", fields=(\\\"name\\\", \\\"unit\\\", \\\"location\\\", \\\"reference product\\\")\\n)\\nSOFC.statistics(print_stats=False)\\n# check unlinked exchanges\\nSOFC.write_excel()\\nSOFC.write_database()\";\n",
       "                var nbb_cells = Jupyter.notebook.get_cells();\n",
       "                for (var i = 0; i < nbb_cells.length; ++i) {\n",
       "                    if (nbb_cells[i].input_prompt_number == nbb_cell_id) {\n",
       "                        if (nbb_cells[i].get_text() == nbb_unformatted_code) {\n",
       "                             nbb_cells[i].set_text(nbb_formatted_code);\n",
       "                        }\n",
       "                        break;\n",
       "                    }\n",
       "                }\n",
       "            }, 500);\n",
       "            "
      ],
      "text/plain": [
       "<IPython.core.display.Javascript object>"
      ]
     },
     "metadata": {},
     "output_type": "display_data"
    }
   ],
   "source": [
    "# Setup Foreground Database for SOFC\n",
    "SOFC = bw.ExcelImporter(\n",
    "    r\"D:\\tencent_files\\chrome_Download\\Research\\LCA\\LCA SOFC\\BW2Import\\SOFC_Import.xlsx\"\n",
    ")\n",
    "SOFC.apply_strategies(verbose=False)\n",
    "SOFC.match_database(\n",
    "    \"ecoinvent 3.6\", fields=(\"name\", \"unit\", \"location\", \"reference product\")\n",
    ")\n",
    "SOFC.statistics(print_stats=False)\n",
    "# check unlinked exchanges\n",
    "SOFC.write_excel()\n",
    "SOFC.write_database()"
   ]
  },
  {
   "cell_type": "code",
   "execution_count": 11,
   "metadata": {},
   "outputs": [
    {
     "name": "stdout",
     "output_type": "stream",
     "text": [
      "Extracted 1 worksheets in 0.03 seconds\n",
      "Applying strategy: link_iterable_by_fields\n"
     ]
    },
    {
     "name": "stderr",
     "output_type": "stream",
     "text": [
      "Writing activities to SQLite3 database:\n"
     ]
    },
    {
     "name": "stdout",
     "output_type": "stream",
     "text": [
      "Wrote matching file to:\n",
      "C:\\Users\\sheep\\AppData\\Local\\pylca\\Brightway3\\SOFC.6b6e45b646d3f7510875adf749c4e552\\output\\db-matching-MCFC-import.xlsx\n"
     ]
    },
    {
     "name": "stderr",
     "output_type": "stream",
     "text": [
      "0% [############] 100% | ETA: 00:00:00\n",
      "Total time elapsed: 00:00:00\n"
     ]
    },
    {
     "name": "stdout",
     "output_type": "stream",
     "text": [
      "Title: Writing activities to SQLite3 database:\n",
      "  Started: 01/10/2022 14:30:03\n",
      "  Finished: 01/10/2022 14:30:03\n",
      "  Total time elapsed: 00:00:00\n",
      "  CPU %: 97.70\n",
      "  Memory %: 3.02\n",
      "Created database: MCFC import\n"
     ]
    },
    {
     "data": {
      "application/javascript": [
       "\n",
       "            setTimeout(function() {\n",
       "                var nbb_cell_id = 11;\n",
       "                var nbb_unformatted_code = \"# Setup database foreground for MCFC\\nMCFC = bw.ExcelImporter(\\n    r\\\"D:\\\\tencent_files\\\\chrome_Download\\\\Research\\\\LCA\\\\LCA SOFC\\\\BW2Import\\\\MCFC_Import.xlsx\\\"\\n)\\nMCFC.apply_strategies(verbose=False)\\nMCFC.match_database(\\n    \\\"ecoinvent 3.6\\\", fields=(\\\"name\\\", \\\"unit\\\", \\\"location\\\", \\\"reference product\\\")\\n)\\nMCFC.statistics(print_stats=False)\\nMCFC.write_excel()\\nMCFC.write_database()\";\n",
       "                var nbb_formatted_code = \"# Setup database foreground for MCFC\\nMCFC = bw.ExcelImporter(\\n    r\\\"D:\\\\tencent_files\\\\chrome_Download\\\\Research\\\\LCA\\\\LCA SOFC\\\\BW2Import\\\\MCFC_Import.xlsx\\\"\\n)\\nMCFC.apply_strategies(verbose=False)\\nMCFC.match_database(\\n    \\\"ecoinvent 3.6\\\", fields=(\\\"name\\\", \\\"unit\\\", \\\"location\\\", \\\"reference product\\\")\\n)\\nMCFC.statistics(print_stats=False)\\nMCFC.write_excel()\\nMCFC.write_database()\";\n",
       "                var nbb_cells = Jupyter.notebook.get_cells();\n",
       "                for (var i = 0; i < nbb_cells.length; ++i) {\n",
       "                    if (nbb_cells[i].input_prompt_number == nbb_cell_id) {\n",
       "                        if (nbb_cells[i].get_text() == nbb_unformatted_code) {\n",
       "                             nbb_cells[i].set_text(nbb_formatted_code);\n",
       "                        }\n",
       "                        break;\n",
       "                    }\n",
       "                }\n",
       "            }, 500);\n",
       "            "
      ],
      "text/plain": [
       "<IPython.core.display.Javascript object>"
      ]
     },
     "metadata": {},
     "output_type": "display_data"
    }
   ],
   "source": [
    "# Setup database foreground for MCFC\n",
    "MCFC = bw.ExcelImporter(\n",
    "    r\"D:\\tencent_files\\chrome_Download\\Research\\LCA\\LCA SOFC\\BW2Import\\MCFC_Import.xlsx\"\n",
    ")\n",
    "MCFC.apply_strategies(verbose=False)\n",
    "MCFC.match_database(\n",
    "    \"ecoinvent 3.6\", fields=(\"name\", \"unit\", \"location\", \"reference product\")\n",
    ")\n",
    "MCFC.statistics(print_stats=False)\n",
    "MCFC.write_excel()\n",
    "MCFC.write_database()"
   ]
  },
  {
   "cell_type": "code",
   "execution_count": 12,
   "metadata": {},
   "outputs": [
    {
     "name": "stdout",
     "output_type": "stream",
     "text": [
      "Extracted 1 worksheets in 0.05 seconds\n",
      "Applying strategy: link_iterable_by_fields\n"
     ]
    },
    {
     "name": "stderr",
     "output_type": "stream",
     "text": [
      "Writing activities to SQLite3 database:\n"
     ]
    },
    {
     "name": "stdout",
     "output_type": "stream",
     "text": [
      "Wrote matching file to:\n",
      "C:\\Users\\sheep\\AppData\\Local\\pylca\\Brightway3\\SOFC.6b6e45b646d3f7510875adf749c4e552\\output\\db-matching-PAFC-import.xlsx\n"
     ]
    },
    {
     "name": "stderr",
     "output_type": "stream",
     "text": [
      "0% [##############] 100% | ETA: 00:00:00\n",
      "Total time elapsed: 00:00:00\n"
     ]
    },
    {
     "name": "stdout",
     "output_type": "stream",
     "text": [
      "Title: Writing activities to SQLite3 database:\n",
      "  Started: 01/10/2022 14:30:06\n",
      "  Finished: 01/10/2022 14:30:06\n",
      "  Total time elapsed: 00:00:00\n",
      "  CPU %: 195.30\n",
      "  Memory %: 3.11\n",
      "Created database: PAFC import\n"
     ]
    },
    {
     "data": {
      "application/javascript": [
       "\n",
       "            setTimeout(function() {\n",
       "                var nbb_cell_id = 12;\n",
       "                var nbb_unformatted_code = \"# Setup database foreground for PAFC\\nPAFC = bw.ExcelImporter(\\n    r\\\"D:\\\\tencent_files\\\\chrome_Download\\\\Research\\\\LCA\\\\LCA SOFC\\\\BW2Import\\\\PAFC_Import.xlsx\\\"\\n)\\nPAFC.apply_strategies(verbose=False)\\nPAFC.match_database(\\n    \\\"ecoinvent 3.6\\\", fields=(\\\"name\\\", \\\"unit\\\", \\\"location\\\", \\\"reference product\\\")\\n)\\nPAFC.statistics(print_stats=False)\\nPAFC.write_excel()\\nPAFC.write_database()\";\n",
       "                var nbb_formatted_code = \"# Setup database foreground for PAFC\\nPAFC = bw.ExcelImporter(\\n    r\\\"D:\\\\tencent_files\\\\chrome_Download\\\\Research\\\\LCA\\\\LCA SOFC\\\\BW2Import\\\\PAFC_Import.xlsx\\\"\\n)\\nPAFC.apply_strategies(verbose=False)\\nPAFC.match_database(\\n    \\\"ecoinvent 3.6\\\", fields=(\\\"name\\\", \\\"unit\\\", \\\"location\\\", \\\"reference product\\\")\\n)\\nPAFC.statistics(print_stats=False)\\nPAFC.write_excel()\\nPAFC.write_database()\";\n",
       "                var nbb_cells = Jupyter.notebook.get_cells();\n",
       "                for (var i = 0; i < nbb_cells.length; ++i) {\n",
       "                    if (nbb_cells[i].input_prompt_number == nbb_cell_id) {\n",
       "                        if (nbb_cells[i].get_text() == nbb_unformatted_code) {\n",
       "                             nbb_cells[i].set_text(nbb_formatted_code);\n",
       "                        }\n",
       "                        break;\n",
       "                    }\n",
       "                }\n",
       "            }, 500);\n",
       "            "
      ],
      "text/plain": [
       "<IPython.core.display.Javascript object>"
      ]
     },
     "metadata": {},
     "output_type": "display_data"
    }
   ],
   "source": [
    "# Setup database foreground for PAFC\n",
    "PAFC = bw.ExcelImporter(\n",
    "    r\"D:\\tencent_files\\chrome_Download\\Research\\LCA\\LCA SOFC\\BW2Import\\PAFC_Import.xlsx\"\n",
    ")\n",
    "PAFC.apply_strategies(verbose=False)\n",
    "PAFC.match_database(\n",
    "    \"ecoinvent 3.6\", fields=(\"name\", \"unit\", \"location\", \"reference product\")\n",
    ")\n",
    "PAFC.statistics(print_stats=False)\n",
    "PAFC.write_excel()\n",
    "PAFC.write_database()"
   ]
  },
  {
   "cell_type": "code",
   "execution_count": 13,
   "metadata": {},
   "outputs": [
    {
     "name": "stdout",
     "output_type": "stream",
     "text": [
      "Extracted 1 worksheets in 0.32 seconds\n",
      "Applying strategy: link_iterable_by_fields\n"
     ]
    },
    {
     "name": "stderr",
     "output_type": "stream",
     "text": [
      "Writing activities to SQLite3 database:\n"
     ]
    },
    {
     "name": "stdout",
     "output_type": "stream",
     "text": [
      "Wrote matching file to:\n",
      "C:\\Users\\sheep\\AppData\\Local\\pylca\\Brightway3\\SOFC.6b6e45b646d3f7510875adf749c4e552\\output\\db-matching-PEMFC-import.xlsx\n"
     ]
    },
    {
     "name": "stderr",
     "output_type": "stream",
     "text": [
      "0% [##############] 100% | ETA: 00:00:00\n",
      "Total time elapsed: 00:00:00\n"
     ]
    },
    {
     "name": "stdout",
     "output_type": "stream",
     "text": [
      "Title: Writing activities to SQLite3 database:\n",
      "  Started: 01/10/2022 14:30:08\n",
      "  Finished: 01/10/2022 14:30:08\n",
      "  Total time elapsed: 00:00:00\n",
      "  CPU %: 0.00\n",
      "  Memory %: 3.20\n",
      "Created database: PEMFC import\n"
     ]
    },
    {
     "data": {
      "application/javascript": [
       "\n",
       "            setTimeout(function() {\n",
       "                var nbb_cell_id = 13;\n",
       "                var nbb_unformatted_code = \"# Setup database foreground for PEMFC\\nPEMFC = bw.ExcelImporter(\\n    r\\\"D:\\\\tencent_files\\\\chrome_Download\\\\Research\\\\LCA\\\\LCA SOFC\\\\BW2Import\\\\PEMFC_Import.xlsx\\\"\\n)\\nPEMFC.apply_strategies(verbose=False)\\nPEMFC.match_database(\\n    \\\"ecoinvent 3.6\\\", fields=(\\\"name\\\", \\\"unit\\\", \\\"location\\\", \\\"reference product\\\")\\n)\\nPEMFC.statistics(print_stats=False)\\nPEMFC.write_excel()\\nPEMFC.write_database()\";\n",
       "                var nbb_formatted_code = \"# Setup database foreground for PEMFC\\nPEMFC = bw.ExcelImporter(\\n    r\\\"D:\\\\tencent_files\\\\chrome_Download\\\\Research\\\\LCA\\\\LCA SOFC\\\\BW2Import\\\\PEMFC_Import.xlsx\\\"\\n)\\nPEMFC.apply_strategies(verbose=False)\\nPEMFC.match_database(\\n    \\\"ecoinvent 3.6\\\", fields=(\\\"name\\\", \\\"unit\\\", \\\"location\\\", \\\"reference product\\\")\\n)\\nPEMFC.statistics(print_stats=False)\\nPEMFC.write_excel()\\nPEMFC.write_database()\";\n",
       "                var nbb_cells = Jupyter.notebook.get_cells();\n",
       "                for (var i = 0; i < nbb_cells.length; ++i) {\n",
       "                    if (nbb_cells[i].input_prompt_number == nbb_cell_id) {\n",
       "                        if (nbb_cells[i].get_text() == nbb_unformatted_code) {\n",
       "                             nbb_cells[i].set_text(nbb_formatted_code);\n",
       "                        }\n",
       "                        break;\n",
       "                    }\n",
       "                }\n",
       "            }, 500);\n",
       "            "
      ],
      "text/plain": [
       "<IPython.core.display.Javascript object>"
      ]
     },
     "metadata": {},
     "output_type": "display_data"
    }
   ],
   "source": [
    "# Setup database foreground for PEMFC\n",
    "PEMFC = bw.ExcelImporter(\n",
    "    r\"D:\\tencent_files\\chrome_Download\\Research\\LCA\\LCA SOFC\\BW2Import\\PEMFC_Import.xlsx\"\n",
    ")\n",
    "PEMFC.apply_strategies(verbose=False)\n",
    "PEMFC.match_database(\n",
    "    \"ecoinvent 3.6\", fields=(\"name\", \"unit\", \"location\", \"reference product\")\n",
    ")\n",
    "PEMFC.statistics(print_stats=False)\n",
    "PEMFC.write_excel()\n",
    "PEMFC.write_database()"
   ]
  },
  {
   "cell_type": "code",
   "execution_count": 14,
   "metadata": {},
   "outputs": [
    {
     "name": "stderr",
     "output_type": "stream",
     "text": [
      "D:\\Users\\sheep\\anaconda3\\lib\\site-packages\\bw2io\\importers\\excel.py:41: UserWarning: Invalid first cell (A1) in worksheet Sheet2\n",
      "  warnings.warn(\"Invalid first cell (A1) in worksheet {}\".format(sheet))\n",
      "D:\\Users\\sheep\\anaconda3\\lib\\site-packages\\bw2io\\importers\\excel.py:41: UserWarning: Invalid first cell (A1) in worksheet Sheet3\n",
      "  warnings.warn(\"Invalid first cell (A1) in worksheet {}\".format(sheet))\n"
     ]
    },
    {
     "name": "stdout",
     "output_type": "stream",
     "text": [
      "Extracted 1 worksheets in 0.07 seconds\n",
      "Extracted 1 worksheets in 0.04 seconds\n",
      "Extracted 1 worksheets in 0.01 seconds\n",
      "Extracted 1 worksheets in 0.04 seconds\n",
      "Applying strategy: link_iterable_by_fields\n"
     ]
    },
    {
     "name": "stderr",
     "output_type": "stream",
     "text": [
      "Writing activities to SQLite3 database:\n",
      "0% [#############] 100% | ETA: 00:00:00\n",
      "Total time elapsed: 00:00:00\n"
     ]
    },
    {
     "name": "stdout",
     "output_type": "stream",
     "text": [
      "Title: Writing activities to SQLite3 database:\n",
      "  Started: 01/10/2022 14:30:11\n",
      "  Finished: 01/10/2022 14:30:11\n",
      "  Total time elapsed: 00:00:00\n",
      "  CPU %: 104.20\n",
      "  Memory %: 3.28\n",
      "Created database: RE SOFC import\n",
      "Applying strategy: link_iterable_by_fields\n"
     ]
    },
    {
     "name": "stderr",
     "output_type": "stream",
     "text": [
      "Writing activities to SQLite3 database:\n",
      "0% [#########] 100% | ETA: 00:00:00\n",
      "Total time elapsed: 00:00:00\n"
     ]
    },
    {
     "name": "stdout",
     "output_type": "stream",
     "text": [
      "Title: Writing activities to SQLite3 database:\n",
      "  Started: 01/10/2022 14:30:13\n",
      "  Finished: 01/10/2022 14:30:13\n",
      "  Total time elapsed: 00:00:00\n",
      "  CPU %: 104.20\n",
      "  Memory %: 3.35\n",
      "Created database: RE MCFC import\n",
      "Applying strategy: link_iterable_by_fields\n"
     ]
    },
    {
     "name": "stderr",
     "output_type": "stream",
     "text": [
      "Writing activities to SQLite3 database:\n",
      "0% [#########] 100% | ETA: 00:00:00\n",
      "Total time elapsed: 00:00:00\n"
     ]
    },
    {
     "name": "stdout",
     "output_type": "stream",
     "text": [
      "Title: Writing activities to SQLite3 database:\n",
      "  Started: 01/10/2022 14:30:15\n",
      "  Finished: 01/10/2022 14:30:15\n",
      "  Total time elapsed: 00:00:00\n",
      "  CPU %: 104.20\n",
      "  Memory %: 3.45\n",
      "Created database: RE PAFC import\n",
      "Applying strategy: link_iterable_by_fields\n"
     ]
    },
    {
     "name": "stderr",
     "output_type": "stream",
     "text": [
      "Writing activities to SQLite3 database:\n",
      "0% [#########] 100% | ETA: 00:00:00\n",
      "Total time elapsed: 00:00:00\n"
     ]
    },
    {
     "name": "stdout",
     "output_type": "stream",
     "text": [
      "Title: Writing activities to SQLite3 database:\n",
      "  Started: 01/10/2022 14:30:18\n",
      "  Finished: 01/10/2022 14:30:18\n",
      "  Total time elapsed: 00:00:00\n",
      "  CPU %: 0.00\n",
      "  Memory %: 3.49\n",
      "Created database: RE PEMFC import\n"
     ]
    },
    {
     "data": {
      "application/javascript": [
       "\n",
       "            setTimeout(function() {\n",
       "                var nbb_cell_id = 14;\n",
       "                var nbb_unformatted_code = \"# Setup database foreground for RE_fuel cell manufacturing\\n\\n# PEMFC\\nRE_PEMFC = bw.ExcelImporter(\\n    r\\\"D:\\\\tencent_files\\\\chrome_Download\\\\Research\\\\LCA\\\\LCA SOFC\\\\BW2Import\\\\RE_PEMFC_Import.xlsx\\\"\\n)\\n\\n# SOFC\\nRE_SOFC = bw.ExcelImporter(\\n    r\\\"D:\\\\tencent_files\\\\chrome_Download\\\\Research\\\\LCA\\\\LCA SOFC\\\\BW2Import\\\\RE_SOFC_Import.xlsx\\\"\\n)\\n\\n# MCFC\\nRE_MCFC = bw.ExcelImporter(\\n    r\\\"D:\\\\tencent_files\\\\chrome_Download\\\\Research\\\\LCA\\\\LCA SOFC\\\\BW2Import\\\\RE_MCFC_Import.xlsx\\\"\\n)\\n\\n# PAFC\\nRE_PAFC = bw.ExcelImporter(\\n    r\\\"D:\\\\tencent_files\\\\chrome_Download\\\\Research\\\\LCA\\\\LCA SOFC\\\\BW2Import\\\\RE_PAFC_Import.xlsx\\\"\\n)\\n\\nRE_databases = [RE_SOFC, RE_MCFC, RE_PAFC, RE_PEMFC]\\n\\nfor database in RE_databases:\\n    database.apply_strategies(verbose=False)\\n    database.match_database(\\n        \\\"ecoinvent 3.6\\\", fields=(\\\"name\\\", \\\"unit\\\", \\\"location\\\", \\\"reference product\\\")\\n    )\\n    database.statistics(print_stats=False)\\n    # database.write_excel()\\n    database.write_database(verbose=False)\";\n",
       "                var nbb_formatted_code = \"# Setup database foreground for RE_fuel cell manufacturing\\n\\n# PEMFC\\nRE_PEMFC = bw.ExcelImporter(\\n    r\\\"D:\\\\tencent_files\\\\chrome_Download\\\\Research\\\\LCA\\\\LCA SOFC\\\\BW2Import\\\\RE_PEMFC_Import.xlsx\\\"\\n)\\n\\n# SOFC\\nRE_SOFC = bw.ExcelImporter(\\n    r\\\"D:\\\\tencent_files\\\\chrome_Download\\\\Research\\\\LCA\\\\LCA SOFC\\\\BW2Import\\\\RE_SOFC_Import.xlsx\\\"\\n)\\n\\n# MCFC\\nRE_MCFC = bw.ExcelImporter(\\n    r\\\"D:\\\\tencent_files\\\\chrome_Download\\\\Research\\\\LCA\\\\LCA SOFC\\\\BW2Import\\\\RE_MCFC_Import.xlsx\\\"\\n)\\n\\n# PAFC\\nRE_PAFC = bw.ExcelImporter(\\n    r\\\"D:\\\\tencent_files\\\\chrome_Download\\\\Research\\\\LCA\\\\LCA SOFC\\\\BW2Import\\\\RE_PAFC_Import.xlsx\\\"\\n)\\n\\nRE_databases = [RE_SOFC, RE_MCFC, RE_PAFC, RE_PEMFC]\\n\\nfor database in RE_databases:\\n    database.apply_strategies(verbose=False)\\n    database.match_database(\\n        \\\"ecoinvent 3.6\\\", fields=(\\\"name\\\", \\\"unit\\\", \\\"location\\\", \\\"reference product\\\")\\n    )\\n    database.statistics(print_stats=False)\\n    # database.write_excel()\\n    database.write_database(verbose=False)\";\n",
       "                var nbb_cells = Jupyter.notebook.get_cells();\n",
       "                for (var i = 0; i < nbb_cells.length; ++i) {\n",
       "                    if (nbb_cells[i].input_prompt_number == nbb_cell_id) {\n",
       "                        if (nbb_cells[i].get_text() == nbb_unformatted_code) {\n",
       "                             nbb_cells[i].set_text(nbb_formatted_code);\n",
       "                        }\n",
       "                        break;\n",
       "                    }\n",
       "                }\n",
       "            }, 500);\n",
       "            "
      ],
      "text/plain": [
       "<IPython.core.display.Javascript object>"
      ]
     },
     "metadata": {},
     "output_type": "display_data"
    }
   ],
   "source": [
    "# Setup database foreground for RE_fuel cell manufacturing\n",
    "\n",
    "# PEMFC\n",
    "RE_PEMFC = bw.ExcelImporter(\n",
    "    r\"D:\\tencent_files\\chrome_Download\\Research\\LCA\\LCA SOFC\\BW2Import\\RE_PEMFC_Import.xlsx\"\n",
    ")\n",
    "\n",
    "# SOFC\n",
    "RE_SOFC = bw.ExcelImporter(\n",
    "    r\"D:\\tencent_files\\chrome_Download\\Research\\LCA\\LCA SOFC\\BW2Import\\RE_SOFC_Import.xlsx\"\n",
    ")\n",
    "\n",
    "# MCFC\n",
    "RE_MCFC = bw.ExcelImporter(\n",
    "    r\"D:\\tencent_files\\chrome_Download\\Research\\LCA\\LCA SOFC\\BW2Import\\RE_MCFC_Import.xlsx\"\n",
    ")\n",
    "\n",
    "# PAFC\n",
    "RE_PAFC = bw.ExcelImporter(\n",
    "    r\"D:\\tencent_files\\chrome_Download\\Research\\LCA\\LCA SOFC\\BW2Import\\RE_PAFC_Import.xlsx\"\n",
    ")\n",
    "\n",
    "RE_databases = [RE_SOFC, RE_MCFC, RE_PAFC, RE_PEMFC]\n",
    "\n",
    "for database in RE_databases:\n",
    "    database.apply_strategies(verbose=False)\n",
    "    database.match_database(\n",
    "        \"ecoinvent 3.6\", fields=(\"name\", \"unit\", \"location\", \"reference product\")\n",
    "    )\n",
    "    database.statistics(print_stats=False)\n",
    "    # database.write_excel()\n",
    "    database.write_database(verbose=False)"
   ]
  },
  {
   "cell_type": "code",
   "execution_count": 15,
   "metadata": {},
   "outputs": [
    {
     "name": "stdout",
     "output_type": "stream",
     "text": [
      "Extracted 1 worksheets in 0.12 seconds\n",
      "Applying strategy: link_iterable_by_fields\n"
     ]
    },
    {
     "name": "stderr",
     "output_type": "stream",
     "text": [
      "Writing activities to SQLite3 database:\n"
     ]
    },
    {
     "name": "stdout",
     "output_type": "stream",
     "text": [
      "5 datasets\n",
      "23 exchanges\n",
      "0 unlinked exchanges\n",
      "  \n",
      "Wrote matching file to:\n",
      "C:\\Users\\sheep\\AppData\\Local\\pylca\\Brightway3\\SOFC.6b6e45b646d3f7510875adf749c4e552\\output\\db-matching-operation.xlsx\n"
     ]
    },
    {
     "name": "stderr",
     "output_type": "stream",
     "text": [
      "0% [#####] 100% | ETA: 00:00:00\n",
      "Total time elapsed: 00:00:00\n"
     ]
    },
    {
     "name": "stdout",
     "output_type": "stream",
     "text": [
      "Title: Writing activities to SQLite3 database:\n",
      "  Started: 01/10/2022 14:30:20\n",
      "  Finished: 01/10/2022 14:30:20\n",
      "  Total time elapsed: 00:00:00\n",
      "  CPU %: 0.00\n",
      "  Memory %: 3.56\n",
      "Created database: operation\n"
     ]
    },
    {
     "data": {
      "application/javascript": [
       "\n",
       "            setTimeout(function() {\n",
       "                var nbb_cell_id = 15;\n",
       "                var nbb_unformatted_code = \"# setup database for operation\\nlink = r\\\"D:\\\\tencent_files\\\\chrome_Download\\\\Research\\\\LCA\\\\LCA SOFC\\\\BW2Import\\\\operation_import.xlsx\\\"\\nop_db = bw.ExcelImporter(link)\\nop_db.apply_strategies(verbose=False)\\nop_db.match_database(\\n    db_name=\\\"ecoinvent 3.6\\\", fields=[\\\"name\\\", \\\"unit\\\", \\\"location\\\", \\\"uncertainty\\\"]\\n)\\nop_db.statistics()\\nop_db.write_excel()\\nop_db.write_database()\";\n",
       "                var nbb_formatted_code = \"# setup database for operation\\nlink = r\\\"D:\\\\tencent_files\\\\chrome_Download\\\\Research\\\\LCA\\\\LCA SOFC\\\\BW2Import\\\\operation_import.xlsx\\\"\\nop_db = bw.ExcelImporter(link)\\nop_db.apply_strategies(verbose=False)\\nop_db.match_database(\\n    db_name=\\\"ecoinvent 3.6\\\", fields=[\\\"name\\\", \\\"unit\\\", \\\"location\\\", \\\"uncertainty\\\"]\\n)\\nop_db.statistics()\\nop_db.write_excel()\\nop_db.write_database()\";\n",
       "                var nbb_cells = Jupyter.notebook.get_cells();\n",
       "                for (var i = 0; i < nbb_cells.length; ++i) {\n",
       "                    if (nbb_cells[i].input_prompt_number == nbb_cell_id) {\n",
       "                        if (nbb_cells[i].get_text() == nbb_unformatted_code) {\n",
       "                             nbb_cells[i].set_text(nbb_formatted_code);\n",
       "                        }\n",
       "                        break;\n",
       "                    }\n",
       "                }\n",
       "            }, 500);\n",
       "            "
      ],
      "text/plain": [
       "<IPython.core.display.Javascript object>"
      ]
     },
     "metadata": {},
     "output_type": "display_data"
    }
   ],
   "source": [
    "# setup database for operation\n",
    "link = r\"D:\\tencent_files\\chrome_Download\\Research\\LCA\\LCA SOFC\\BW2Import\\operation_import.xlsx\"\n",
    "op_db = bw.ExcelImporter(link)\n",
    "op_db.apply_strategies(verbose=False)\n",
    "op_db.match_database(\n",
    "    db_name=\"ecoinvent 3.6\", fields=[\"name\", \"unit\", \"location\", \"uncertainty\"]\n",
    ")\n",
    "op_db.statistics()\n",
    "op_db.write_excel()\n",
    "op_db.write_database()"
   ]
  },
  {
   "cell_type": "code",
   "execution_count": 16,
   "metadata": {},
   "outputs": [
    {
     "name": "stdout",
     "output_type": "stream",
     "text": [
      "Extracted 1 worksheets in 0.12 seconds\n",
      "Applying strategy: link_iterable_by_fields\n"
     ]
    },
    {
     "name": "stderr",
     "output_type": "stream",
     "text": [
      "Writing activities to SQLite3 database:\n"
     ]
    },
    {
     "name": "stdout",
     "output_type": "stream",
     "text": [
      "6 datasets\n",
      "24 exchanges\n",
      "0 unlinked exchanges\n",
      "  \n",
      "Wrote matching file to:\n",
      "C:\\Users\\sheep\\AppData\\Local\\pylca\\Brightway3\\SOFC.6b6e45b646d3f7510875adf749c4e552\\output\\db-matching-RE-operation.xlsx\n"
     ]
    },
    {
     "name": "stderr",
     "output_type": "stream",
     "text": [
      "0% [######] 100% | ETA: 00:00:00\n",
      "Total time elapsed: 00:00:00\n"
     ]
    },
    {
     "name": "stdout",
     "output_type": "stream",
     "text": [
      "Title: Writing activities to SQLite3 database:\n",
      "  Started: 01/10/2022 14:30:23\n",
      "  Finished: 01/10/2022 14:30:23\n",
      "  Total time elapsed: 00:00:00\n",
      "  CPU %: 195.30\n",
      "  Memory %: 3.58\n",
      "Created database: RE operation\n"
     ]
    },
    {
     "data": {
      "application/javascript": [
       "\n",
       "            setTimeout(function() {\n",
       "                var nbb_cell_id = 16;\n",
       "                var nbb_unformatted_code = \"# setup database for RE fuel cell RE_operation\\nlink = r\\\"D:\\\\tencent_files\\\\chrome_Download\\\\Research\\\\LCA\\\\LCA SOFC\\\\BW2Import\\\\RE_operation_import.xlsx\\\"\\nRE_op_db = bw.ExcelImporter(link)\\nRE_op_db.apply_strategies(verbose=False)\\nRE_op_db.match_database(\\n    db_name=\\\"ecoinvent 3.6\\\",\\n    fields=[\\\"name\\\", \\\"unit\\\", \\\"location\\\", \\\"reference product\\\", \\\"uncertainty\\\"],\\n)\\nRE_op_db.statistics()\\nRE_op_db.write_excel()\\nRE_op_db.write_database()\";\n",
       "                var nbb_formatted_code = \"# setup database for RE fuel cell RE_operation\\nlink = r\\\"D:\\\\tencent_files\\\\chrome_Download\\\\Research\\\\LCA\\\\LCA SOFC\\\\BW2Import\\\\RE_operation_import.xlsx\\\"\\nRE_op_db = bw.ExcelImporter(link)\\nRE_op_db.apply_strategies(verbose=False)\\nRE_op_db.match_database(\\n    db_name=\\\"ecoinvent 3.6\\\",\\n    fields=[\\\"name\\\", \\\"unit\\\", \\\"location\\\", \\\"reference product\\\", \\\"uncertainty\\\"],\\n)\\nRE_op_db.statistics()\\nRE_op_db.write_excel()\\nRE_op_db.write_database()\";\n",
       "                var nbb_cells = Jupyter.notebook.get_cells();\n",
       "                for (var i = 0; i < nbb_cells.length; ++i) {\n",
       "                    if (nbb_cells[i].input_prompt_number == nbb_cell_id) {\n",
       "                        if (nbb_cells[i].get_text() == nbb_unformatted_code) {\n",
       "                             nbb_cells[i].set_text(nbb_formatted_code);\n",
       "                        }\n",
       "                        break;\n",
       "                    }\n",
       "                }\n",
       "            }, 500);\n",
       "            "
      ],
      "text/plain": [
       "<IPython.core.display.Javascript object>"
      ]
     },
     "metadata": {},
     "output_type": "display_data"
    }
   ],
   "source": [
    "# setup database for RE fuel cell RE_operation\n",
    "link = r\"D:\\tencent_files\\chrome_Download\\Research\\LCA\\LCA SOFC\\BW2Import\\RE_operation_import.xlsx\"\n",
    "RE_op_db = bw.ExcelImporter(link)\n",
    "RE_op_db.apply_strategies(verbose=False)\n",
    "RE_op_db.match_database(\n",
    "    db_name=\"ecoinvent 3.6\",\n",
    "    fields=[\"name\", \"unit\", \"location\", \"reference product\", \"uncertainty\"],\n",
    ")\n",
    "RE_op_db.statistics()\n",
    "RE_op_db.write_excel()\n",
    "RE_op_db.write_database()"
   ]
  },
  {
   "cell_type": "code",
   "execution_count": 17,
   "metadata": {},
   "outputs": [
    {
     "name": "stdout",
     "output_type": "stream",
     "text": [
      "Extracted 1 worksheets in 0.05 seconds\n",
      "Applying strategy: link_iterable_by_fields\n"
     ]
    },
    {
     "name": "stderr",
     "output_type": "stream",
     "text": [
      "Writing activities to SQLite3 database:\n"
     ]
    },
    {
     "name": "stdout",
     "output_type": "stream",
     "text": [
      "5 datasets\n",
      "8 exchanges\n",
      "0 unlinked exchanges\n",
      "  \n",
      "Wrote matching file to:\n",
      "C:\\Users\\sheep\\AppData\\Local\\pylca\\Brightway3\\SOFC.6b6e45b646d3f7510875adf749c4e552\\output\\db-matching-systemExpansion.xlsx\n"
     ]
    },
    {
     "name": "stderr",
     "output_type": "stream",
     "text": [
      "0% [#####] 100% | ETA: 00:00:00\n",
      "Total time elapsed: 00:00:00\n"
     ]
    },
    {
     "name": "stdout",
     "output_type": "stream",
     "text": [
      "Title: Writing activities to SQLite3 database:\n",
      "  Started: 01/10/2022 14:30:25\n",
      "  Finished: 01/10/2022 14:30:25\n",
      "  Total time elapsed: 00:00:00\n",
      "  CPU %: 104.20\n",
      "  Memory %: 3.60\n",
      "Created database: systemExpansion\n"
     ]
    },
    {
     "data": {
      "application/javascript": [
       "\n",
       "            setTimeout(function() {\n",
       "                var nbb_cell_id = 17;\n",
       "                var nbb_unformatted_code = \"# setup database for system expansion\\nsys_expan = bw.ExcelImporter(\\n    r\\\"D:\\\\tencent_files\\\\chrome_Download\\\\Research\\\\LCA\\\\LCA SOFC\\\\BW2Import\\\\SystemExpansion.xlsx\\\"\\n)\\nsys_expan.apply_strategies(verbose=False)\\nsys_expan.match_database(\\n    \\\"ecoinvent 3.6\\\", fields=[\\\"name\\\", \\\"unit\\\", \\\"location\\\", \\\"uncertainty\\\"]\\n)\\nsys_expan.statistics()\\nsys_expan.write_excel()\\nsys_expan.write_database()\";\n",
       "                var nbb_formatted_code = \"# setup database for system expansion\\nsys_expan = bw.ExcelImporter(\\n    r\\\"D:\\\\tencent_files\\\\chrome_Download\\\\Research\\\\LCA\\\\LCA SOFC\\\\BW2Import\\\\SystemExpansion.xlsx\\\"\\n)\\nsys_expan.apply_strategies(verbose=False)\\nsys_expan.match_database(\\n    \\\"ecoinvent 3.6\\\", fields=[\\\"name\\\", \\\"unit\\\", \\\"location\\\", \\\"uncertainty\\\"]\\n)\\nsys_expan.statistics()\\nsys_expan.write_excel()\\nsys_expan.write_database()\";\n",
       "                var nbb_cells = Jupyter.notebook.get_cells();\n",
       "                for (var i = 0; i < nbb_cells.length; ++i) {\n",
       "                    if (nbb_cells[i].input_prompt_number == nbb_cell_id) {\n",
       "                        if (nbb_cells[i].get_text() == nbb_unformatted_code) {\n",
       "                             nbb_cells[i].set_text(nbb_formatted_code);\n",
       "                        }\n",
       "                        break;\n",
       "                    }\n",
       "                }\n",
       "            }, 500);\n",
       "            "
      ],
      "text/plain": [
       "<IPython.core.display.Javascript object>"
      ]
     },
     "metadata": {},
     "output_type": "display_data"
    }
   ],
   "source": [
    "# setup database for system expansion\n",
    "sys_expan = bw.ExcelImporter(\n",
    "    r\"D:\\tencent_files\\chrome_Download\\Research\\LCA\\LCA SOFC\\BW2Import\\SystemExpansion.xlsx\"\n",
    ")\n",
    "sys_expan.apply_strategies(verbose=False)\n",
    "sys_expan.match_database(\n",
    "    \"ecoinvent 3.6\", fields=[\"name\", \"unit\", \"location\", \"uncertainty\"]\n",
    ")\n",
    "sys_expan.statistics()\n",
    "sys_expan.write_excel()\n",
    "sys_expan.write_database()"
   ]
  },
  {
   "cell_type": "code",
   "execution_count": 18,
   "metadata": {},
   "outputs": [
    {
     "data": {
      "text/plain": [
       "Databases dictionary with 13 object(s):\n",
       "\tMCFC import\n",
       "\tPAFC import\n",
       "\tPEMFC import\n",
       "\tRE MCFC import\n",
       "\tRE PAFC import\n",
       "\tRE PEMFC import\n",
       "\tRE SOFC import\n",
       "\tRE operation\n",
       "\tSOFC import\n",
       "\tbiosphere3\n",
       "\tecoinvent 3.6\n",
       "\toperation\n",
       "\tsystemExpansion"
      ]
     },
     "execution_count": 18,
     "metadata": {},
     "output_type": "execute_result"
    },
    {
     "data": {
      "application/javascript": [
       "\n",
       "            setTimeout(function() {\n",
       "                var nbb_cell_id = 18;\n",
       "                var nbb_unformatted_code = \"bw.databases\";\n",
       "                var nbb_formatted_code = \"bw.databases\";\n",
       "                var nbb_cells = Jupyter.notebook.get_cells();\n",
       "                for (var i = 0; i < nbb_cells.length; ++i) {\n",
       "                    if (nbb_cells[i].input_prompt_number == nbb_cell_id) {\n",
       "                        if (nbb_cells[i].get_text() == nbb_unformatted_code) {\n",
       "                             nbb_cells[i].set_text(nbb_formatted_code);\n",
       "                        }\n",
       "                        break;\n",
       "                    }\n",
       "                }\n",
       "            }, 500);\n",
       "            "
      ],
      "text/plain": [
       "<IPython.core.display.Javascript object>"
      ]
     },
     "metadata": {},
     "output_type": "display_data"
    }
   ],
   "source": [
    "bw.databases"
   ]
  },
  {
   "cell_type": "code",
   "execution_count": 19,
   "metadata": {},
   "outputs": [
    {
     "data": {
      "application/javascript": [
       "\n",
       "            setTimeout(function() {\n",
       "                var nbb_cell_id = 19;\n",
       "                var nbb_unformatted_code = \"# instantiate database object\\n# databases for natural gas fuel cells\\nSOFC_import = bw.Database(\\\"SOFC import\\\")\\nMCFC_import = bw.Database(\\\"MCFC import\\\")\\nPAFC_import = bw.Database(\\\"PAFC import\\\")\\nPEMFC_import = bw.Database(\\\"PEMFC import\\\")\\nop_db_import = bw.Database(\\\"operation\\\")\\n\\n# databases for renewable energy fuel cells\\nRE_SOFC_import = bw.Database(\\\"RE SOFC import\\\")\\nRE_MCFC_import = bw.Database(\\\"RE MCFC import\\\")\\nRE_PAFC_import = bw.Database(\\\"RE PAFC import\\\")\\nRE_PEMFC_import = bw.Database(\\\"RE PEMFC import\\\")\\nRE_op_db_import = bw.Database(\\\"RE operation\\\")\\n\\n# system expansion\\nsys_exp_import = bw.Database(\\\"systemExpansion\\\")\";\n",
       "                var nbb_formatted_code = \"# instantiate database object\\n# databases for natural gas fuel cells\\nSOFC_import = bw.Database(\\\"SOFC import\\\")\\nMCFC_import = bw.Database(\\\"MCFC import\\\")\\nPAFC_import = bw.Database(\\\"PAFC import\\\")\\nPEMFC_import = bw.Database(\\\"PEMFC import\\\")\\nop_db_import = bw.Database(\\\"operation\\\")\\n\\n# databases for renewable energy fuel cells\\nRE_SOFC_import = bw.Database(\\\"RE SOFC import\\\")\\nRE_MCFC_import = bw.Database(\\\"RE MCFC import\\\")\\nRE_PAFC_import = bw.Database(\\\"RE PAFC import\\\")\\nRE_PEMFC_import = bw.Database(\\\"RE PEMFC import\\\")\\nRE_op_db_import = bw.Database(\\\"RE operation\\\")\\n\\n# system expansion\\nsys_exp_import = bw.Database(\\\"systemExpansion\\\")\";\n",
       "                var nbb_cells = Jupyter.notebook.get_cells();\n",
       "                for (var i = 0; i < nbb_cells.length; ++i) {\n",
       "                    if (nbb_cells[i].input_prompt_number == nbb_cell_id) {\n",
       "                        if (nbb_cells[i].get_text() == nbb_unformatted_code) {\n",
       "                             nbb_cells[i].set_text(nbb_formatted_code);\n",
       "                        }\n",
       "                        break;\n",
       "                    }\n",
       "                }\n",
       "            }, 500);\n",
       "            "
      ],
      "text/plain": [
       "<IPython.core.display.Javascript object>"
      ]
     },
     "metadata": {},
     "output_type": "display_data"
    }
   ],
   "source": [
    "# instantiate database object\n",
    "# databases for natural gas fuel cells\n",
    "SOFC_import = bw.Database(\"SOFC import\")\n",
    "MCFC_import = bw.Database(\"MCFC import\")\n",
    "PAFC_import = bw.Database(\"PAFC import\")\n",
    "PEMFC_import = bw.Database(\"PEMFC import\")\n",
    "op_db_import = bw.Database(\"operation\")\n",
    "\n",
    "# databases for renewable energy fuel cells\n",
    "RE_SOFC_import = bw.Database(\"RE SOFC import\")\n",
    "RE_MCFC_import = bw.Database(\"RE MCFC import\")\n",
    "RE_PAFC_import = bw.Database(\"RE PAFC import\")\n",
    "RE_PEMFC_import = bw.Database(\"RE PEMFC import\")\n",
    "RE_op_db_import = bw.Database(\"RE operation\")\n",
    "\n",
    "# system expansion\n",
    "sys_exp_import = bw.Database(\"systemExpansion\")"
   ]
  },
  {
   "cell_type": "code",
   "execution_count": 20,
   "metadata": {},
   "outputs": [
    {
     "data": {
      "text/plain": [
       "['electricity_sofc' (kilowatt hour, GLO, None),\n",
       " 'electricity_pemfc' (kilowatt hour, GLO, None),\n",
       " 'electricity_pafc' (kilowatt hour, GLO, None),\n",
       " 'electricity_mcfc' (kilowatt hour, GLO, None),\n",
       " 'hydrogen production' (kilogram, RoW, None),\n",
       " 'electricity production' (pcs, GLO, None)]"
      ]
     },
     "execution_count": 20,
     "metadata": {},
     "output_type": "execute_result"
    },
    {
     "data": {
      "application/javascript": [
       "\n",
       "            setTimeout(function() {\n",
       "                var nbb_cell_id = 20;\n",
       "                var nbb_unformatted_code = \"list(RE_op_db_import)\";\n",
       "                var nbb_formatted_code = \"list(RE_op_db_import)\";\n",
       "                var nbb_cells = Jupyter.notebook.get_cells();\n",
       "                for (var i = 0; i < nbb_cells.length; ++i) {\n",
       "                    if (nbb_cells[i].input_prompt_number == nbb_cell_id) {\n",
       "                        if (nbb_cells[i].get_text() == nbb_unformatted_code) {\n",
       "                             nbb_cells[i].set_text(nbb_formatted_code);\n",
       "                        }\n",
       "                        break;\n",
       "                    }\n",
       "                }\n",
       "            }, 500);\n",
       "            "
      ],
      "text/plain": [
       "<IPython.core.display.Javascript object>"
      ]
     },
     "metadata": {},
     "output_type": "display_data"
    }
   ],
   "source": [
    "list(RE_op_db_import)"
   ]
  },
  {
   "cell_type": "markdown",
   "metadata": {},
   "source": [
    "# Setup LCA Calc "
   ]
  },
  {
   "cell_type": "markdown",
   "metadata": {},
   "source": [
    "## Setup functional unit "
   ]
  },
  {
   "cell_type": "code",
   "execution_count": 21,
   "metadata": {},
   "outputs": [
    {
     "data": {
      "application/javascript": [
       "\n",
       "            setTimeout(function() {\n",
       "                var nbb_cell_id = 21;\n",
       "                var nbb_unformatted_code = \"# find activity name\\ndef find_by_name(name_ls, database):\\n    possibles = []\\n    for activity in database:\\n        if activity[\\\"name\\\"] in name_ls:\\n            possibles.append(activity)\\n        else:\\n            pass\\n\\n        # assert len(possibles) == 1, \\\"Found {} possibile activities\\\".format(len(possibles))\\n    return possibles\";\n",
       "                var nbb_formatted_code = \"# find activity name\\ndef find_by_name(name_ls, database):\\n    possibles = []\\n    for activity in database:\\n        if activity[\\\"name\\\"] in name_ls:\\n            possibles.append(activity)\\n        else:\\n            pass\\n\\n        # assert len(possibles) == 1, \\\"Found {} possibile activities\\\".format(len(possibles))\\n    return possibles\";\n",
       "                var nbb_cells = Jupyter.notebook.get_cells();\n",
       "                for (var i = 0; i < nbb_cells.length; ++i) {\n",
       "                    if (nbb_cells[i].input_prompt_number == nbb_cell_id) {\n",
       "                        if (nbb_cells[i].get_text() == nbb_unformatted_code) {\n",
       "                             nbb_cells[i].set_text(nbb_formatted_code);\n",
       "                        }\n",
       "                        break;\n",
       "                    }\n",
       "                }\n",
       "            }, 500);\n",
       "            "
      ],
      "text/plain": [
       "<IPython.core.display.Javascript object>"
      ]
     },
     "metadata": {},
     "output_type": "display_data"
    }
   ],
   "source": [
    "# find activity name\n",
    "def find_by_name(name_ls, database):\n",
    "    possibles = []\n",
    "    for activity in database:\n",
    "        if activity[\"name\"] in name_ls:\n",
    "            possibles.append(activity)\n",
    "        else:\n",
    "            pass\n",
    "\n",
    "        # assert len(possibles) == 1, \"Found {} possibile activities\".format(len(possibles))\n",
    "    return possibles"
   ]
  },
  {
   "cell_type": "code",
   "execution_count": 22,
   "metadata": {},
   "outputs": [
    {
     "data": {
      "application/javascript": [
       "\n",
       "            setTimeout(function() {\n",
       "                var nbb_cell_id = 22;\n",
       "                var nbb_unformatted_code = \"foreground_name = [\\n    \\\"Cell stack, pcs\\\",\\n    \\\"Fuel Processor, pcs\\\",\\n    \\\"Power Conditioining, pcs\\\",\\n    \\\"Thermal Management, pcs\\\",\\n    \\\"Manufacturing\\\",\\n    \\\"Disposal_scen1\\\",\\n    \\\"Disposal_scen2\\\",\\n    \\\"Disposal_scen3\\\",\\n]\\n\\nRE_foreground_name = [\\n    \\\"Cell stack, pcs\\\",\\n    \\\"Power Conditioining, pcs\\\",\\n    \\\"Thermal Management, pcs\\\",\\n    \\\"Manufacturing\\\",\\n    \\\"Disposal_scen1\\\",\\n    \\\"Disposal_scen2\\\",\\n    \\\"Disposal_scen3\\\",\\n]\\n\\nop_foreground_name = [\\n    \\\"electricity_sofc\\\",\\n    \\\"electricity_mcfc\\\",\\n    \\\"electricity_pafc\\\",\\n    \\\"electricity_pemfc\\\",\\n]\\n\\nsys_expan_name = [\\n    \\\"system expansion_sofc\\\",\\n    \\\"system expansion_mcfc\\\",\\n    \\\"system expansion_pafc\\\",\\n    \\\"system expansion_pemfc\\\",\\n]\";\n",
       "                var nbb_formatted_code = \"foreground_name = [\\n    \\\"Cell stack, pcs\\\",\\n    \\\"Fuel Processor, pcs\\\",\\n    \\\"Power Conditioining, pcs\\\",\\n    \\\"Thermal Management, pcs\\\",\\n    \\\"Manufacturing\\\",\\n    \\\"Disposal_scen1\\\",\\n    \\\"Disposal_scen2\\\",\\n    \\\"Disposal_scen3\\\",\\n]\\n\\nRE_foreground_name = [\\n    \\\"Cell stack, pcs\\\",\\n    \\\"Power Conditioining, pcs\\\",\\n    \\\"Thermal Management, pcs\\\",\\n    \\\"Manufacturing\\\",\\n    \\\"Disposal_scen1\\\",\\n    \\\"Disposal_scen2\\\",\\n    \\\"Disposal_scen3\\\",\\n]\\n\\nop_foreground_name = [\\n    \\\"electricity_sofc\\\",\\n    \\\"electricity_mcfc\\\",\\n    \\\"electricity_pafc\\\",\\n    \\\"electricity_pemfc\\\",\\n]\\n\\nsys_expan_name = [\\n    \\\"system expansion_sofc\\\",\\n    \\\"system expansion_mcfc\\\",\\n    \\\"system expansion_pafc\\\",\\n    \\\"system expansion_pemfc\\\",\\n]\";\n",
       "                var nbb_cells = Jupyter.notebook.get_cells();\n",
       "                for (var i = 0; i < nbb_cells.length; ++i) {\n",
       "                    if (nbb_cells[i].input_prompt_number == nbb_cell_id) {\n",
       "                        if (nbb_cells[i].get_text() == nbb_unformatted_code) {\n",
       "                             nbb_cells[i].set_text(nbb_formatted_code);\n",
       "                        }\n",
       "                        break;\n",
       "                    }\n",
       "                }\n",
       "            }, 500);\n",
       "            "
      ],
      "text/plain": [
       "<IPython.core.display.Javascript object>"
      ]
     },
     "metadata": {},
     "output_type": "display_data"
    }
   ],
   "source": [
    "foreground_name = [\n",
    "    \"Cell stack, pcs\",\n",
    "    \"Fuel Processor, pcs\",\n",
    "    \"Power Conditioining, pcs\",\n",
    "    \"Thermal Management, pcs\",\n",
    "    \"Manufacturing\",\n",
    "    \"Disposal_scen1\",\n",
    "    \"Disposal_scen2\",\n",
    "    \"Disposal_scen3\",\n",
    "]\n",
    "\n",
    "RE_foreground_name = [\n",
    "    \"Cell stack, pcs\",\n",
    "    \"Power Conditioining, pcs\",\n",
    "    \"Thermal Management, pcs\",\n",
    "    \"Manufacturing\",\n",
    "    \"Disposal_scen1\",\n",
    "    \"Disposal_scen2\",\n",
    "    \"Disposal_scen3\",\n",
    "]\n",
    "\n",
    "op_foreground_name = [\n",
    "    \"electricity_sofc\",\n",
    "    \"electricity_mcfc\",\n",
    "    \"electricity_pafc\",\n",
    "    \"electricity_pemfc\",\n",
    "]\n",
    "\n",
    "sys_expan_name = [\n",
    "    \"system expansion_sofc\",\n",
    "    \"system expansion_mcfc\",\n",
    "    \"system expansion_pafc\",\n",
    "    \"system expansion_pemfc\",\n",
    "]"
   ]
  },
  {
   "cell_type": "code",
   "execution_count": 23,
   "metadata": {},
   "outputs": [
    {
     "data": {
      "application/javascript": [
       "\n",
       "            setTimeout(function() {\n",
       "                var nbb_cell_id = 23;\n",
       "                var nbb_unformatted_code = \"def fu(database, foreground_name=foreground_name):\\n    foreground = find_by_name(foreground_name, database)\\n    fu_ls = [{foreground[x]: 1} for x in range(len(foreground))]\\n    return fu_ls\";\n",
       "                var nbb_formatted_code = \"def fu(database, foreground_name=foreground_name):\\n    foreground = find_by_name(foreground_name, database)\\n    fu_ls = [{foreground[x]: 1} for x in range(len(foreground))]\\n    return fu_ls\";\n",
       "                var nbb_cells = Jupyter.notebook.get_cells();\n",
       "                for (var i = 0; i < nbb_cells.length; ++i) {\n",
       "                    if (nbb_cells[i].input_prompt_number == nbb_cell_id) {\n",
       "                        if (nbb_cells[i].get_text() == nbb_unformatted_code) {\n",
       "                             nbb_cells[i].set_text(nbb_formatted_code);\n",
       "                        }\n",
       "                        break;\n",
       "                    }\n",
       "                }\n",
       "            }, 500);\n",
       "            "
      ],
      "text/plain": [
       "<IPython.core.display.Javascript object>"
      ]
     },
     "metadata": {},
     "output_type": "display_data"
    }
   ],
   "source": [
    "def fu(database, foreground_name=foreground_name):\n",
    "    foreground = find_by_name(foreground_name, database)\n",
    "    fu_ls = [{foreground[x]: 1} for x in range(len(foreground))]\n",
    "    return fu_ls"
   ]
  },
  {
   "cell_type": "code",
   "execution_count": 24,
   "metadata": {},
   "outputs": [
    {
     "data": {
      "application/javascript": [
       "\n",
       "            setTimeout(function() {\n",
       "                var nbb_cell_id = 24;\n",
       "                var nbb_unformatted_code = \"# create functional unit for FC\\nSOFC_FU = fu(database=SOFC_import)\\nMCFC_FU = fu(database=MCFC_import)\\nPAFC_FU = fu(database=PAFC_import)\\nPEMFC_FU = fu(database=PEMFC_import)\\n\\noperation_FU = fu(database=op_db_import, foreground_name=op_foreground_name)\\n\\n# create list of functional unit for RE FC\\nRE_SOFC_FU = fu(database=RE_SOFC_import)\\nRE_MCFC_FU = fu(database=RE_MCFC_import)\\nRE_PAFC_FU = fu(database=RE_PAFC_import)\\nRE_PEMFC_FU = fu(database=RE_PEMFC_import)\\n\\nRE_operation_FU = fu(database=RE_op_db_import, foreground_name=op_foreground_name)\";\n",
       "                var nbb_formatted_code = \"# create functional unit for FC\\nSOFC_FU = fu(database=SOFC_import)\\nMCFC_FU = fu(database=MCFC_import)\\nPAFC_FU = fu(database=PAFC_import)\\nPEMFC_FU = fu(database=PEMFC_import)\\n\\noperation_FU = fu(database=op_db_import, foreground_name=op_foreground_name)\\n\\n# create list of functional unit for RE FC\\nRE_SOFC_FU = fu(database=RE_SOFC_import)\\nRE_MCFC_FU = fu(database=RE_MCFC_import)\\nRE_PAFC_FU = fu(database=RE_PAFC_import)\\nRE_PEMFC_FU = fu(database=RE_PEMFC_import)\\n\\nRE_operation_FU = fu(database=RE_op_db_import, foreground_name=op_foreground_name)\";\n",
       "                var nbb_cells = Jupyter.notebook.get_cells();\n",
       "                for (var i = 0; i < nbb_cells.length; ++i) {\n",
       "                    if (nbb_cells[i].input_prompt_number == nbb_cell_id) {\n",
       "                        if (nbb_cells[i].get_text() == nbb_unformatted_code) {\n",
       "                             nbb_cells[i].set_text(nbb_formatted_code);\n",
       "                        }\n",
       "                        break;\n",
       "                    }\n",
       "                }\n",
       "            }, 500);\n",
       "            "
      ],
      "text/plain": [
       "<IPython.core.display.Javascript object>"
      ]
     },
     "metadata": {},
     "output_type": "display_data"
    }
   ],
   "source": [
    "# create functional unit for FC\n",
    "SOFC_FU = fu(database=SOFC_import)\n",
    "MCFC_FU = fu(database=MCFC_import)\n",
    "PAFC_FU = fu(database=PAFC_import)\n",
    "PEMFC_FU = fu(database=PEMFC_import)\n",
    "\n",
    "operation_FU = fu(database=op_db_import, foreground_name=op_foreground_name)\n",
    "\n",
    "# create list of functional unit for RE FC\n",
    "RE_SOFC_FU = fu(database=RE_SOFC_import)\n",
    "RE_MCFC_FU = fu(database=RE_MCFC_import)\n",
    "RE_PAFC_FU = fu(database=RE_PAFC_import)\n",
    "RE_PEMFC_FU = fu(database=RE_PEMFC_import)\n",
    "\n",
    "RE_operation_FU = fu(database=RE_op_db_import, foreground_name=op_foreground_name)"
   ]
  },
  {
   "cell_type": "code",
   "execution_count": 25,
   "metadata": {},
   "outputs": [
    {
     "data": {
      "text/plain": [
       "[{'market for natural gas, low pressure' (cubic meter, RoW, None): 1}]"
      ]
     },
     "execution_count": 25,
     "metadata": {},
     "output_type": "execute_result"
    },
    {
     "data": {
      "application/javascript": [
       "\n",
       "            setTimeout(function() {\n",
       "                var nbb_cell_id = 25;\n",
       "                var nbb_unformatted_code = \"# Setup FU for natural gas production\\nng_prod = [\\n    act\\n    for act in eidb\\n    if \\\"market for natural gas, low pressure\\\" in act[\\\"name\\\"]\\n    and \\\"RoW\\\" in act[\\\"location\\\"]\\n]\\nng_prod_FU = [{ng_prod[0]: 1}]\\nng_prod_FU\";\n",
       "                var nbb_formatted_code = \"# Setup FU for natural gas production\\nng_prod = [\\n    act\\n    for act in eidb\\n    if \\\"market for natural gas, low pressure\\\" in act[\\\"name\\\"]\\n    and \\\"RoW\\\" in act[\\\"location\\\"]\\n]\\nng_prod_FU = [{ng_prod[0]: 1}]\\nng_prod_FU\";\n",
       "                var nbb_cells = Jupyter.notebook.get_cells();\n",
       "                for (var i = 0; i < nbb_cells.length; ++i) {\n",
       "                    if (nbb_cells[i].input_prompt_number == nbb_cell_id) {\n",
       "                        if (nbb_cells[i].get_text() == nbb_unformatted_code) {\n",
       "                             nbb_cells[i].set_text(nbb_formatted_code);\n",
       "                        }\n",
       "                        break;\n",
       "                    }\n",
       "                }\n",
       "            }, 500);\n",
       "            "
      ],
      "text/plain": [
       "<IPython.core.display.Javascript object>"
      ]
     },
     "metadata": {},
     "output_type": "display_data"
    }
   ],
   "source": [
    "# Setup FU for natural gas production\n",
    "ng_prod = [\n",
    "    act\n",
    "    for act in eidb\n",
    "    if \"market for natural gas, low pressure\" in act[\"name\"]\n",
    "    and \"RoW\" in act[\"location\"]\n",
    "]\n",
    "ng_prod_FU = [{ng_prod[0]: 1}]\n",
    "ng_prod_FU"
   ]
  },
  {
   "cell_type": "code",
   "execution_count": 26,
   "metadata": {},
   "outputs": [
    {
     "data": {
      "text/plain": [
       "[{'system expansion_pemfc' (pcs, GLO, None): 1},\n",
       " {'system expansion_sofc' (pcs, GLO, None): 1},\n",
       " {'system expansion_pafc' (pcs, GLO, None): 1},\n",
       " {'system expansion_mcfc' (pcs, GLO, None): 1}]"
      ]
     },
     "execution_count": 26,
     "metadata": {},
     "output_type": "execute_result"
    },
    {
     "data": {
      "application/javascript": [
       "\n",
       "            setTimeout(function() {\n",
       "                var nbb_cell_id = 26;\n",
       "                var nbb_unformatted_code = \"sys_expan_FU = fu(database=sys_exp_import, foreground_name=sys_expan_name)\\nsys_expan_FU\";\n",
       "                var nbb_formatted_code = \"sys_expan_FU = fu(database=sys_exp_import, foreground_name=sys_expan_name)\\nsys_expan_FU\";\n",
       "                var nbb_cells = Jupyter.notebook.get_cells();\n",
       "                for (var i = 0; i < nbb_cells.length; ++i) {\n",
       "                    if (nbb_cells[i].input_prompt_number == nbb_cell_id) {\n",
       "                        if (nbb_cells[i].get_text() == nbb_unformatted_code) {\n",
       "                             nbb_cells[i].set_text(nbb_formatted_code);\n",
       "                        }\n",
       "                        break;\n",
       "                    }\n",
       "                }\n",
       "            }, 500);\n",
       "            "
      ],
      "text/plain": [
       "<IPython.core.display.Javascript object>"
      ]
     },
     "metadata": {},
     "output_type": "display_data"
    }
   ],
   "source": [
    "sys_expan_FU = fu(database=sys_exp_import, foreground_name=sys_expan_name)\n",
    "sys_expan_FU"
   ]
  },
  {
   "cell_type": "markdown",
   "metadata": {},
   "source": [
    "## Setup LCIA "
   ]
  },
  {
   "cell_type": "code",
   "execution_count": 27,
   "metadata": {},
   "outputs": [
    {
     "data": {
      "text/plain": [
       "[('ReCiPe Midpoint (H) V1.13', 'freshwater ecotoxicity', 'FETPinf'),\n",
       " ('ReCiPe Midpoint (H) V1.13', 'human toxicity', 'HTPinf'),\n",
       " ('ReCiPe Midpoint (H) V1.13', 'marine ecotoxicity', 'METPinf'),\n",
       " ('ReCiPe Midpoint (H) V1.13', 'terrestrial ecotoxicity', 'TETPinf'),\n",
       " ('ReCiPe Midpoint (H) V1.13', 'metal depletion', 'MDP'),\n",
       " ('ReCiPe Midpoint (H) V1.13', 'agricultural land occupation', 'ALOP'),\n",
       " ('ReCiPe Midpoint (H) V1.13', 'climate change', 'GWP100'),\n",
       " ('ReCiPe Midpoint (H) V1.13', 'fossil depletion', 'FDP'),\n",
       " ('ReCiPe Midpoint (H) V1.13', 'freshwater eutrophication', 'FEP'),\n",
       " ('ReCiPe Midpoint (H) V1.13', 'ionising radiation', 'IRP_HE'),\n",
       " ('ReCiPe Midpoint (H) V1.13', 'marine eutrophication', 'MEP'),\n",
       " ('ReCiPe Midpoint (H) V1.13', 'natural land transformation', 'NLTP'),\n",
       " ('ReCiPe Midpoint (H) V1.13', 'ozone depletion', 'ODPinf'),\n",
       " ('ReCiPe Midpoint (H) V1.13', 'particulate matter formation', 'PMFP'),\n",
       " ('ReCiPe Midpoint (H) V1.13', 'photochemical oxidant formation', 'POFP'),\n",
       " ('ReCiPe Midpoint (H) V1.13', 'terrestrial acidification', 'TAP100'),\n",
       " ('ReCiPe Midpoint (H) V1.13', 'urban land occupation', 'ULOP'),\n",
       " ('ReCiPe Midpoint (H) V1.13', 'water depletion', 'WDP'),\n",
       " ('ReCiPe Endpoint (H,A) (obsolete)', 'total', 'total')]"
      ]
     },
     "execution_count": 27,
     "metadata": {},
     "output_type": "execute_result"
    },
    {
     "data": {
      "application/javascript": [
       "\n",
       "            setTimeout(function() {\n",
       "                var nbb_cell_id = 27;\n",
       "                var nbb_unformatted_code = \"ReCiPe = [method for method in bw.methods if 'ReCiPe Midpoint (H) V1.13' in str(method) \\n                                          and 'w/o LT' not in str(method)\\n                                          and 'no LT' not in str(method)\\n                                          and 'obsolete' not in str(method)]\\nReCiPe_end = [method for method in bw.methods if 'ReCiPe Endpoint (H,A)' in str(method)\\n                                                 and 'total' in str(method)][1] # point based total \\nReCiPe.append(ReCiPe_end)\\nReCiPe\";\n",
       "                var nbb_formatted_code = \"ReCiPe = [\\n    method\\n    for method in bw.methods\\n    if \\\"ReCiPe Midpoint (H) V1.13\\\" in str(method)\\n    and \\\"w/o LT\\\" not in str(method)\\n    and \\\"no LT\\\" not in str(method)\\n    and \\\"obsolete\\\" not in str(method)\\n]\\nReCiPe_end = [\\n    method\\n    for method in bw.methods\\n    if \\\"ReCiPe Endpoint (H,A)\\\" in str(method) and \\\"total\\\" in str(method)\\n][\\n    1\\n]  # point based total\\nReCiPe.append(ReCiPe_end)\\nReCiPe\";\n",
       "                var nbb_cells = Jupyter.notebook.get_cells();\n",
       "                for (var i = 0; i < nbb_cells.length; ++i) {\n",
       "                    if (nbb_cells[i].input_prompt_number == nbb_cell_id) {\n",
       "                        if (nbb_cells[i].get_text() == nbb_unformatted_code) {\n",
       "                             nbb_cells[i].set_text(nbb_formatted_code);\n",
       "                        }\n",
       "                        break;\n",
       "                    }\n",
       "                }\n",
       "            }, 500);\n",
       "            "
      ],
      "text/plain": [
       "<IPython.core.display.Javascript object>"
      ]
     },
     "metadata": {},
     "output_type": "display_data"
    }
   ],
   "source": [
    "ReCiPe = [method for method in bw.methods if 'ReCiPe Midpoint (H) V1.13' in str(method) \n",
    "                                          and 'w/o LT' not in str(method)\n",
    "                                          and 'no LT' not in str(method)\n",
    "                                          and 'obsolete' not in str(method)]\n",
    "ReCiPe_end = [method for method in bw.methods if 'ReCiPe Endpoint (H,A)' in str(method)\n",
    "                                                 and 'total' in str(method)][1] # point based total \n",
    "ReCiPe.append(ReCiPe_end)\n",
    "ReCiPe\n"
   ]
  },
  {
   "cell_type": "code",
   "execution_count": 28,
   "metadata": {},
   "outputs": [
    {
     "data": {
      "text/plain": [
       "[('ReCiPe Midpoint (H) V1.13', 'climate change', 'GWP100'),\n",
       " ('ReCiPe Midpoint (H) V1.13', 'fossil depletion', 'FDP'),\n",
       " ('ReCiPe Midpoint (H) V1.13', 'particulate matter formation', 'PMFP'),\n",
       " ('ReCiPe Midpoint (H) V1.13', 'terrestrial acidification', 'TAP100')]"
      ]
     },
     "execution_count": 28,
     "metadata": {},
     "output_type": "execute_result"
    },
    {
     "data": {
      "application/javascript": [
       "\n",
       "            setTimeout(function() {\n",
       "                var nbb_cell_id = 28;\n",
       "                var nbb_unformatted_code = \"indicators = [ReCiPe[6], ReCiPe[7], ReCiPe[13], ReCiPe[15]]\\nindicators\";\n",
       "                var nbb_formatted_code = \"indicators = [ReCiPe[6], ReCiPe[7], ReCiPe[13], ReCiPe[15]]\\nindicators\";\n",
       "                var nbb_cells = Jupyter.notebook.get_cells();\n",
       "                for (var i = 0; i < nbb_cells.length; ++i) {\n",
       "                    if (nbb_cells[i].input_prompt_number == nbb_cell_id) {\n",
       "                        if (nbb_cells[i].get_text() == nbb_unformatted_code) {\n",
       "                             nbb_cells[i].set_text(nbb_formatted_code);\n",
       "                        }\n",
       "                        break;\n",
       "                    }\n",
       "                }\n",
       "            }, 500);\n",
       "            "
      ],
      "text/plain": [
       "<IPython.core.display.Javascript object>"
      ]
     },
     "metadata": {},
     "output_type": "display_data"
    }
   ],
   "source": [
    "indicators = [ReCiPe[6], ReCiPe[7], ReCiPe[13], ReCiPe[15]]\n",
    "indicators"
   ]
  },
  {
   "cell_type": "code",
   "execution_count": 29,
   "metadata": {},
   "outputs": [
    {
     "data": {
      "application/javascript": [
       "\n",
       "            setTimeout(function() {\n",
       "                var nbb_cell_id = 29;\n",
       "                var nbb_unformatted_code = \"ia_cat = [\\n    \\\"FETP\\\",\\n    \\\"HTP\\\",\\n    \\\"METP\\\",\\n    \\\"TETP\\\",\\n    \\\"MDP\\\",\\n    \\\"ALOP\\\",\\n    \\\"GWP100\\\",\\n    \\\"FDP\\\",\\n    \\\"FEP\\\",\\n    \\\"IRP\\\",\\n    \\\"MEP\\\",\\n    \\\"NLTP\\\",\\n    \\\"ODP\\\",\\n    \\\"PMFP\\\",\\n    \\\"POFP\\\",\\n    \\\"TAP100\\\",\\n    \\\"ULOP\\\",\\n    \\\"WDP\\\",\\n    \\\"Total\\\",\\n]\\nia_cat1 = [\\\"GWP\\\", \\\"FDP\\\", \\\"PMFP\\\", \\\"AP\\\"]\";\n",
       "                var nbb_formatted_code = \"ia_cat = [\\n    \\\"FETP\\\",\\n    \\\"HTP\\\",\\n    \\\"METP\\\",\\n    \\\"TETP\\\",\\n    \\\"MDP\\\",\\n    \\\"ALOP\\\",\\n    \\\"GWP100\\\",\\n    \\\"FDP\\\",\\n    \\\"FEP\\\",\\n    \\\"IRP\\\",\\n    \\\"MEP\\\",\\n    \\\"NLTP\\\",\\n    \\\"ODP\\\",\\n    \\\"PMFP\\\",\\n    \\\"POFP\\\",\\n    \\\"TAP100\\\",\\n    \\\"ULOP\\\",\\n    \\\"WDP\\\",\\n    \\\"Total\\\",\\n]\\nia_cat1 = [\\\"GWP\\\", \\\"FDP\\\", \\\"PMFP\\\", \\\"AP\\\"]\";\n",
       "                var nbb_cells = Jupyter.notebook.get_cells();\n",
       "                for (var i = 0; i < nbb_cells.length; ++i) {\n",
       "                    if (nbb_cells[i].input_prompt_number == nbb_cell_id) {\n",
       "                        if (nbb_cells[i].get_text() == nbb_unformatted_code) {\n",
       "                             nbb_cells[i].set_text(nbb_formatted_code);\n",
       "                        }\n",
       "                        break;\n",
       "                    }\n",
       "                }\n",
       "            }, 500);\n",
       "            "
      ],
      "text/plain": [
       "<IPython.core.display.Javascript object>"
      ]
     },
     "metadata": {},
     "output_type": "display_data"
    }
   ],
   "source": [
    "ia_cat = [\n",
    "    \"FETP\",\n",
    "    \"HTP\",\n",
    "    \"METP\",\n",
    "    \"TETP\",\n",
    "    \"MDP\",\n",
    "    \"ALOP\",\n",
    "    \"GWP100\",\n",
    "    \"FDP\",\n",
    "    \"FEP\",\n",
    "    \"IRP\",\n",
    "    \"MEP\",\n",
    "    \"NLTP\",\n",
    "    \"ODP\",\n",
    "    \"PMFP\",\n",
    "    \"POFP\",\n",
    "    \"TAP100\",\n",
    "    \"ULOP\",\n",
    "    \"WDP\",\n",
    "    \"Total\",\n",
    "]\n",
    "ia_cat1 = [\"GWP\", \"FDP\", \"PMFP\", \"AP\"]"
   ]
  },
  {
   "cell_type": "markdown",
   "metadata": {},
   "source": [
    "## Calc LCIA results "
   ]
  },
  {
   "cell_type": "code",
   "execution_count": 30,
   "metadata": {},
   "outputs": [
    {
     "data": {
      "application/javascript": [
       "\n",
       "            setTimeout(function() {\n",
       "                var nbb_cell_id = 30;\n",
       "                var nbb_unformatted_code = \"# setup FU and impact assessment method and calculate results\\ndef LCIA_results(FU_ls, ia=ReCiPe, index_ls=foreground_name):\\n    bw.calculation_setups[\\\"FC_LCIA\\\"] = {\\\"inv\\\": FU_ls, \\\"ia\\\": ia}\\n    multi_LCA = bw.MultiLCA(\\\"FC_LCIA\\\").results\\n    LCIA_results = pd.DataFrame(\\n        data=multi_LCA, columns=ia, index=[list(i.keys())[0][\\\"name\\\"] for i in FU_ls]\\n    )\\n    return LCIA_results\";\n",
       "                var nbb_formatted_code = \"# setup FU and impact assessment method and calculate results\\ndef LCIA_results(FU_ls, ia=ReCiPe, index_ls=foreground_name):\\n    bw.calculation_setups[\\\"FC_LCIA\\\"] = {\\\"inv\\\": FU_ls, \\\"ia\\\": ia}\\n    multi_LCA = bw.MultiLCA(\\\"FC_LCIA\\\").results\\n    LCIA_results = pd.DataFrame(\\n        data=multi_LCA, columns=ia, index=[list(i.keys())[0][\\\"name\\\"] for i in FU_ls]\\n    )\\n    return LCIA_results\";\n",
       "                var nbb_cells = Jupyter.notebook.get_cells();\n",
       "                for (var i = 0; i < nbb_cells.length; ++i) {\n",
       "                    if (nbb_cells[i].input_prompt_number == nbb_cell_id) {\n",
       "                        if (nbb_cells[i].get_text() == nbb_unformatted_code) {\n",
       "                             nbb_cells[i].set_text(nbb_formatted_code);\n",
       "                        }\n",
       "                        break;\n",
       "                    }\n",
       "                }\n",
       "            }, 500);\n",
       "            "
      ],
      "text/plain": [
       "<IPython.core.display.Javascript object>"
      ]
     },
     "metadata": {},
     "output_type": "display_data"
    }
   ],
   "source": [
    "# setup FU and impact assessment method and calculate results\n",
    "def LCIA_results(FU_ls, ia=ReCiPe, index_ls=foreground_name):\n",
    "    bw.calculation_setups[\"FC_LCIA\"] = {\"inv\": FU_ls, \"ia\": ia}\n",
    "    multi_LCA = bw.MultiLCA(\"FC_LCIA\").results\n",
    "    LCIA_results = pd.DataFrame(\n",
    "        data=multi_LCA, columns=ia, index=[list(i.keys())[0][\"name\"] for i in FU_ls]\n",
    "    )\n",
    "    return LCIA_results"
   ]
  },
  {
   "cell_type": "code",
   "execution_count": 31,
   "metadata": {},
   "outputs": [
    {
     "data": {
      "application/javascript": [
       "\n",
       "            setTimeout(function() {\n",
       "                var nbb_cell_id = 31;\n",
       "                var nbb_unformatted_code = \"# Natural gas FC LCIA results\\nSOFC_LCIA_results = LCIA_results(SOFC_FU).reindex(foreground_name)  # SOFC manufacturing\\nMCFC_LCIA_results = LCIA_results(MCFC_FU).reindex(foreground_name)  # MCFC\\nPAFC_LCIA_results = LCIA_results(PAFC_FU).reindex(foreground_name)  # PAFC\\nPEMFC_LCIA_results = LCIA_results(PEMFC_FU).reindex(foreground_name)  # PEMFC\\noperation_LCIA_results = LCIA_results(\\n    operation_FU, index_ls=op_foreground_name\\n).reindex(\\n    op_foreground_name\\n)  # operation\\nsys_expan_LCIA_results = LCIA_results(sys_expan_FU, index_ls=sys_expan_name).reindex(\\n    sys_expan_name\\n)\";\n",
       "                var nbb_formatted_code = \"# Natural gas FC LCIA results\\nSOFC_LCIA_results = LCIA_results(SOFC_FU).reindex(foreground_name)  # SOFC manufacturing\\nMCFC_LCIA_results = LCIA_results(MCFC_FU).reindex(foreground_name)  # MCFC\\nPAFC_LCIA_results = LCIA_results(PAFC_FU).reindex(foreground_name)  # PAFC\\nPEMFC_LCIA_results = LCIA_results(PEMFC_FU).reindex(foreground_name)  # PEMFC\\noperation_LCIA_results = LCIA_results(\\n    operation_FU, index_ls=op_foreground_name\\n).reindex(\\n    op_foreground_name\\n)  # operation\\nsys_expan_LCIA_results = LCIA_results(sys_expan_FU, index_ls=sys_expan_name).reindex(\\n    sys_expan_name\\n)\";\n",
       "                var nbb_cells = Jupyter.notebook.get_cells();\n",
       "                for (var i = 0; i < nbb_cells.length; ++i) {\n",
       "                    if (nbb_cells[i].input_prompt_number == nbb_cell_id) {\n",
       "                        if (nbb_cells[i].get_text() == nbb_unformatted_code) {\n",
       "                             nbb_cells[i].set_text(nbb_formatted_code);\n",
       "                        }\n",
       "                        break;\n",
       "                    }\n",
       "                }\n",
       "            }, 500);\n",
       "            "
      ],
      "text/plain": [
       "<IPython.core.display.Javascript object>"
      ]
     },
     "metadata": {},
     "output_type": "display_data"
    }
   ],
   "source": [
    "# Natural gas FC LCIA results\n",
    "SOFC_LCIA_results = LCIA_results(SOFC_FU).reindex(foreground_name)  # SOFC manufacturing\n",
    "MCFC_LCIA_results = LCIA_results(MCFC_FU).reindex(foreground_name)  # MCFC\n",
    "PAFC_LCIA_results = LCIA_results(PAFC_FU).reindex(foreground_name)  # PAFC\n",
    "PEMFC_LCIA_results = LCIA_results(PEMFC_FU).reindex(foreground_name)  # PEMFC\n",
    "operation_LCIA_results = LCIA_results(\n",
    "    operation_FU, index_ls=op_foreground_name\n",
    ").reindex(\n",
    "    op_foreground_name\n",
    ")  # operation\n",
    "sys_expan_LCIA_results = LCIA_results(sys_expan_FU, index_ls=sys_expan_name).reindex(\n",
    "    sys_expan_name\n",
    ")"
   ]
  },
  {
   "cell_type": "code",
   "execution_count": 32,
   "metadata": {},
   "outputs": [
    {
     "data": {
      "application/javascript": [
       "\n",
       "            setTimeout(function() {\n",
       "                var nbb_cell_id = 32;\n",
       "                var nbb_unformatted_code = \"RE_SOFC_LCIA_results = LCIA_results(RE_SOFC_FU).reindex(RE_foreground_name) # RE SOFC\\nRE_MCFC_LCIA_results = LCIA_results(RE_MCFC_FU).reindex(RE_foreground_name) # RE MCFC\\nRE_PAFC_LCIA_results = LCIA_results(RE_PAFC_FU).reindex(RE_foreground_name) # RE PAFC\\nRE_PEMFC_LCIA_results = LCIA_results(RE_PEMFC_FU).reindex(RE_foreground_name) # RE PEMFC\\n\\nRE_operation_LCIA_results = LCIA_results(\\n    RE_operation_FU, index_ls=op_foreground_name\\n).reindex(\\n    op_foreground_name\\n)  # operation\";\n",
       "                var nbb_formatted_code = \"RE_SOFC_LCIA_results = LCIA_results(RE_SOFC_FU).reindex(RE_foreground_name)  # RE SOFC\\nRE_MCFC_LCIA_results = LCIA_results(RE_MCFC_FU).reindex(RE_foreground_name)  # RE MCFC\\nRE_PAFC_LCIA_results = LCIA_results(RE_PAFC_FU).reindex(RE_foreground_name)  # RE PAFC\\nRE_PEMFC_LCIA_results = LCIA_results(RE_PEMFC_FU).reindex(\\n    RE_foreground_name\\n)  # RE PEMFC\\n\\nRE_operation_LCIA_results = LCIA_results(\\n    RE_operation_FU, index_ls=op_foreground_name\\n).reindex(\\n    op_foreground_name\\n)  # operation\";\n",
       "                var nbb_cells = Jupyter.notebook.get_cells();\n",
       "                for (var i = 0; i < nbb_cells.length; ++i) {\n",
       "                    if (nbb_cells[i].input_prompt_number == nbb_cell_id) {\n",
       "                        if (nbb_cells[i].get_text() == nbb_unformatted_code) {\n",
       "                             nbb_cells[i].set_text(nbb_formatted_code);\n",
       "                        }\n",
       "                        break;\n",
       "                    }\n",
       "                }\n",
       "            }, 500);\n",
       "            "
      ],
      "text/plain": [
       "<IPython.core.display.Javascript object>"
      ]
     },
     "metadata": {},
     "output_type": "display_data"
    }
   ],
   "source": [
    "RE_SOFC_LCIA_results = LCIA_results(RE_SOFC_FU).reindex(RE_foreground_name) # RE SOFC\n",
    "RE_MCFC_LCIA_results = LCIA_results(RE_MCFC_FU).reindex(RE_foreground_name) # RE MCFC\n",
    "RE_PAFC_LCIA_results = LCIA_results(RE_PAFC_FU).reindex(RE_foreground_name) # RE PAFC\n",
    "RE_PEMFC_LCIA_results = LCIA_results(RE_PEMFC_FU).reindex(RE_foreground_name) # RE PEMFC\n",
    "\n",
    "RE_operation_LCIA_results = LCIA_results(\n",
    "    RE_operation_FU, index_ls=op_foreground_name\n",
    ").reindex(\n",
    "    op_foreground_name\n",
    ")  # operation\n",
    "\n"
   ]
  },
  {
   "cell_type": "markdown",
   "metadata": {},
   "source": [
    "# Results including operation phase"
   ]
  },
  {
   "cell_type": "code",
   "execution_count": 33,
   "metadata": {},
   "outputs": [
    {
     "data": {
      "application/javascript": [
       "\n",
       "            setTimeout(function() {\n",
       "                var nbb_cell_id = 33;\n",
       "                var nbb_unformatted_code = \"def merge(\\n    LCIA_results, techName, RE=False\\n):  # merge manufacturing, operation, and system expansion\\n    if RE == True:\\n        op = RE_operation_LCIA_results.loc[\\\"electricity_\\\" + techName]\\n    if RE == False:\\n        op = operation_LCIA_results.loc[\\\"electricity_\\\" + techName]\\n    sys_expan = sys_expan_LCIA_results.loc[\\\"system expansion_\\\" + techName]\\n    full_LCIA = LCIA_results.append(op).append(sys_expan)\\n\\n    return full_LCIA\";\n",
       "                var nbb_formatted_code = \"def merge(\\n    LCIA_results, techName, RE=False\\n):  # merge manufacturing, operation, and system expansion\\n    if RE == True:\\n        op = RE_operation_LCIA_results.loc[\\\"electricity_\\\" + techName]\\n    if RE == False:\\n        op = operation_LCIA_results.loc[\\\"electricity_\\\" + techName]\\n    sys_expan = sys_expan_LCIA_results.loc[\\\"system expansion_\\\" + techName]\\n    full_LCIA = LCIA_results.append(op).append(sys_expan)\\n\\n    return full_LCIA\";\n",
       "                var nbb_cells = Jupyter.notebook.get_cells();\n",
       "                for (var i = 0; i < nbb_cells.length; ++i) {\n",
       "                    if (nbb_cells[i].input_prompt_number == nbb_cell_id) {\n",
       "                        if (nbb_cells[i].get_text() == nbb_unformatted_code) {\n",
       "                             nbb_cells[i].set_text(nbb_formatted_code);\n",
       "                        }\n",
       "                        break;\n",
       "                    }\n",
       "                }\n",
       "            }, 500);\n",
       "            "
      ],
      "text/plain": [
       "<IPython.core.display.Javascript object>"
      ]
     },
     "metadata": {},
     "output_type": "display_data"
    }
   ],
   "source": [
    "def merge(\n",
    "    LCIA_results, techName, RE=False\n",
    "):  # merge manufacturing, operation, and system expansion\n",
    "    if RE == True:\n",
    "        op = RE_operation_LCIA_results.loc[\"electricity_\" + techName]\n",
    "    if RE == False:\n",
    "        op = operation_LCIA_results.loc[\"electricity_\" + techName]\n",
    "    sys_expan = sys_expan_LCIA_results.loc[\"system expansion_\" + techName]\n",
    "    full_LCIA = LCIA_results.append(op).append(sys_expan)\n",
    "\n",
    "    return full_LCIA"
   ]
  },
  {
   "cell_type": "code",
   "execution_count": 34,
   "metadata": {},
   "outputs": [
    {
     "data": {
      "application/javascript": [
       "\n",
       "            setTimeout(function() {\n",
       "                var nbb_cell_id = 34;\n",
       "                var nbb_unformatted_code = \"sofc_ia = merge(SOFC_LCIA_results, techName=\\\"sofc\\\")\\nmcfc_ia = merge(MCFC_LCIA_results, techName=\\\"mcfc\\\")\\npafc_ia = merge(PAFC_LCIA_results, techName=\\\"pafc\\\")\\npemfc_ia = merge(PEMFC_LCIA_results, techName=\\\"pemfc\\\")\";\n",
       "                var nbb_formatted_code = \"sofc_ia = merge(SOFC_LCIA_results, techName=\\\"sofc\\\")\\nmcfc_ia = merge(MCFC_LCIA_results, techName=\\\"mcfc\\\")\\npafc_ia = merge(PAFC_LCIA_results, techName=\\\"pafc\\\")\\npemfc_ia = merge(PEMFC_LCIA_results, techName=\\\"pemfc\\\")\";\n",
       "                var nbb_cells = Jupyter.notebook.get_cells();\n",
       "                for (var i = 0; i < nbb_cells.length; ++i) {\n",
       "                    if (nbb_cells[i].input_prompt_number == nbb_cell_id) {\n",
       "                        if (nbb_cells[i].get_text() == nbb_unformatted_code) {\n",
       "                             nbb_cells[i].set_text(nbb_formatted_code);\n",
       "                        }\n",
       "                        break;\n",
       "                    }\n",
       "                }\n",
       "            }, 500);\n",
       "            "
      ],
      "text/plain": [
       "<IPython.core.display.Javascript object>"
      ]
     },
     "metadata": {},
     "output_type": "display_data"
    }
   ],
   "source": [
    "sofc_ia = merge(SOFC_LCIA_results, techName=\"sofc\")\n",
    "mcfc_ia = merge(MCFC_LCIA_results, techName=\"mcfc\")\n",
    "pafc_ia = merge(PAFC_LCIA_results, techName=\"pafc\")\n",
    "pemfc_ia = merge(PEMFC_LCIA_results, techName=\"pemfc\")"
   ]
  },
  {
   "cell_type": "code",
   "execution_count": 35,
   "metadata": {},
   "outputs": [
    {
     "data": {
      "application/javascript": [
       "\n",
       "            setTimeout(function() {\n",
       "                var nbb_cell_id = 35;\n",
       "                var nbb_unformatted_code = \"RE_sofc_ia = merge(RE_SOFC_LCIA_results, techName=\\\"sofc\\\", RE=True)\\nRE_mcfc_ia = merge(RE_MCFC_LCIA_results, techName=\\\"mcfc\\\", RE=True)\\nRE_pafc_ia = merge(RE_PAFC_LCIA_results, techName=\\\"pafc\\\", RE=True)\\nRE_pemfc_ia = merge(RE_PEMFC_LCIA_results, techName=\\\"pemfc\\\", RE=True)\";\n",
       "                var nbb_formatted_code = \"RE_sofc_ia = merge(RE_SOFC_LCIA_results, techName=\\\"sofc\\\", RE=True)\\nRE_mcfc_ia = merge(RE_MCFC_LCIA_results, techName=\\\"mcfc\\\", RE=True)\\nRE_pafc_ia = merge(RE_PAFC_LCIA_results, techName=\\\"pafc\\\", RE=True)\\nRE_pemfc_ia = merge(RE_PEMFC_LCIA_results, techName=\\\"pemfc\\\", RE=True)\";\n",
       "                var nbb_cells = Jupyter.notebook.get_cells();\n",
       "                for (var i = 0; i < nbb_cells.length; ++i) {\n",
       "                    if (nbb_cells[i].input_prompt_number == nbb_cell_id) {\n",
       "                        if (nbb_cells[i].get_text() == nbb_unformatted_code) {\n",
       "                             nbb_cells[i].set_text(nbb_formatted_code);\n",
       "                        }\n",
       "                        break;\n",
       "                    }\n",
       "                }\n",
       "            }, 500);\n",
       "            "
      ],
      "text/plain": [
       "<IPython.core.display.Javascript object>"
      ]
     },
     "metadata": {},
     "output_type": "display_data"
    }
   ],
   "source": [
    "RE_sofc_ia = merge(RE_SOFC_LCIA_results, techName=\"sofc\", RE=True)\n",
    "RE_mcfc_ia = merge(RE_MCFC_LCIA_results, techName=\"mcfc\", RE=True)\n",
    "RE_pafc_ia = merge(RE_PAFC_LCIA_results, techName=\"pafc\", RE=True)\n",
    "RE_pemfc_ia = merge(RE_PEMFC_LCIA_results, techName=\"pemfc\", RE=True)"
   ]
  },
  {
   "cell_type": "code",
   "execution_count": 36,
   "metadata": {},
   "outputs": [
    {
     "data": {
      "application/javascript": [
       "\n",
       "            setTimeout(function() {\n",
       "                var nbb_cell_id = 36;\n",
       "                var nbb_unformatted_code = \"with ExcelWriter(\\n    r\\\"D:\\\\tencent_files\\\\chrome_Download\\\\Research\\\\LCA\\\\LCA SOFC\\\\output\\\\NGFC_export.xlsx\\\"\\n) as writer:\\n    sofc_ia.to_excel(\\n        writer,\\n        sheet_name=\\\"SOFC\\\",\\n        encoding=\\\"utf-8\\\",\\n    )\\n    mcfc_ia.to_excel(\\n        writer,\\n        sheet_name=\\\"MCFC\\\",\\n        encoding=\\\"utf-8\\\",\\n    )\\n    pafc_ia.to_excel(\\n        writer,\\n        sheet_name=\\\"PAFC\\\",\\n        encoding=\\\"utf-8\\\",\\n    )\\n    pemfc_ia.to_excel(\\n        writer,\\n        sheet_name=\\\"PEMFC\\\",\\n        encoding=\\\"utf-8\\\",\\n    )\";\n",
       "                var nbb_formatted_code = \"with ExcelWriter(\\n    r\\\"D:\\\\tencent_files\\\\chrome_Download\\\\Research\\\\LCA\\\\LCA SOFC\\\\output\\\\NGFC_export.xlsx\\\"\\n) as writer:\\n    sofc_ia.to_excel(\\n        writer,\\n        sheet_name=\\\"SOFC\\\",\\n        encoding=\\\"utf-8\\\",\\n    )\\n    mcfc_ia.to_excel(\\n        writer,\\n        sheet_name=\\\"MCFC\\\",\\n        encoding=\\\"utf-8\\\",\\n    )\\n    pafc_ia.to_excel(\\n        writer,\\n        sheet_name=\\\"PAFC\\\",\\n        encoding=\\\"utf-8\\\",\\n    )\\n    pemfc_ia.to_excel(\\n        writer,\\n        sheet_name=\\\"PEMFC\\\",\\n        encoding=\\\"utf-8\\\",\\n    )\";\n",
       "                var nbb_cells = Jupyter.notebook.get_cells();\n",
       "                for (var i = 0; i < nbb_cells.length; ++i) {\n",
       "                    if (nbb_cells[i].input_prompt_number == nbb_cell_id) {\n",
       "                        if (nbb_cells[i].get_text() == nbb_unformatted_code) {\n",
       "                             nbb_cells[i].set_text(nbb_formatted_code);\n",
       "                        }\n",
       "                        break;\n",
       "                    }\n",
       "                }\n",
       "            }, 500);\n",
       "            "
      ],
      "text/plain": [
       "<IPython.core.display.Javascript object>"
      ]
     },
     "metadata": {},
     "output_type": "display_data"
    }
   ],
   "source": [
    "with ExcelWriter(\n",
    "    r\"D:\\tencent_files\\chrome_Download\\Research\\LCA\\LCA SOFC\\output\\NGFC_export.xlsx\"\n",
    ") as writer:\n",
    "    sofc_ia.to_excel(\n",
    "        writer,\n",
    "        sheet_name=\"SOFC\",\n",
    "        encoding=\"utf-8\",\n",
    "    )\n",
    "    mcfc_ia.to_excel(\n",
    "        writer,\n",
    "        sheet_name=\"MCFC\",\n",
    "        encoding=\"utf-8\",\n",
    "    )\n",
    "    pafc_ia.to_excel(\n",
    "        writer,\n",
    "        sheet_name=\"PAFC\",\n",
    "        encoding=\"utf-8\",\n",
    "    )\n",
    "    pemfc_ia.to_excel(\n",
    "        writer,\n",
    "        sheet_name=\"PEMFC\",\n",
    "        encoding=\"utf-8\",\n",
    "    )"
   ]
  },
  {
   "cell_type": "code",
   "execution_count": 37,
   "metadata": {},
   "outputs": [
    {
     "data": {
      "application/javascript": [
       "\n",
       "            setTimeout(function() {\n",
       "                var nbb_cell_id = 37;\n",
       "                var nbb_unformatted_code = \"with ExcelWriter(\\n    r\\\"D:\\\\tencent_files\\\\chrome_Download\\\\Research\\\\LCA\\\\LCA SOFC\\\\output\\\\REFC_export.xlsx\\\"\\n) as writer:\\n    RE_sofc_ia.to_excel(\\n        writer,\\n        sheet_name=\\\"RE_SOFC\\\",\\n        encoding=\\\"utf-8\\\",\\n    )\\n    RE_mcfc_ia.to_excel(\\n        writer,\\n        sheet_name=\\\"RE_MCFC\\\",\\n        encoding=\\\"utf-8\\\",\\n    )\\n    RE_pafc_ia.to_excel(\\n        writer,\\n        sheet_name=\\\"RE_PAFC\\\",\\n        encoding=\\\"utf-8\\\",\\n    )\\n    RE_pemfc_ia.to_excel(\\n        writer,\\n        sheet_name=\\\"RE_PEMFC\\\",\\n        encoding=\\\"utf-8\\\",\\n    )\";\n",
       "                var nbb_formatted_code = \"with ExcelWriter(\\n    r\\\"D:\\\\tencent_files\\\\chrome_Download\\\\Research\\\\LCA\\\\LCA SOFC\\\\output\\\\REFC_export.xlsx\\\"\\n) as writer:\\n    RE_sofc_ia.to_excel(\\n        writer,\\n        sheet_name=\\\"RE_SOFC\\\",\\n        encoding=\\\"utf-8\\\",\\n    )\\n    RE_mcfc_ia.to_excel(\\n        writer,\\n        sheet_name=\\\"RE_MCFC\\\",\\n        encoding=\\\"utf-8\\\",\\n    )\\n    RE_pafc_ia.to_excel(\\n        writer,\\n        sheet_name=\\\"RE_PAFC\\\",\\n        encoding=\\\"utf-8\\\",\\n    )\\n    RE_pemfc_ia.to_excel(\\n        writer,\\n        sheet_name=\\\"RE_PEMFC\\\",\\n        encoding=\\\"utf-8\\\",\\n    )\";\n",
       "                var nbb_cells = Jupyter.notebook.get_cells();\n",
       "                for (var i = 0; i < nbb_cells.length; ++i) {\n",
       "                    if (nbb_cells[i].input_prompt_number == nbb_cell_id) {\n",
       "                        if (nbb_cells[i].get_text() == nbb_unformatted_code) {\n",
       "                             nbb_cells[i].set_text(nbb_formatted_code);\n",
       "                        }\n",
       "                        break;\n",
       "                    }\n",
       "                }\n",
       "            }, 500);\n",
       "            "
      ],
      "text/plain": [
       "<IPython.core.display.Javascript object>"
      ]
     },
     "metadata": {},
     "output_type": "display_data"
    }
   ],
   "source": [
    "with ExcelWriter(\n",
    "    r\"D:\\tencent_files\\chrome_Download\\Research\\LCA\\LCA SOFC\\output\\REFC_export.xlsx\"\n",
    ") as writer:\n",
    "    RE_sofc_ia.to_excel(\n",
    "        writer,\n",
    "        sheet_name=\"RE_SOFC\",\n",
    "        encoding=\"utf-8\",\n",
    "    )\n",
    "    RE_mcfc_ia.to_excel(\n",
    "        writer,\n",
    "        sheet_name=\"RE_MCFC\",\n",
    "        encoding=\"utf-8\",\n",
    "    )\n",
    "    RE_pafc_ia.to_excel(\n",
    "        writer,\n",
    "        sheet_name=\"RE_PAFC\",\n",
    "        encoding=\"utf-8\",\n",
    "    )\n",
    "    RE_pemfc_ia.to_excel(\n",
    "        writer,\n",
    "        sheet_name=\"RE_PEMFC\",\n",
    "        encoding=\"utf-8\",\n",
    "    )"
   ]
  },
  {
   "cell_type": "markdown",
   "metadata": {},
   "source": [
    "# Monte Carlo Simulation of Uncertainty"
   ]
  },
  {
   "cell_type": "code",
   "execution_count": 38,
   "metadata": {},
   "outputs": [
    {
     "data": {
      "application/javascript": [
       "\n",
       "            setTimeout(function() {\n",
       "                var nbb_cell_id = 38;\n",
       "                var nbb_unformatted_code = \"# setup MonteCarlo Calc\\ndef find_act4mc(name, database):\\n    act_name = [act for act in database if name in act[\\\"name\\\"]][0]\\n    return act_name\\n\\n\\nfc_mc_name = [\\n    \\\"manufacturing_sofc\\\",\\n    \\\"manufacturing_mcfc\\\",\\n    \\\"manufacturing_pafc\\\",\\n    \\\"manufacturing_pemfc\\\",\\n]\";\n",
       "                var nbb_formatted_code = \"# setup MonteCarlo Calc\\ndef find_act4mc(name, database):\\n    act_name = [act for act in database if name in act[\\\"name\\\"]][0]\\n    return act_name\\n\\n\\nfc_mc_name = [\\n    \\\"manufacturing_sofc\\\",\\n    \\\"manufacturing_mcfc\\\",\\n    \\\"manufacturing_pafc\\\",\\n    \\\"manufacturing_pemfc\\\",\\n]\";\n",
       "                var nbb_cells = Jupyter.notebook.get_cells();\n",
       "                for (var i = 0; i < nbb_cells.length; ++i) {\n",
       "                    if (nbb_cells[i].input_prompt_number == nbb_cell_id) {\n",
       "                        if (nbb_cells[i].get_text() == nbb_unformatted_code) {\n",
       "                             nbb_cells[i].set_text(nbb_formatted_code);\n",
       "                        }\n",
       "                        break;\n",
       "                    }\n",
       "                }\n",
       "            }, 500);\n",
       "            "
      ],
      "text/plain": [
       "<IPython.core.display.Javascript object>"
      ]
     },
     "metadata": {},
     "output_type": "display_data"
    }
   ],
   "source": [
    "# setup MonteCarlo Calc\n",
    "def find_act4mc(name, database):\n",
    "    act_name = [act for act in database if name in act[\"name\"]][0]\n",
    "    return act_name\n",
    "\n",
    "\n",
    "fc_mc_name = [\n",
    "    \"manufacturing_sofc\",\n",
    "    \"manufacturing_mcfc\",\n",
    "    \"manufacturing_pafc\",\n",
    "    \"manufacturing_pemfc\",\n",
    "]"
   ]
  },
  {
   "cell_type": "markdown",
   "metadata": {},
   "source": [
    "##  MC uncertainty in Manufacturing phase"
   ]
  },
  {
   "cell_type": "code",
   "execution_count": 39,
   "metadata": {},
   "outputs": [
    {
     "data": {
      "application/javascript": [
       "\n",
       "            setTimeout(function() {\n",
       "                var nbb_cell_id = 39;\n",
       "                var nbb_unformatted_code = \"# One functional unit, multi impact category\\ndef multiImpactMonteCarloLCA(functional_unit, list_methods, iterations):\\n    # Step 1\\n    MC_lca = bw.MonteCarloLCA(functional_unit)\\n    MC_lca.lci()\\n    # Step 2\\n    C_matrices = {}\\n    # Step 3\\n    for method in list_methods:\\n        MC_lca.switch_method(method)\\n        C_matrices[method] = MC_lca.characterization_matrix\\n    # Step 4\\n    results = np.empty((len(list_methods), iterations))\\n    # Step 5\\n    for iteration in range(iterations):\\n        next(MC_lca)\\n        for method_index, method in enumerate(list_methods):\\n            results[method_index, iteration] = (\\n                C_matrices[method] * MC_lca.inventory\\n            ).sum()\\n    return results\\n\\n\\n# define the LCIA methods, functional unit, and the number of iterations\\nsofc_FU = {find_act4mc(fc_mc_name[0], SOFC_import): 1}\\nmcfc_FU = {find_act4mc(fc_mc_name[1], MCFC_import): 1}\\npafc_FU = {find_act4mc(fc_mc_name[2], PAFC_import): 1}\\npemfc_FU = {find_act4mc(fc_mc_name[3], PEMFC_import): 1}\\n\\nRE_sofc_FU = {find_act4mc(fc_mc_name[0], RE_SOFC_import): 1}\\nRE_mcfc_FU = {find_act4mc(fc_mc_name[1], RE_MCFC_import): 1}\\nRE_pafc_FU = {find_act4mc(fc_mc_name[2], RE_PAFC_import): 1}\\nRE_pemfc_FU = {find_act4mc(fc_mc_name[3], RE_PEMFC_import): 1}\\n\\niterations = 1000\";\n",
       "                var nbb_formatted_code = \"# One functional unit, multi impact category\\ndef multiImpactMonteCarloLCA(functional_unit, list_methods, iterations):\\n    # Step 1\\n    MC_lca = bw.MonteCarloLCA(functional_unit)\\n    MC_lca.lci()\\n    # Step 2\\n    C_matrices = {}\\n    # Step 3\\n    for method in list_methods:\\n        MC_lca.switch_method(method)\\n        C_matrices[method] = MC_lca.characterization_matrix\\n    # Step 4\\n    results = np.empty((len(list_methods), iterations))\\n    # Step 5\\n    for iteration in range(iterations):\\n        next(MC_lca)\\n        for method_index, method in enumerate(list_methods):\\n            results[method_index, iteration] = (\\n                C_matrices[method] * MC_lca.inventory\\n            ).sum()\\n    return results\\n\\n\\n# define the LCIA methods, functional unit, and the number of iterations\\nsofc_FU = {find_act4mc(fc_mc_name[0], SOFC_import): 1}\\nmcfc_FU = {find_act4mc(fc_mc_name[1], MCFC_import): 1}\\npafc_FU = {find_act4mc(fc_mc_name[2], PAFC_import): 1}\\npemfc_FU = {find_act4mc(fc_mc_name[3], PEMFC_import): 1}\\n\\nRE_sofc_FU = {find_act4mc(fc_mc_name[0], RE_SOFC_import): 1}\\nRE_mcfc_FU = {find_act4mc(fc_mc_name[1], RE_MCFC_import): 1}\\nRE_pafc_FU = {find_act4mc(fc_mc_name[2], RE_PAFC_import): 1}\\nRE_pemfc_FU = {find_act4mc(fc_mc_name[3], RE_PEMFC_import): 1}\\n\\niterations = 1000\";\n",
       "                var nbb_cells = Jupyter.notebook.get_cells();\n",
       "                for (var i = 0; i < nbb_cells.length; ++i) {\n",
       "                    if (nbb_cells[i].input_prompt_number == nbb_cell_id) {\n",
       "                        if (nbb_cells[i].get_text() == nbb_unformatted_code) {\n",
       "                             nbb_cells[i].set_text(nbb_formatted_code);\n",
       "                        }\n",
       "                        break;\n",
       "                    }\n",
       "                }\n",
       "            }, 500);\n",
       "            "
      ],
      "text/plain": [
       "<IPython.core.display.Javascript object>"
      ]
     },
     "metadata": {},
     "output_type": "display_data"
    }
   ],
   "source": [
    "# One functional unit, multi impact category\n",
    "def multiImpactMonteCarloLCA(functional_unit, list_methods, iterations):\n",
    "    # Step 1\n",
    "    MC_lca = bw.MonteCarloLCA(functional_unit)\n",
    "    MC_lca.lci()\n",
    "    # Step 2\n",
    "    C_matrices = {}\n",
    "    # Step 3\n",
    "    for method in list_methods:\n",
    "        MC_lca.switch_method(method)\n",
    "        C_matrices[method] = MC_lca.characterization_matrix\n",
    "    # Step 4\n",
    "    results = np.empty((len(list_methods), iterations))\n",
    "    # Step 5\n",
    "    for iteration in range(iterations):\n",
    "        next(MC_lca)\n",
    "        for method_index, method in enumerate(list_methods):\n",
    "            results[method_index, iteration] = (\n",
    "                C_matrices[method] * MC_lca.inventory\n",
    "            ).sum()\n",
    "    return results\n",
    "\n",
    "\n",
    "# define the LCIA methods, functional unit, and the number of iterations\n",
    "sofc_FU = {find_act4mc(fc_mc_name[0], SOFC_import): 1}\n",
    "mcfc_FU = {find_act4mc(fc_mc_name[1], MCFC_import): 1}\n",
    "pafc_FU = {find_act4mc(fc_mc_name[2], PAFC_import): 1}\n",
    "pemfc_FU = {find_act4mc(fc_mc_name[3], PEMFC_import): 1}\n",
    "\n",
    "RE_sofc_FU = {find_act4mc(fc_mc_name[0], RE_SOFC_import): 1}\n",
    "RE_mcfc_FU = {find_act4mc(fc_mc_name[1], RE_MCFC_import): 1}\n",
    "RE_pafc_FU = {find_act4mc(fc_mc_name[2], RE_PAFC_import): 1}\n",
    "RE_pemfc_FU = {find_act4mc(fc_mc_name[3], RE_PEMFC_import): 1}\n",
    "\n",
    "iterations = 1000"
   ]
  },
  {
   "cell_type": "code",
   "execution_count": 112,
   "metadata": {},
   "outputs": [
    {
     "data": {
      "application/javascript": [
       "\n",
       "            setTimeout(function() {\n",
       "                var nbb_cell_id = 112;\n",
       "                var nbb_unformatted_code = \"df_sofc_pmc = pd.DataFrame(sofc_pmc_results)\\ndf_mcfc_pmc = pd.DataFrame(mcfc_pmc_results)\\ndf_pafc_pmc = pd.DataFrame(pafc_pmc_results)\\ndf_pemfc_pmc = pd.DataFrame(pemfc_pmc_results)\\ndf_pmc = pd.concat([df_sofc_pmc, df_mcfc_pmc, df_pafc_pmc, df_pemfc_pmc], axis=0)\";\n",
       "                var nbb_formatted_code = \"df_sofc_pmc = pd.DataFrame(sofc_pmc_results)\\ndf_mcfc_pmc = pd.DataFrame(mcfc_pmc_results)\\ndf_pafc_pmc = pd.DataFrame(pafc_pmc_results)\\ndf_pemfc_pmc = pd.DataFrame(pemfc_pmc_results)\\ndf_pmc = pd.concat([df_sofc_pmc, df_mcfc_pmc, df_pafc_pmc, df_pemfc_pmc], axis=0)\";\n",
       "                var nbb_cells = Jupyter.notebook.get_cells();\n",
       "                for (var i = 0; i < nbb_cells.length; ++i) {\n",
       "                    if (nbb_cells[i].input_prompt_number == nbb_cell_id) {\n",
       "                        if (nbb_cells[i].get_text() == nbb_unformatted_code) {\n",
       "                             nbb_cells[i].set_text(nbb_formatted_code);\n",
       "                        }\n",
       "                        break;\n",
       "                    }\n",
       "                }\n",
       "            }, 500);\n",
       "            "
      ],
      "text/plain": [
       "<IPython.core.display.Javascript object>"
      ]
     },
     "metadata": {},
     "output_type": "display_data"
    }
   ],
   "source": [
    "# monte carlo calculation for NG fuel cell\n",
    "sofc_pmc_results = multiImpactMonteCarloLCA(sofc_FU, indicators, iterations)\n",
    "mcfc_pmc_results = multiImpactMonteCarloLCA(mcfc_FU, indicators, iterations)\n",
    "pafc_pmc_results = multiImpactMonteCarloLCA(pafc_FU, indicators, iterations)\n",
    "pemfc_pmc_results = multiImpactMonteCarloLCA(pemfc_FU, indicators, iterations)\n",
    "\n",
    "df_sofc_pmc = pd.DataFrame(sofc_pmc_results)\n",
    "df_mcfc_pmc = pd.DataFrame(mcfc_pmc_results)\n",
    "df_pafc_pmc = pd.DataFrame(pafc_pmc_results)\n",
    "df_pemfc_pmc = pd.DataFrame(pemfc_pmc_results)\n",
    "df_pmc = pd.concat([df_sofc_pmc, df_mcfc_pmc, df_pafc_pmc, df_pemfc_pmc], axis=0)\n",
    "\n",
    "df_pmc.to_excel(\n",
    "    r\"D:\\tencent_files\\chrome_Download\\Research\\LCA\\LCA SOFC\\output\\pmc_primary.xlsx\"\n",
    ")"
   ]
  },
  {
   "cell_type": "code",
   "execution_count": 130,
   "metadata": {},
   "outputs": [
    {
     "ename": "NameError",
     "evalue": "name 'df_pmc' is not defined",
     "output_type": "error",
     "traceback": [
      "\u001b[1;31m---------------------------------------------------------------------------\u001b[0m",
      "\u001b[1;31mNameError\u001b[0m                                 Traceback (most recent call last)",
      "\u001b[1;32m<ipython-input-130-6a365f979cb8>\u001b[0m in \u001b[0;36m<module>\u001b[1;34m\u001b[0m\n\u001b[0;32m     11\u001b[0m \u001b[0mRE_df_pmc\u001b[0m \u001b[1;33m=\u001b[0m \u001b[0mpd\u001b[0m\u001b[1;33m.\u001b[0m\u001b[0mconcat\u001b[0m\u001b[1;33m(\u001b[0m\u001b[1;33m[\u001b[0m\u001b[0mRE_df_sofc_pmc\u001b[0m\u001b[1;33m,\u001b[0m \u001b[0mRE_df_mcfc_pmc\u001b[0m\u001b[1;33m,\u001b[0m \u001b[0mRE_df_pafc_pmc\u001b[0m\u001b[1;33m,\u001b[0m \u001b[0mRE_df_pemfc_pmc\u001b[0m\u001b[1;33m]\u001b[0m\u001b[1;33m,\u001b[0m \u001b[0maxis\u001b[0m\u001b[1;33m=\u001b[0m\u001b[1;36m0\u001b[0m\u001b[1;33m)\u001b[0m\u001b[1;33m\u001b[0m\u001b[1;33m\u001b[0m\u001b[0m\n\u001b[0;32m     12\u001b[0m \u001b[1;33m\u001b[0m\u001b[0m\n\u001b[1;32m---> 13\u001b[1;33m df_pmc.to_excel(\n\u001b[0m\u001b[0;32m     14\u001b[0m     \u001b[1;34mr\"D:\\tencent_files\\chrome_Download\\Research\\LCA\\LCA SOFC\\output\\RE_pmc_primary.xlsx\"\u001b[0m\u001b[1;33m\u001b[0m\u001b[1;33m\u001b[0m\u001b[0m\n\u001b[0;32m     15\u001b[0m )\n",
      "\u001b[1;31mNameError\u001b[0m: name 'df_pmc' is not defined"
     ]
    },
    {
     "data": {
      "application/javascript": [
       "\n",
       "            setTimeout(function() {\n",
       "                var nbb_cell_id = 130;\n",
       "                var nbb_unformatted_code = \"# monte carlo calculation for RE fuel cell\\nRE_sofc_pmc_results = multiImpactMonteCarloLCA(RE_sofc_FU, indicators, iterations)\\nRE_mcfc_pmc_results = multiImpactMonteCarloLCA(RE_mcfc_FU, indicators, iterations)\\nRE_pafc_pmc_results = multiImpactMonteCarloLCA(RE_pafc_FU, indicators, iterations)\\nRE_pemfc_pmc_results = multiImpactMonteCarloLCA(RE_pemfc_FU, indicators, iterations)\\n\\nRE_df_sofc_pmc = pd.DataFrame(RE_sofc_pmc_results)\\nRE_df_mcfc_pmc = pd.DataFrame(RE_mcfc_pmc_results)\\nRE_df_pafc_pmc = pd.DataFrame(RE_pafc_pmc_results)\\nRE_df_pemfc_pmc = pd.DataFrame(RE_pemfc_pmc_results)\\nRE_df_pmc = pd.concat([RE_df_sofc_pmc, RE_df_mcfc_pmc, RE_df_pafc_pmc, RE_df_pemfc_pmc], axis=0)\\n\\ndf_pmc.to_excel(\\n    r\\\"D:\\\\tencent_files\\\\chrome_Download\\\\Research\\\\LCA\\\\LCA SOFC\\\\output\\\\RE_pmc_primary.xlsx\\\"\\n)\";\n",
       "                var nbb_formatted_code = \"# monte carlo calculation for RE fuel cell\\nRE_sofc_pmc_results = multiImpactMonteCarloLCA(RE_sofc_FU, indicators, iterations)\\nRE_mcfc_pmc_results = multiImpactMonteCarloLCA(RE_mcfc_FU, indicators, iterations)\\nRE_pafc_pmc_results = multiImpactMonteCarloLCA(RE_pafc_FU, indicators, iterations)\\nRE_pemfc_pmc_results = multiImpactMonteCarloLCA(RE_pemfc_FU, indicators, iterations)\\n\\nRE_df_sofc_pmc = pd.DataFrame(RE_sofc_pmc_results)\\nRE_df_mcfc_pmc = pd.DataFrame(RE_mcfc_pmc_results)\\nRE_df_pafc_pmc = pd.DataFrame(RE_pafc_pmc_results)\\nRE_df_pemfc_pmc = pd.DataFrame(RE_pemfc_pmc_results)\\nRE_df_pmc = pd.concat(\\n    [RE_df_sofc_pmc, RE_df_mcfc_pmc, RE_df_pafc_pmc, RE_df_pemfc_pmc], axis=0\\n)\\n\\ndf_pmc.to_excel(\\n    r\\\"D:\\\\tencent_files\\\\chrome_Download\\\\Research\\\\LCA\\\\LCA SOFC\\\\output\\\\RE_pmc_primary.xlsx\\\"\\n)\";\n",
       "                var nbb_cells = Jupyter.notebook.get_cells();\n",
       "                for (var i = 0; i < nbb_cells.length; ++i) {\n",
       "                    if (nbb_cells[i].input_prompt_number == nbb_cell_id) {\n",
       "                        if (nbb_cells[i].get_text() == nbb_unformatted_code) {\n",
       "                             nbb_cells[i].set_text(nbb_formatted_code);\n",
       "                        }\n",
       "                        break;\n",
       "                    }\n",
       "                }\n",
       "            }, 500);\n",
       "            "
      ],
      "text/plain": [
       "<IPython.core.display.Javascript object>"
      ]
     },
     "metadata": {},
     "output_type": "display_data"
    }
   ],
   "source": [
    "# monte carlo calculation for RE fuel cell\n",
    "RE_sofc_pmc_results = multiImpactMonteCarloLCA(RE_sofc_FU, indicators, iterations)\n",
    "RE_mcfc_pmc_results = multiImpactMonteCarloLCA(RE_mcfc_FU, indicators, iterations)\n",
    "RE_pafc_pmc_results = multiImpactMonteCarloLCA(RE_pafc_FU, indicators, iterations)\n",
    "RE_pemfc_pmc_results = multiImpactMonteCarloLCA(RE_pemfc_FU, indicators, iterations)\n",
    "\n",
    "RE_df_sofc_pmc = pd.DataFrame(RE_sofc_pmc_results)\n",
    "RE_df_mcfc_pmc = pd.DataFrame(RE_mcfc_pmc_results)\n",
    "RE_df_pafc_pmc = pd.DataFrame(RE_pafc_pmc_results)\n",
    "RE_df_pemfc_pmc = pd.DataFrame(RE_pemfc_pmc_results)\n",
    "RE_df_pmc = pd.concat(\n",
    "    [RE_df_sofc_pmc, RE_df_mcfc_pmc, RE_df_pafc_pmc, RE_df_pemfc_pmc], axis=0\n",
    ")\n",
    "\n"
   ]
  },
  {
   "cell_type": "code",
   "execution_count": 131,
   "metadata": {},
   "outputs": [
    {
     "data": {
      "application/javascript": [
       "\n",
       "            setTimeout(function() {\n",
       "                var nbb_cell_id = 131;\n",
       "                var nbb_unformatted_code = \"RE_df_pmc.to_excel(\\n    r\\\"D:\\\\tencent_files\\\\chrome_Download\\\\Research\\\\LCA\\\\LCA SOFC\\\\output\\\\RE_pmc_primary.xlsx\\\"\\n)\";\n",
       "                var nbb_formatted_code = \"RE_df_pmc.to_excel(\\n    r\\\"D:\\\\tencent_files\\\\chrome_Download\\\\Research\\\\LCA\\\\LCA SOFC\\\\output\\\\RE_pmc_primary.xlsx\\\"\\n)\";\n",
       "                var nbb_cells = Jupyter.notebook.get_cells();\n",
       "                for (var i = 0; i < nbb_cells.length; ++i) {\n",
       "                    if (nbb_cells[i].input_prompt_number == nbb_cell_id) {\n",
       "                        if (nbb_cells[i].get_text() == nbb_unformatted_code) {\n",
       "                             nbb_cells[i].set_text(nbb_formatted_code);\n",
       "                        }\n",
       "                        break;\n",
       "                    }\n",
       "                }\n",
       "            }, 500);\n",
       "            "
      ],
      "text/plain": [
       "<IPython.core.display.Javascript object>"
      ]
     },
     "metadata": {},
     "output_type": "display_data"
    }
   ],
   "source": [
    "RE_df_pmc.to_excel(\n",
    "    r\"D:\\tencent_files\\chrome_Download\\Research\\LCA\\LCA SOFC\\output\\RE_pmc_primary.xlsx\"\n",
    ")"
   ]
  },
  {
   "cell_type": "markdown",
   "metadata": {},
   "source": [
    "## MC uncertainty in operational phase"
   ]
  },
  {
   "cell_type": "code",
   "execution_count": 105,
   "metadata": {},
   "outputs": [
    {
     "data": {
      "application/javascript": [
       "\n",
       "            setTimeout(function() {\n",
       "                var nbb_cell_id = 105;\n",
       "                var nbb_unformatted_code = \"# system operation monte carlo\\nsofc_op_pmc = multiImpactMonteCarloLCA(operation_FU[0], indicators, iterations)\\nmcfc_op_pmc = multiImpactMonteCarloLCA(operation_FU[1], indicators, iterations)\\npafc_op_pmc = multiImpactMonteCarloLCA(operation_FU[2], indicators, iterations)\\npemfc_op_pmc = multiImpactMonteCarloLCA(operation_FU[3], indicators, iterations)\";\n",
       "                var nbb_formatted_code = \"# system operation monte carlo\\nsofc_op_pmc = multiImpactMonteCarloLCA(operation_FU[0], indicators, iterations)\\nmcfc_op_pmc = multiImpactMonteCarloLCA(operation_FU[1], indicators, iterations)\\npafc_op_pmc = multiImpactMonteCarloLCA(operation_FU[2], indicators, iterations)\\npemfc_op_pmc = multiImpactMonteCarloLCA(operation_FU[3], indicators, iterations)\";\n",
       "                var nbb_cells = Jupyter.notebook.get_cells();\n",
       "                for (var i = 0; i < nbb_cells.length; ++i) {\n",
       "                    if (nbb_cells[i].input_prompt_number == nbb_cell_id) {\n",
       "                        if (nbb_cells[i].get_text() == nbb_unformatted_code) {\n",
       "                             nbb_cells[i].set_text(nbb_formatted_code);\n",
       "                        }\n",
       "                        break;\n",
       "                    }\n",
       "                }\n",
       "            }, 500);\n",
       "            "
      ],
      "text/plain": [
       "<IPython.core.display.Javascript object>"
      ]
     },
     "metadata": {},
     "output_type": "display_data"
    }
   ],
   "source": [
    "# system operation monte carlo\n",
    "sofc_op_pmc = multiImpactMonteCarloLCA(operation_FU[0], indicators, iterations)\n",
    "mcfc_op_pmc = multiImpactMonteCarloLCA(operation_FU[1], indicators, iterations)\n",
    "pafc_op_pmc = multiImpactMonteCarloLCA(operation_FU[2], indicators, iterations)\n",
    "pemfc_op_pmc = multiImpactMonteCarloLCA(operation_FU[3], indicators, iterations)\n",
    "\n",
    "op_pmc = pd.concat(\n",
    "    [\n",
    "        pd.DataFrame(sofc_op_pmc),\n",
    "        pd.DataFrame(mcfc_op_pmc),\n",
    "        pd.DataFrame(pafc_op_pmc),\n",
    "        pd.DataFrame(pemfc_op_pmc),\n",
    "    ]\n",
    ")\n",
    "op_pmc.to_excel(\n",
    "    r\"D:\\tencent_files\\chrome_Download\\Research\\LCA\\LCA SOFC\\output\\op_pmc.xlsx\"\n",
    ")"
   ]
  },
  {
   "cell_type": "code",
   "execution_count": 38,
   "metadata": {},
   "outputs": [
    {
     "data": {
      "application/javascript": [
       "\n",
       "            setTimeout(function() {\n",
       "                var nbb_cell_id = 38;\n",
       "                var nbb_unformatted_code = \"# system operation monte carlo for RE fuel cells\\nRE_sofc_op_pmc = multiImpactMonteCarloLCA(RE_operation_FU[0], indicators, iterations)\\nRE_mcfc_op_pmc = multiImpactMonteCarloLCA(RE_operation_FU[1], indicators, iterations)\\nRE_pafc_op_pmc = multiImpactMonteCarloLCA(RE_operation_FU[2], indicators, iterations)\\nRE_pemfc_op_pmc = multiImpactMonteCarloLCA(RE_operation_FU[3], indicators, iterations)\\n\\nRE_op_pmc = pd.concat(\\n    [\\n        pd.DataFrame(RE_sofc_op_pmc),\\n        pd.DataFrame(RE_mcfc_op_pmc),\\n        pd.DataFrame(RE_pafc_op_pmc),\\n        pd.DataFrame(RE_pemfc_op_pmc),\\n    ]\\n)\\nRE_op_pmc.to_excel(\\n    r\\\"D:\\\\tencent_files\\\\chrome_Download\\\\Research\\\\LCA\\\\LCA SOFC\\\\output\\\\RE_op_pmc.xlsx\\\"\\n)\";\n",
       "                var nbb_formatted_code = \"# system operation monte carlo for RE fuel cells\\nRE_sofc_op_pmc = multiImpactMonteCarloLCA(RE_operation_FU[0], indicators, iterations)\\nRE_mcfc_op_pmc = multiImpactMonteCarloLCA(RE_operation_FU[1], indicators, iterations)\\nRE_pafc_op_pmc = multiImpactMonteCarloLCA(RE_operation_FU[2], indicators, iterations)\\nRE_pemfc_op_pmc = multiImpactMonteCarloLCA(RE_operation_FU[3], indicators, iterations)\\n\\nRE_op_pmc = pd.concat(\\n    [\\n        pd.DataFrame(RE_sofc_op_pmc),\\n        pd.DataFrame(RE_mcfc_op_pmc),\\n        pd.DataFrame(RE_pafc_op_pmc),\\n        pd.DataFrame(RE_pemfc_op_pmc),\\n    ]\\n)\\nRE_op_pmc.to_excel(\\n    r\\\"D:\\\\tencent_files\\\\chrome_Download\\\\Research\\\\LCA\\\\LCA SOFC\\\\output\\\\RE_op_pmc.xlsx\\\"\\n)\";\n",
       "                var nbb_cells = Jupyter.notebook.get_cells();\n",
       "                for (var i = 0; i < nbb_cells.length; ++i) {\n",
       "                    if (nbb_cells[i].input_prompt_number == nbb_cell_id) {\n",
       "                        if (nbb_cells[i].get_text() == nbb_unformatted_code) {\n",
       "                             nbb_cells[i].set_text(nbb_formatted_code);\n",
       "                        }\n",
       "                        break;\n",
       "                    }\n",
       "                }\n",
       "            }, 500);\n",
       "            "
      ],
      "text/plain": [
       "<IPython.core.display.Javascript object>"
      ]
     },
     "metadata": {},
     "output_type": "display_data"
    }
   ],
   "source": [
    "# system operation monte carlo for RE fuel cells\n",
    "RE_sofc_op_pmc = multiImpactMonteCarloLCA(RE_operation_FU[0], indicators, iterations)\n",
    "RE_mcfc_op_pmc = multiImpactMonteCarloLCA(RE_operation_FU[1], indicators, iterations)\n",
    "RE_pafc_op_pmc = multiImpactMonteCarloLCA(RE_operation_FU[2], indicators, iterations)\n",
    "RE_pemfc_op_pmc = multiImpactMonteCarloLCA(RE_operation_FU[3], indicators, iterations)\n",
    "\n",
    "RE_op_pmc = pd.concat(\n",
    "    [\n",
    "        pd.DataFrame(RE_sofc_op_pmc),\n",
    "        pd.DataFrame(RE_mcfc_op_pmc),\n",
    "        pd.DataFrame(RE_pafc_op_pmc),\n",
    "        pd.DataFrame(RE_pemfc_op_pmc),\n",
    "    ]\n",
    ")\n",
    "RE_op_pmc.to_excel(\n",
    "    r\"D:\\tencent_files\\chrome_Download\\Research\\LCA\\LCA SOFC\\output\\RE_op_pmc.xlsx\"\n",
    ")"
   ]
  },
  {
   "cell_type": "markdown",
   "metadata": {},
   "source": [
    "## MC for system expansion "
   ]
  },
  {
   "cell_type": "code",
   "execution_count": null,
   "metadata": {},
   "outputs": [],
   "source": [
    "# system expansion monte carlo\n",
    "sofc_expan_pmc = multiImpactMonteCarloLCA(sys_expan_FU[0], indicators, iterations)\n",
    "mcfc_expan_pmc = multiImpactMonteCarloLCA(sys_expan_FU[1], indicators, iterations)\n",
    "pafc_expan_pmc = multiImpactMonteCarloLCA(sys_expan_FU[2], indicators, iterations)\n",
    "pemfc_expan_pmc = multiImpactMonteCarloLCA(sys_expan_FU[3], indicators, iterations)"
   ]
  },
  {
   "cell_type": "code",
   "execution_count": null,
   "metadata": {},
   "outputs": [],
   "source": [
    "expan_pmc = pd.concat(\n",
    "    [\n",
    "        pd.DataFrame(sofc_expan_pmc),\n",
    "        pd.DataFrame(mcfc_expan_pmc),\n",
    "        pd.DataFrame(pafc_expan_pmc),\n",
    "        pd.DataFrame(pemfc_expan_pmc),\n",
    "    ]\n",
    ")\n",
    "expan_pmc.to_excel(\n",
    "    r\"D:\\tencent files\\chrome Download\\Research\\LCA\\LCA SOFC\\output\\expan_pmc.xlsx\"\n",
    ")"
   ]
  },
  {
   "cell_type": "markdown",
   "metadata": {},
   "source": [
    "## Data processing and visualisation "
   ]
  },
  {
   "cell_type": "markdown",
   "metadata": {},
   "source": [
    "### High bound low bound of NG Fuel cells"
   ]
  },
  {
   "cell_type": "code",
   "execution_count": 40,
   "metadata": {},
   "outputs": [
    {
     "data": {
      "text/plain": [
       "array([[ 6],\n",
       "       [ 5],\n",
       "       [15],\n",
       "       [10]])"
      ]
     },
     "execution_count": 40,
     "metadata": {},
     "output_type": "execute_result"
    },
    {
     "data": {
      "application/javascript": [
       "\n",
       "            setTimeout(function() {\n",
       "                var nbb_cell_id = 40;\n",
       "                var nbb_unformatted_code = \"allocation_factor = np.reshape([0.7008, 0.6413, 0.5887, 0.5239], (4, 1))\\nlifetime = np.reshape([6, 5, 15, 10], (4, 1))\\nlifetime\";\n",
       "                var nbb_formatted_code = \"allocation_factor = np.reshape([0.7008, 0.6413, 0.5887, 0.5239], (4, 1))\\nlifetime = np.reshape([6, 5, 15, 10], (4, 1))\\nlifetime\";\n",
       "                var nbb_cells = Jupyter.notebook.get_cells();\n",
       "                for (var i = 0; i < nbb_cells.length; ++i) {\n",
       "                    if (nbb_cells[i].input_prompt_number == nbb_cell_id) {\n",
       "                        if (nbb_cells[i].get_text() == nbb_unformatted_code) {\n",
       "                             nbb_cells[i].set_text(nbb_formatted_code);\n",
       "                        }\n",
       "                        break;\n",
       "                    }\n",
       "                }\n",
       "            }, 500);\n",
       "            "
      ],
      "text/plain": [
       "<IPython.core.display.Javascript object>"
      ]
     },
     "metadata": {},
     "output_type": "display_data"
    }
   ],
   "source": [
    "allocation_factor = np.reshape([0.7008, 0.6413, 0.5887, 0.5239], (4, 1))\n",
    "lifetime = np.reshape([6, 5, 15, 10], (4, 1))\n",
    "lifetime"
   ]
  },
  {
   "cell_type": "code",
   "execution_count": 41,
   "metadata": {},
   "outputs": [
    {
     "data": {
      "application/javascript": [
       "\n",
       "            setTimeout(function() {\n",
       "                var nbb_cell_id = 41;\n",
       "                var nbb_unformatted_code = \"# read pmc_results from exported excelfile\\nwith pd.ExcelFile(\\n    r\\\"D:\\\\tencent_files\\\\chrome_Download\\\\Research\\\\LCA\\\\LCA SOFC\\\\output\\\\pmc_primary.xlsx\\\"\\n) as xls:\\n    manu_pmc = pd.read_excel(xls, index_col=0, header=0)\\n\\nls = np.reshape(np.arange(0, 16), (4, 4))\\nmanu_gwp_pmc = manu_pmc.iloc[ls[:, 0]]\\nmanu_fdp_pmc = manu_pmc.iloc[ls[:, 1]]\\nmanu_pmfp_pmc = manu_pmc.iloc[ls[:, 2]]\\nmanu_ap_pmc = manu_pmc.iloc[ls[:, 3]]\\n\\nwith pd.ExcelFile(\\n    r\\\"D:\\\\tencent_files\\\\chrome_Download\\\\Research\\\\LCA\\\\LCA SOFC\\\\output\\\\op_pmc.xlsx\\\"\\n) as op:\\n    op_pmc = pd.read_excel(op, index_col=0, header=0)\\n\\nls = np.reshape(np.arange(0, 16), (4, 4))\\nop_gwp_pmc = op_pmc.iloc[ls[:, 0]]\\nop_fdp_pmc = op_pmc.iloc[ls[:, 1]]\\nop_pmfp_pmc = op_pmc.iloc[ls[:, 2]]\\nop_ap_pmc = op_pmc.iloc[ls[:, 3]]\";\n",
       "                var nbb_formatted_code = \"# read pmc_results from exported excelfile\\nwith pd.ExcelFile(\\n    r\\\"D:\\\\tencent_files\\\\chrome_Download\\\\Research\\\\LCA\\\\LCA SOFC\\\\output\\\\pmc_primary.xlsx\\\"\\n) as xls:\\n    manu_pmc = pd.read_excel(xls, index_col=0, header=0)\\n\\nls = np.reshape(np.arange(0, 16), (4, 4))\\nmanu_gwp_pmc = manu_pmc.iloc[ls[:, 0]]\\nmanu_fdp_pmc = manu_pmc.iloc[ls[:, 1]]\\nmanu_pmfp_pmc = manu_pmc.iloc[ls[:, 2]]\\nmanu_ap_pmc = manu_pmc.iloc[ls[:, 3]]\\n\\nwith pd.ExcelFile(\\n    r\\\"D:\\\\tencent_files\\\\chrome_Download\\\\Research\\\\LCA\\\\LCA SOFC\\\\output\\\\op_pmc.xlsx\\\"\\n) as op:\\n    op_pmc = pd.read_excel(op, index_col=0, header=0)\\n\\nls = np.reshape(np.arange(0, 16), (4, 4))\\nop_gwp_pmc = op_pmc.iloc[ls[:, 0]]\\nop_fdp_pmc = op_pmc.iloc[ls[:, 1]]\\nop_pmfp_pmc = op_pmc.iloc[ls[:, 2]]\\nop_ap_pmc = op_pmc.iloc[ls[:, 3]]\";\n",
       "                var nbb_cells = Jupyter.notebook.get_cells();\n",
       "                for (var i = 0; i < nbb_cells.length; ++i) {\n",
       "                    if (nbb_cells[i].input_prompt_number == nbb_cell_id) {\n",
       "                        if (nbb_cells[i].get_text() == nbb_unformatted_code) {\n",
       "                             nbb_cells[i].set_text(nbb_formatted_code);\n",
       "                        }\n",
       "                        break;\n",
       "                    }\n",
       "                }\n",
       "            }, 500);\n",
       "            "
      ],
      "text/plain": [
       "<IPython.core.display.Javascript object>"
      ]
     },
     "metadata": {},
     "output_type": "display_data"
    }
   ],
   "source": [
    "# read pmc_results from exported excelfile\n",
    "with pd.ExcelFile(\n",
    "    r\"D:\\tencent_files\\chrome_Download\\Research\\LCA\\LCA SOFC\\output\\pmc_primary.xlsx\"\n",
    ") as xls:\n",
    "    manu_pmc = pd.read_excel(xls, index_col=0, header=0)\n",
    "\n",
    "ls = np.reshape(np.arange(0, 16), (4, 4))\n",
    "manu_gwp_pmc = manu_pmc.iloc[ls[:, 0]]\n",
    "manu_fdp_pmc = manu_pmc.iloc[ls[:, 1]]\n",
    "manu_pmfp_pmc = manu_pmc.iloc[ls[:, 2]]\n",
    "manu_ap_pmc = manu_pmc.iloc[ls[:, 3]]\n",
    "\n",
    "with pd.ExcelFile(\n",
    "    r\"D:\\tencent_files\\chrome_Download\\Research\\LCA\\LCA SOFC\\output\\op_pmc.xlsx\"\n",
    ") as op:\n",
    "    op_pmc = pd.read_excel(op, index_col=0, header=0)\n",
    "\n",
    "ls = np.reshape(np.arange(0, 16), (4, 4))\n",
    "op_gwp_pmc = op_pmc.iloc[ls[:, 0]]\n",
    "op_fdp_pmc = op_pmc.iloc[ls[:, 1]]\n",
    "op_pmfp_pmc = op_pmc.iloc[ls[:, 2]]\n",
    "op_ap_pmc = op_pmc.iloc[ls[:, 3]]"
   ]
  },
  {
   "cell_type": "code",
   "execution_count": 42,
   "metadata": {},
   "outputs": [
    {
     "data": {
      "text/plain": [
       "[0    291.636489\n",
       " 0    240.343271\n",
       " 0    218.707760\n",
       " 0    343.296822\n",
       " Name: 0.01, dtype: float64,\n",
       " 0    379.066926\n",
       " 0    394.817097\n",
       " 0    375.605486\n",
       " 0    406.482402\n",
       " Name: 0.99, dtype: float64,\n",
       " 1    165.353425\n",
       " 1    172.470908\n",
       " 1    176.580801\n",
       " 1    178.054241\n",
       " Name: 0.01, dtype: float64,\n",
       " 1    245.430487\n",
       " 1    257.157119\n",
       " 1    257.282892\n",
       " 1    256.147994\n",
       " Name: 0.99, dtype: float64,\n",
       " 2    0.113983\n",
       " 2    0.167208\n",
       " 2    0.124534\n",
       " 2    0.089371\n",
       " Name: 0.01, dtype: float64,\n",
       " 2    0.192039\n",
       " 2    0.268807\n",
       " 2    0.204625\n",
       " 2    0.181185\n",
       " Name: 0.99, dtype: float64,\n",
       " 3    0.341465\n",
       " 3    0.556865\n",
       " 3    0.397442\n",
       " 3    0.260532\n",
       " Name: 0.01, dtype: float64,\n",
       " 3    0.610065\n",
       " 3    0.997594\n",
       " 3    0.700302\n",
       " 3    0.544345\n",
       " Name: 0.99, dtype: float64]"
      ]
     },
     "execution_count": 42,
     "metadata": {},
     "output_type": "execute_result"
    },
    {
     "data": {
      "application/javascript": [
       "\n",
       "            setTimeout(function() {\n",
       "                var nbb_cell_id = 42;\n",
       "                var nbb_unformatted_code = \"gwp_pmc_lca = pd.DataFrame(\\n    (op_gwp_pmc / 7 + manu_gwp_pmc / (lifetime * 7)) * allocation_factor\\n)\\nfdp_pmc_lca = pd.DataFrame(\\n    (op_fdp_pmc / 7 + manu_fdp_pmc / (lifetime * 7)) * allocation_factor\\n)\\npmfp_pmc_lca = pd.DataFrame(\\n    (op_pmfp_pmc / 7 + manu_pmfp_pmc / (lifetime * 7)) * allocation_factor\\n)\\nap_pmc_lca = pd.DataFrame(\\n    (op_ap_pmc / 7 + manu_ap_pmc / (lifetime * 7)) * allocation_factor\\n)\\n\\n[\\n        gwp_pmc_lca.quantile(q=0.01, axis=1),\\n        gwp_pmc_lca.quantile(q=0.99, axis=1),\\n        fdp_pmc_lca.quantile(q=0.01, axis=1),\\n        fdp_pmc_lca.quantile(q=0.99, axis=1),\\n        pmfp_pmc_lca.quantile(q=0.01, axis=1),\\n        pmfp_pmc_lca.quantile(q=0.99, axis=1),\\n        ap_pmc_lca.quantile(q=0.01, axis=1),\\n        ap_pmc_lca.quantile(q=0.99, axis=1),\\n    ]\";\n",
       "                var nbb_formatted_code = \"gwp_pmc_lca = pd.DataFrame(\\n    (op_gwp_pmc / 7 + manu_gwp_pmc / (lifetime * 7)) * allocation_factor\\n)\\nfdp_pmc_lca = pd.DataFrame(\\n    (op_fdp_pmc / 7 + manu_fdp_pmc / (lifetime * 7)) * allocation_factor\\n)\\npmfp_pmc_lca = pd.DataFrame(\\n    (op_pmfp_pmc / 7 + manu_pmfp_pmc / (lifetime * 7)) * allocation_factor\\n)\\nap_pmc_lca = pd.DataFrame(\\n    (op_ap_pmc / 7 + manu_ap_pmc / (lifetime * 7)) * allocation_factor\\n)\\n\\n[\\n    gwp_pmc_lca.quantile(q=0.01, axis=1),\\n    gwp_pmc_lca.quantile(q=0.99, axis=1),\\n    fdp_pmc_lca.quantile(q=0.01, axis=1),\\n    fdp_pmc_lca.quantile(q=0.99, axis=1),\\n    pmfp_pmc_lca.quantile(q=0.01, axis=1),\\n    pmfp_pmc_lca.quantile(q=0.99, axis=1),\\n    ap_pmc_lca.quantile(q=0.01, axis=1),\\n    ap_pmc_lca.quantile(q=0.99, axis=1),\\n]\";\n",
       "                var nbb_cells = Jupyter.notebook.get_cells();\n",
       "                for (var i = 0; i < nbb_cells.length; ++i) {\n",
       "                    if (nbb_cells[i].input_prompt_number == nbb_cell_id) {\n",
       "                        if (nbb_cells[i].get_text() == nbb_unformatted_code) {\n",
       "                             nbb_cells[i].set_text(nbb_formatted_code);\n",
       "                        }\n",
       "                        break;\n",
       "                    }\n",
       "                }\n",
       "            }, 500);\n",
       "            "
      ],
      "text/plain": [
       "<IPython.core.display.Javascript object>"
      ]
     },
     "metadata": {},
     "output_type": "display_data"
    }
   ],
   "source": [
    "gwp_pmc_lca = pd.DataFrame(\n",
    "    (op_gwp_pmc / 7 + manu_gwp_pmc / (lifetime * 7)) * allocation_factor\n",
    ")\n",
    "fdp_pmc_lca = pd.DataFrame(\n",
    "    (op_fdp_pmc / 7 + manu_fdp_pmc / (lifetime * 7)) * allocation_factor\n",
    ")\n",
    "pmfp_pmc_lca = pd.DataFrame(\n",
    "    (op_pmfp_pmc / 7 + manu_pmfp_pmc / (lifetime * 7)) * allocation_factor\n",
    ")\n",
    "ap_pmc_lca = pd.DataFrame(\n",
    "    (op_ap_pmc / 7 + manu_ap_pmc / (lifetime * 7)) * allocation_factor\n",
    ")\n",
    "\n",
    "[\n",
    "        gwp_pmc_lca.quantile(q=0.01, axis=1),\n",
    "        gwp_pmc_lca.quantile(q=0.99, axis=1),\n",
    "        fdp_pmc_lca.quantile(q=0.01, axis=1),\n",
    "        fdp_pmc_lca.quantile(q=0.99, axis=1),\n",
    "        pmfp_pmc_lca.quantile(q=0.01, axis=1),\n",
    "        pmfp_pmc_lca.quantile(q=0.99, axis=1),\n",
    "        ap_pmc_lca.quantile(q=0.01, axis=1),\n",
    "        ap_pmc_lca.quantile(q=0.99, axis=1),\n",
    "    ]\n"
   ]
  },
  {
   "cell_type": "markdown",
   "metadata": {},
   "source": [
    "### High bound low bound of RE fuel cells"
   ]
  },
  {
   "cell_type": "code",
   "execution_count": 43,
   "metadata": {},
   "outputs": [
    {
     "data": {
      "text/plain": [
       "[0    28.464226\n",
       " 0    27.535924\n",
       " 0    25.647481\n",
       " 0    21.842566\n",
       " Name: 0.01, dtype: float64,\n",
       " 0    178.469752\n",
       " 0    147.039218\n",
       " 0    160.967435\n",
       " 0    148.831905\n",
       " Name: 0.99, dtype: float64,\n",
       " 1    8.769347\n",
       " 1    8.439365\n",
       " 1    8.008970\n",
       " 1    6.918855\n",
       " Name: 0.01, dtype: float64,\n",
       " 1    59.407384\n",
       " 1    47.026078\n",
       " 1    50.562030\n",
       " 1    50.697534\n",
       " Name: 0.99, dtype: float64,\n",
       " 2    0.220980\n",
       " 2    0.239332\n",
       " 2    0.218863\n",
       " 2    0.190296\n",
       " Name: 0.01, dtype: float64,\n",
       " 2    0.865460\n",
       " 2    0.739048\n",
       " 2    0.793721\n",
       " 2    0.730369\n",
       " Name: 0.99, dtype: float64,\n",
       " 3    0.629122\n",
       " 3    0.743631\n",
       " 3    0.711158\n",
       " 3    0.552787\n",
       " Name: 0.01, dtype: float64,\n",
       " 3    1.725469\n",
       " 3    1.621636\n",
       " 3    1.624529\n",
       " 3    1.522802\n",
       " Name: 0.99, dtype: float64]"
      ]
     },
     "execution_count": 43,
     "metadata": {},
     "output_type": "execute_result"
    },
    {
     "data": {
      "application/javascript": [
       "\n",
       "            setTimeout(function() {\n",
       "                var nbb_cell_id = 43;\n",
       "                var nbb_unformatted_code = \"# read pmc_results from exported excelfile\\nwith pd.ExcelFile(\\n    r\\\"D:\\\\tencent_files\\\\chrome_Download\\\\Research\\\\LCA\\\\LCA SOFC\\\\output\\\\RE_pmc_primary.xlsx\\\"\\n) as xls:\\n    manu_pmc = pd.read_excel(xls, index_col=0, header=0)\\n\\nls = np.reshape(np.arange(0, 16), (4, 4))\\nmanu_gwp_pmc = manu_pmc.iloc[ls[:, 0]]\\nmanu_fdp_pmc = manu_pmc.iloc[ls[:, 1]]\\nmanu_pmfp_pmc = manu_pmc.iloc[ls[:, 2]]\\nmanu_ap_pmc = manu_pmc.iloc[ls[:, 3]]\\n\\nwith pd.ExcelFile(\\n    r\\\"D:\\\\tencent_files\\\\chrome_Download\\\\Research\\\\LCA\\\\LCA SOFC\\\\output\\\\RE_op_pmc.xlsx\\\"\\n) as op:\\n    op_pmc = pd.read_excel(op, index_col=0, header=0)\\n\\nls = np.reshape(np.arange(0, 16), (4, 4))\\nop_gwp_pmc = op_pmc.iloc[ls[:, 0]]\\nop_fdp_pmc = op_pmc.iloc[ls[:, 1]]\\nop_pmfp_pmc = op_pmc.iloc[ls[:, 2]]\\nop_ap_pmc = op_pmc.iloc[ls[:, 3]]\\n\\ngwp_pmc_lca = pd.DataFrame(\\n    (op_gwp_pmc / 7 + manu_gwp_pmc / (lifetime * 7)) * allocation_factor\\n)\\nfdp_pmc_lca = pd.DataFrame(\\n    (op_fdp_pmc / 7 + manu_fdp_pmc / (lifetime * 7)) * allocation_factor\\n)\\npmfp_pmc_lca = pd.DataFrame(\\n    (op_pmfp_pmc / 7 + manu_pmfp_pmc / (lifetime * 7)) * allocation_factor\\n)\\nap_pmc_lca = pd.DataFrame(\\n    (op_ap_pmc / 7 + manu_ap_pmc / (lifetime * 7)) * allocation_factor\\n)\\n\\n[\\n        gwp_pmc_lca.quantile(q=0.01, axis=1),\\n        gwp_pmc_lca.quantile(q=0.99, axis=1),\\n        fdp_pmc_lca.quantile(q=0.01, axis=1),\\n        fdp_pmc_lca.quantile(q=0.99, axis=1),\\n        pmfp_pmc_lca.quantile(q=0.01, axis=1),\\n        pmfp_pmc_lca.quantile(q=0.99, axis=1),\\n        ap_pmc_lca.quantile(q=0.01, axis=1),\\n        ap_pmc_lca.quantile(q=0.99, axis=1),\\n    ]\";\n",
       "                var nbb_formatted_code = \"# read pmc_results from exported excelfile\\nwith pd.ExcelFile(\\n    r\\\"D:\\\\tencent_files\\\\chrome_Download\\\\Research\\\\LCA\\\\LCA SOFC\\\\output\\\\RE_pmc_primary.xlsx\\\"\\n) as xls:\\n    manu_pmc = pd.read_excel(xls, index_col=0, header=0)\\n\\nls = np.reshape(np.arange(0, 16), (4, 4))\\nmanu_gwp_pmc = manu_pmc.iloc[ls[:, 0]]\\nmanu_fdp_pmc = manu_pmc.iloc[ls[:, 1]]\\nmanu_pmfp_pmc = manu_pmc.iloc[ls[:, 2]]\\nmanu_ap_pmc = manu_pmc.iloc[ls[:, 3]]\\n\\nwith pd.ExcelFile(\\n    r\\\"D:\\\\tencent_files\\\\chrome_Download\\\\Research\\\\LCA\\\\LCA SOFC\\\\output\\\\RE_op_pmc.xlsx\\\"\\n) as op:\\n    op_pmc = pd.read_excel(op, index_col=0, header=0)\\n\\nls = np.reshape(np.arange(0, 16), (4, 4))\\nop_gwp_pmc = op_pmc.iloc[ls[:, 0]]\\nop_fdp_pmc = op_pmc.iloc[ls[:, 1]]\\nop_pmfp_pmc = op_pmc.iloc[ls[:, 2]]\\nop_ap_pmc = op_pmc.iloc[ls[:, 3]]\\n\\ngwp_pmc_lca = pd.DataFrame(\\n    (op_gwp_pmc / 7 + manu_gwp_pmc / (lifetime * 7)) * allocation_factor\\n)\\nfdp_pmc_lca = pd.DataFrame(\\n    (op_fdp_pmc / 7 + manu_fdp_pmc / (lifetime * 7)) * allocation_factor\\n)\\npmfp_pmc_lca = pd.DataFrame(\\n    (op_pmfp_pmc / 7 + manu_pmfp_pmc / (lifetime * 7)) * allocation_factor\\n)\\nap_pmc_lca = pd.DataFrame(\\n    (op_ap_pmc / 7 + manu_ap_pmc / (lifetime * 7)) * allocation_factor\\n)\\n\\n[\\n    gwp_pmc_lca.quantile(q=0.01, axis=1),\\n    gwp_pmc_lca.quantile(q=0.99, axis=1),\\n    fdp_pmc_lca.quantile(q=0.01, axis=1),\\n    fdp_pmc_lca.quantile(q=0.99, axis=1),\\n    pmfp_pmc_lca.quantile(q=0.01, axis=1),\\n    pmfp_pmc_lca.quantile(q=0.99, axis=1),\\n    ap_pmc_lca.quantile(q=0.01, axis=1),\\n    ap_pmc_lca.quantile(q=0.99, axis=1),\\n]\";\n",
       "                var nbb_cells = Jupyter.notebook.get_cells();\n",
       "                for (var i = 0; i < nbb_cells.length; ++i) {\n",
       "                    if (nbb_cells[i].input_prompt_number == nbb_cell_id) {\n",
       "                        if (nbb_cells[i].get_text() == nbb_unformatted_code) {\n",
       "                             nbb_cells[i].set_text(nbb_formatted_code);\n",
       "                        }\n",
       "                        break;\n",
       "                    }\n",
       "                }\n",
       "            }, 500);\n",
       "            "
      ],
      "text/plain": [
       "<IPython.core.display.Javascript object>"
      ]
     },
     "metadata": {},
     "output_type": "display_data"
    }
   ],
   "source": [
    "# read pmc_results from exported excelfile\n",
    "with pd.ExcelFile(\n",
    "    r\"D:\\tencent_files\\chrome_Download\\Research\\LCA\\LCA SOFC\\output\\RE_pmc_primary.xlsx\"\n",
    ") as xls:\n",
    "    manu_pmc = pd.read_excel(xls, index_col=0, header=0)\n",
    "\n",
    "ls = np.reshape(np.arange(0, 16), (4, 4))\n",
    "manu_gwp_pmc = manu_pmc.iloc[ls[:, 0]]\n",
    "manu_fdp_pmc = manu_pmc.iloc[ls[:, 1]]\n",
    "manu_pmfp_pmc = manu_pmc.iloc[ls[:, 2]]\n",
    "manu_ap_pmc = manu_pmc.iloc[ls[:, 3]]\n",
    "\n",
    "with pd.ExcelFile(\n",
    "    r\"D:\\tencent_files\\chrome_Download\\Research\\LCA\\LCA SOFC\\output\\RE_op_pmc.xlsx\"\n",
    ") as op:\n",
    "    op_pmc = pd.read_excel(op, index_col=0, header=0)\n",
    "\n",
    "ls = np.reshape(np.arange(0, 16), (4, 4))\n",
    "op_gwp_pmc = op_pmc.iloc[ls[:, 0]]\n",
    "op_fdp_pmc = op_pmc.iloc[ls[:, 1]]\n",
    "op_pmfp_pmc = op_pmc.iloc[ls[:, 2]]\n",
    "op_ap_pmc = op_pmc.iloc[ls[:, 3]]\n",
    "\n",
    "gwp_pmc_lca = pd.DataFrame(\n",
    "    (op_gwp_pmc / 7 + manu_gwp_pmc / (lifetime * 7)) * allocation_factor\n",
    ")\n",
    "fdp_pmc_lca = pd.DataFrame(\n",
    "    (op_fdp_pmc / 7 + manu_fdp_pmc / (lifetime * 7)) * allocation_factor\n",
    ")\n",
    "pmfp_pmc_lca = pd.DataFrame(\n",
    "    (op_pmfp_pmc / 7 + manu_pmfp_pmc / (lifetime * 7)) * allocation_factor\n",
    ")\n",
    "ap_pmc_lca = pd.DataFrame(\n",
    "    (op_ap_pmc / 7 + manu_ap_pmc / (lifetime * 7)) * allocation_factor\n",
    ")\n",
    "\n",
    "[\n",
    "        gwp_pmc_lca.quantile(q=0.01, axis=1),\n",
    "        gwp_pmc_lca.quantile(q=0.99, axis=1),\n",
    "        fdp_pmc_lca.quantile(q=0.01, axis=1),\n",
    "        fdp_pmc_lca.quantile(q=0.99, axis=1),\n",
    "        pmfp_pmc_lca.quantile(q=0.01, axis=1),\n",
    "        pmfp_pmc_lca.quantile(q=0.99, axis=1),\n",
    "        ap_pmc_lca.quantile(q=0.01, axis=1),\n",
    "        ap_pmc_lca.quantile(q=0.99, axis=1),\n",
    "    ]\n"
   ]
  },
  {
   "cell_type": "code",
   "execution_count": 55,
   "metadata": {},
   "outputs": [
    {
     "data": {
      "text/html": [
       "<div>\n",
       "<style scoped>\n",
       "    .dataframe tbody tr th:only-of-type {\n",
       "        vertical-align: middle;\n",
       "    }\n",
       "\n",
       "    .dataframe tbody tr th {\n",
       "        vertical-align: top;\n",
       "    }\n",
       "\n",
       "    .dataframe thead th {\n",
       "        text-align: right;\n",
       "    }\n",
       "</style>\n",
       "<table border=\"1\" class=\"dataframe\">\n",
       "  <thead>\n",
       "    <tr style=\"text-align: right;\">\n",
       "      <th></th>\n",
       "      <th>0</th>\n",
       "      <th>1</th>\n",
       "      <th>2</th>\n",
       "      <th>3</th>\n",
       "      <th>4</th>\n",
       "      <th>5</th>\n",
       "      <th>6</th>\n",
       "      <th>7</th>\n",
       "      <th>8</th>\n",
       "      <th>9</th>\n",
       "      <th>...</th>\n",
       "      <th>992</th>\n",
       "      <th>993</th>\n",
       "      <th>994</th>\n",
       "      <th>995</th>\n",
       "      <th>996</th>\n",
       "      <th>997</th>\n",
       "      <th>998</th>\n",
       "      <th>999</th>\n",
       "      <th>min</th>\n",
       "      <th>max</th>\n",
       "    </tr>\n",
       "  </thead>\n",
       "  <tbody>\n",
       "    <tr>\n",
       "      <th>0</th>\n",
       "      <td>1354.348764</td>\n",
       "      <td>595.059334</td>\n",
       "      <td>1442.738806</td>\n",
       "      <td>780.447158</td>\n",
       "      <td>653.872603</td>\n",
       "      <td>805.224285</td>\n",
       "      <td>582.757330</td>\n",
       "      <td>891.528079</td>\n",
       "      <td>407.614430</td>\n",
       "      <td>1080.520433</td>\n",
       "      <td>...</td>\n",
       "      <td>472.615596</td>\n",
       "      <td>279.380878</td>\n",
       "      <td>704.783017</td>\n",
       "      <td>326.280137</td>\n",
       "      <td>296.286325</td>\n",
       "      <td>1094.736152</td>\n",
       "      <td>487.892317</td>\n",
       "      <td>756.504186</td>\n",
       "      <td>175.806303</td>\n",
       "      <td>3384.952718</td>\n",
       "    </tr>\n",
       "    <tr>\n",
       "      <th>0</th>\n",
       "      <td>357.544894</td>\n",
       "      <td>381.638413</td>\n",
       "      <td>533.884593</td>\n",
       "      <td>361.739198</td>\n",
       "      <td>424.248880</td>\n",
       "      <td>366.576836</td>\n",
       "      <td>884.826163</td>\n",
       "      <td>449.704174</td>\n",
       "      <td>927.445030</td>\n",
       "      <td>493.417360</td>\n",
       "      <td>...</td>\n",
       "      <td>486.271855</td>\n",
       "      <td>744.793029</td>\n",
       "      <td>321.795765</td>\n",
       "      <td>501.627616</td>\n",
       "      <td>735.177621</td>\n",
       "      <td>498.467510</td>\n",
       "      <td>455.742724</td>\n",
       "      <td>328.936984</td>\n",
       "      <td>155.792238</td>\n",
       "      <td>2027.814844</td>\n",
       "    </tr>\n",
       "    <tr>\n",
       "      <th>0</th>\n",
       "      <td>542.152546</td>\n",
       "      <td>405.266629</td>\n",
       "      <td>894.818624</td>\n",
       "      <td>1047.603369</td>\n",
       "      <td>1607.346005</td>\n",
       "      <td>1062.440712</td>\n",
       "      <td>396.725813</td>\n",
       "      <td>1252.318866</td>\n",
       "      <td>689.486351</td>\n",
       "      <td>591.525594</td>\n",
       "      <td>...</td>\n",
       "      <td>563.961569</td>\n",
       "      <td>382.224792</td>\n",
       "      <td>1776.086653</td>\n",
       "      <td>978.480975</td>\n",
       "      <td>504.039539</td>\n",
       "      <td>784.707560</td>\n",
       "      <td>409.800478</td>\n",
       "      <td>382.204476</td>\n",
       "      <td>158.533572</td>\n",
       "      <td>4517.251802</td>\n",
       "    </tr>\n",
       "    <tr>\n",
       "      <th>0</th>\n",
       "      <td>370.052159</td>\n",
       "      <td>713.538859</td>\n",
       "      <td>1003.699665</td>\n",
       "      <td>1062.268838</td>\n",
       "      <td>417.798969</td>\n",
       "      <td>487.656479</td>\n",
       "      <td>842.813508</td>\n",
       "      <td>1184.548142</td>\n",
       "      <td>996.940743</td>\n",
       "      <td>946.915910</td>\n",
       "      <td>...</td>\n",
       "      <td>850.135100</td>\n",
       "      <td>1394.663387</td>\n",
       "      <td>552.213837</td>\n",
       "      <td>1173.991812</td>\n",
       "      <td>393.944679</td>\n",
       "      <td>1468.135269</td>\n",
       "      <td>300.020165</td>\n",
       "      <td>598.273992</td>\n",
       "      <td>190.350709</td>\n",
       "      <td>3202.992223</td>\n",
       "    </tr>\n",
       "  </tbody>\n",
       "</table>\n",
       "<p>4 rows × 1002 columns</p>\n",
       "</div>"
      ],
      "text/plain": [
       "             0           1            2            3            4  \\\n",
       "0  1354.348764  595.059334  1442.738806   780.447158   653.872603   \n",
       "0   357.544894  381.638413   533.884593   361.739198   424.248880   \n",
       "0   542.152546  405.266629   894.818624  1047.603369  1607.346005   \n",
       "0   370.052159  713.538859  1003.699665  1062.268838   417.798969   \n",
       "\n",
       "             5           6            7           8            9  ...  \\\n",
       "0   805.224285  582.757330   891.528079  407.614430  1080.520433  ...   \n",
       "0   366.576836  884.826163   449.704174  927.445030   493.417360  ...   \n",
       "0  1062.440712  396.725813  1252.318866  689.486351   591.525594  ...   \n",
       "0   487.656479  842.813508  1184.548142  996.940743   946.915910  ...   \n",
       "\n",
       "          992          993          994          995         996          997  \\\n",
       "0  472.615596   279.380878   704.783017   326.280137  296.286325  1094.736152   \n",
       "0  486.271855   744.793029   321.795765   501.627616  735.177621   498.467510   \n",
       "0  563.961569   382.224792  1776.086653   978.480975  504.039539   784.707560   \n",
       "0  850.135100  1394.663387   552.213837  1173.991812  393.944679  1468.135269   \n",
       "\n",
       "          998         999         min          max  \n",
       "0  487.892317  756.504186  175.806303  3384.952718  \n",
       "0  455.742724  328.936984  155.792238  2027.814844  \n",
       "0  409.800478  382.204476  158.533572  4517.251802  \n",
       "0  300.020165  598.273992  190.350709  3202.992223  \n",
       "\n",
       "[4 rows x 1002 columns]"
      ]
     },
     "execution_count": 55,
     "metadata": {},
     "output_type": "execute_result"
    },
    {
     "data": {
      "application/javascript": [
       "\n",
       "            setTimeout(function() {\n",
       "                var nbb_cell_id = 55;\n",
       "                var nbb_unformatted_code = \"op_gwp_pmc\";\n",
       "                var nbb_formatted_code = \"op_gwp_pmc\";\n",
       "                var nbb_cells = Jupyter.notebook.get_cells();\n",
       "                for (var i = 0; i < nbb_cells.length; ++i) {\n",
       "                    if (nbb_cells[i].input_prompt_number == nbb_cell_id) {\n",
       "                        if (nbb_cells[i].get_text() == nbb_unformatted_code) {\n",
       "                             nbb_cells[i].set_text(nbb_formatted_code);\n",
       "                        }\n",
       "                        break;\n",
       "                    }\n",
       "                }\n",
       "            }, 500);\n",
       "            "
      ],
      "text/plain": [
       "<IPython.core.display.Javascript object>"
      ]
     },
     "metadata": {},
     "output_type": "display_data"
    }
   ],
   "source": [
    "op_gwp_pmc"
   ]
  },
  {
   "cell_type": "code",
   "execution_count": 45,
   "metadata": {},
   "outputs": [
    {
     "data": {
      "application/javascript": [
       "\n",
       "            setTimeout(function() {\n",
       "                var nbb_cell_id = 45;\n",
       "                var nbb_unformatted_code = \"with pd.ExcelFile(\\n    r\\\"D:\\\\tencent_files\\\\chrome_Download\\\\Research\\\\LCA\\\\LCA SOFC\\\\output\\\\expan_pmc.xlsx\\\"\\n) as expan:\\n    expan_pmc = pd.read_excel(expan, index_col=0, header=0)\\n\\nls = np.reshape(np.arange(0, 16), (4, 4))\\nexpan_gwp_pmc = expan_pmc.iloc[ls[:, 0]]\\nexpan_fdp_pmc = expan_pmc.iloc[ls[:, 1]]\\nexpan_pmfp_pmc = expan_pmc.iloc[ls[:, 2]]\\nexpan_ap_pmc = expan_pmc.iloc[ls[:, 3]]\";\n",
       "                var nbb_formatted_code = \"with pd.ExcelFile(\\n    r\\\"D:\\\\tencent_files\\\\chrome_Download\\\\Research\\\\LCA\\\\LCA SOFC\\\\output\\\\expan_pmc.xlsx\\\"\\n) as expan:\\n    expan_pmc = pd.read_excel(expan, index_col=0, header=0)\\n\\nls = np.reshape(np.arange(0, 16), (4, 4))\\nexpan_gwp_pmc = expan_pmc.iloc[ls[:, 0]]\\nexpan_fdp_pmc = expan_pmc.iloc[ls[:, 1]]\\nexpan_pmfp_pmc = expan_pmc.iloc[ls[:, 2]]\\nexpan_ap_pmc = expan_pmc.iloc[ls[:, 3]]\";\n",
       "                var nbb_cells = Jupyter.notebook.get_cells();\n",
       "                for (var i = 0; i < nbb_cells.length; ++i) {\n",
       "                    if (nbb_cells[i].input_prompt_number == nbb_cell_id) {\n",
       "                        if (nbb_cells[i].get_text() == nbb_unformatted_code) {\n",
       "                             nbb_cells[i].set_text(nbb_formatted_code);\n",
       "                        }\n",
       "                        break;\n",
       "                    }\n",
       "                }\n",
       "            }, 500);\n",
       "            "
      ],
      "text/plain": [
       "<IPython.core.display.Javascript object>"
      ]
     },
     "metadata": {},
     "output_type": "display_data"
    }
   ],
   "source": [
    "with pd.ExcelFile(\n",
    "    r\"D:\\tencent_files\\chrome_Download\\Research\\LCA\\LCA SOFC\\output\\expan_pmc.xlsx\"\n",
    ") as expan:\n",
    "    expan_pmc = pd.read_excel(expan, index_col=0, header=0)\n",
    "\n",
    "ls = np.reshape(np.arange(0, 16), (4, 4))\n",
    "expan_gwp_pmc = expan_pmc.iloc[ls[:, 0]]\n",
    "expan_fdp_pmc = expan_pmc.iloc[ls[:, 1]]\n",
    "expan_pmfp_pmc = expan_pmc.iloc[ls[:, 2]]\n",
    "expan_ap_pmc = expan_pmc.iloc[ls[:, 3]]"
   ]
  },
  {
   "cell_type": "code",
   "execution_count": null,
   "metadata": {},
   "outputs": [],
   "source": [
    "op_pmfp_pmc"
   ]
  },
  {
   "cell_type": "code",
   "execution_count": 46,
   "metadata": {},
   "outputs": [
    {
     "data": {
      "application/javascript": [
       "\n",
       "            setTimeout(function() {\n",
       "                var nbb_cell_id = 46;\n",
       "                var nbb_unformatted_code = \"# draw boxplot-boxplot can only use numpy data\\ndef boxplot(pmc_results, fill_color, y_bottom, y_up):\\n    tran_array = np.transpose(pmc_results)\\n    fig, ax = plt.subplots(figsize=(5, 5))\\n    plt.ylim(y_bottom, y_up)\\n    plt.yticks(fontname=\\\"Calibri\\\", fontsize=18)\\n    plt.xticks(fontname=\\\"Calibri\\\", fontsize=18, rotation=45)\\n    plt.setp(ax.get_yticklabels(), visible=True)\\n    boxp = ax.boxplot(\\n        np.array(tran_array),\\n        sym=\\\".\\\",\\n        labels=[\\\"SOFC\\\", \\\"MCFC\\\", \\\"PAFC\\\", \\\"PEMFC\\\"],\\n        showfliers=False,\\n        patch_artist=True,\\n        vert=True,\\n        widths=0.8,\\n        whis=[5, 95],\\n    )\\n    for patch in boxp[\\\"boxes\\\"]:\\n        patch.set(facecolor=fill_color)\\n    for median in boxp[\\\"medians\\\"]:\\n        median.set(color=\\\"k\\\", linewidth=1)\\n    return boxp, ax\";\n",
       "                var nbb_formatted_code = \"# draw boxplot-boxplot can only use numpy data\\ndef boxplot(pmc_results, fill_color, y_bottom, y_up):\\n    tran_array = np.transpose(pmc_results)\\n    fig, ax = plt.subplots(figsize=(5, 5))\\n    plt.ylim(y_bottom, y_up)\\n    plt.yticks(fontname=\\\"Calibri\\\", fontsize=18)\\n    plt.xticks(fontname=\\\"Calibri\\\", fontsize=18, rotation=45)\\n    plt.setp(ax.get_yticklabels(), visible=True)\\n    boxp = ax.boxplot(\\n        np.array(tran_array),\\n        sym=\\\".\\\",\\n        labels=[\\\"SOFC\\\", \\\"MCFC\\\", \\\"PAFC\\\", \\\"PEMFC\\\"],\\n        showfliers=False,\\n        patch_artist=True,\\n        vert=True,\\n        widths=0.8,\\n        whis=[5, 95],\\n    )\\n    for patch in boxp[\\\"boxes\\\"]:\\n        patch.set(facecolor=fill_color)\\n    for median in boxp[\\\"medians\\\"]:\\n        median.set(color=\\\"k\\\", linewidth=1)\\n    return boxp, ax\";\n",
       "                var nbb_cells = Jupyter.notebook.get_cells();\n",
       "                for (var i = 0; i < nbb_cells.length; ++i) {\n",
       "                    if (nbb_cells[i].input_prompt_number == nbb_cell_id) {\n",
       "                        if (nbb_cells[i].get_text() == nbb_unformatted_code) {\n",
       "                             nbb_cells[i].set_text(nbb_formatted_code);\n",
       "                        }\n",
       "                        break;\n",
       "                    }\n",
       "                }\n",
       "            }, 500);\n",
       "            "
      ],
      "text/plain": [
       "<IPython.core.display.Javascript object>"
      ]
     },
     "metadata": {},
     "output_type": "display_data"
    }
   ],
   "source": [
    "# draw boxplot-boxplot can only use numpy data\n",
    "def boxplot(pmc_results, fill_color, y_bottom, y_up):\n",
    "    tran_array = np.transpose(pmc_results)\n",
    "    fig, ax = plt.subplots(figsize=(5, 5))\n",
    "    plt.ylim(y_bottom, y_up)\n",
    "    plt.yticks(fontname=\"Calibri\", fontsize=18)\n",
    "    plt.xticks(fontname=\"Calibri\", fontsize=18, rotation=45)\n",
    "    plt.setp(ax.get_yticklabels(), visible=True)\n",
    "    boxp = ax.boxplot(\n",
    "        np.array(tran_array),\n",
    "        sym=\".\",\n",
    "        labels=[\"SOFC\", \"MCFC\", \"PAFC\", \"PEMFC\"],\n",
    "        showfliers=False,\n",
    "        patch_artist=True,\n",
    "        vert=True,\n",
    "        widths=0.8,\n",
    "        whis=[5, 95],\n",
    "    )\n",
    "    for patch in boxp[\"boxes\"]:\n",
    "        patch.set(facecolor=fill_color)\n",
    "    for median in boxp[\"medians\"]:\n",
    "        median.set(color=\"k\", linewidth=1)\n",
    "    return boxp, ax"
   ]
  },
  {
   "cell_type": "code",
   "execution_count": 51,
   "metadata": {},
   "outputs": [
    {
     "data": {
      "application/javascript": [
       "\n",
       "            setTimeout(function() {\n",
       "                var nbb_cell_id = 51;\n",
       "                var nbb_unformatted_code = \"fig_path = r\\\"D:\\\\tencent_files\\\\chrome_Download\\\\Research\\\\LCA\\\\LCA SOFC\\\\Figures\\\"\\n\\ndef savefig(fig_name, path = fig_path):\\n    plt.savefig(os.path.join(fig_path, fig_name),\\n    transparent=True,\\n    dpi=600,\\n    bbox_inches=\\\"tight\\\",\\n)\\n    return None\";\n",
       "                var nbb_formatted_code = \"fig_path = r\\\"D:\\\\tencent_files\\\\chrome_Download\\\\Research\\\\LCA\\\\LCA SOFC\\\\Figures\\\"\\n\\n\\ndef savefig(fig_name, path=fig_path):\\n    plt.savefig(\\n        os.path.join(fig_path, fig_name),\\n        transparent=True,\\n        dpi=600,\\n        bbox_inches=\\\"tight\\\",\\n    )\\n    return None\";\n",
       "                var nbb_cells = Jupyter.notebook.get_cells();\n",
       "                for (var i = 0; i < nbb_cells.length; ++i) {\n",
       "                    if (nbb_cells[i].input_prompt_number == nbb_cell_id) {\n",
       "                        if (nbb_cells[i].get_text() == nbb_unformatted_code) {\n",
       "                             nbb_cells[i].set_text(nbb_formatted_code);\n",
       "                        }\n",
       "                        break;\n",
       "                    }\n",
       "                }\n",
       "            }, 500);\n",
       "            "
      ],
      "text/plain": [
       "<IPython.core.display.Javascript object>"
      ]
     },
     "metadata": {},
     "output_type": "display_data"
    }
   ],
   "source": [
    "fig_path = r\"D:\\tencent_files\\chrome_Download\\Research\\LCA\\LCA SOFC\\Figures\"\n",
    "\n",
    "\n",
    "def savefig(fig_name, path=fig_path):\n",
    "    plt.savefig(\n",
    "        os.path.join(fig_path, fig_name),\n",
    "        transparent=True,\n",
    "        dpi=600,\n",
    "        bbox_inches=\"tight\",\n",
    "    )\n",
    "    return None"
   ]
  },
  {
   "cell_type": "code",
   "execution_count": 53,
   "metadata": {},
   "outputs": [
    {
     "data": {
      "image/png": "[encoded data removed]",
      "text/plain": [
       "<Figure size 360x360 with 1 Axes>"
      ]
     },
     "metadata": {
      "needs_background": "light"
     },
     "output_type": "display_data"
    },
    {
     "data": {
      "image/png": "[encoded data removed]",
      "text/plain": [
       "<Figure size 360x360 with 1 Axes>"
      ]
     },
     "metadata": {
      "needs_background": "light"
     },
     "output_type": "display_data"
    },
    {
     "data": {
      "image/png": "[encoded data removed]",
      "text/plain": [
       "<Figure size 360x360 with 1 Axes>"
      ]
     },
     "metadata": {
      "needs_background": "light"
     },
     "output_type": "display_data"
    },
    {
     "data": {
      "image/png": "[encoded data removed]",
      "text/plain": [
       "<Figure size 360x360 with 1 Axes>"
      ]
     },
     "metadata": {
      "needs_background": "light"
     },
     "output_type": "display_data"
    },
    {
     "data": {
      "application/javascript": [
       "\n",
       "            setTimeout(function() {\n",
       "                var nbb_cell_id = 53;\n",
       "                var nbb_unformatted_code = \"boxplot(gwp_pmc_lca, \\\"lightblue\\\", 0, 300)\\nsavefig(\\\"mc_RE_gwp_lca.png\\\")\\nboxplot(fdp_pmc_lca, \\\"orange\\\", 0, 100)\\nsavefig(\\\"mc_RE_fdp_lca.png\\\")\\nboxplot(pmfp_pmc_lca, \\\"darkblue\\\", 0, 1.5)\\nsavefig(\\\"mc_RE_pmfp_lca.png\\\")\\nboxplot(ap_pmc_lca, \\\"lightgreen\\\", 0, 3)\\nsavefig(\\\"mc_RE_ap_lca.png\\\")\";\n",
       "                var nbb_formatted_code = \"boxplot(gwp_pmc_lca, \\\"lightblue\\\", 0, 300)\\nsavefig(\\\"mc_RE_gwp_lca.png\\\")\\nboxplot(fdp_pmc_lca, \\\"orange\\\", 0, 100)\\nsavefig(\\\"mc_RE_fdp_lca.png\\\")\\nboxplot(pmfp_pmc_lca, \\\"darkblue\\\", 0, 1.5)\\nsavefig(\\\"mc_RE_pmfp_lca.png\\\")\\nboxplot(ap_pmc_lca, \\\"lightgreen\\\", 0, 3)\\nsavefig(\\\"mc_RE_ap_lca.png\\\")\";\n",
       "                var nbb_cells = Jupyter.notebook.get_cells();\n",
       "                for (var i = 0; i < nbb_cells.length; ++i) {\n",
       "                    if (nbb_cells[i].input_prompt_number == nbb_cell_id) {\n",
       "                        if (nbb_cells[i].get_text() == nbb_unformatted_code) {\n",
       "                             nbb_cells[i].set_text(nbb_formatted_code);\n",
       "                        }\n",
       "                        break;\n",
       "                    }\n",
       "                }\n",
       "            }, 500);\n",
       "            "
      ],
      "text/plain": [
       "<IPython.core.display.Javascript object>"
      ]
     },
     "metadata": {},
     "output_type": "display_data"
    }
   ],
   "source": [
    "boxplot(gwp_pmc_lca, \"lightblue\", 0, 300)\n",
    "savefig(\"mc_RE_gwp_lca.png\")\n",
    "boxplot(fdp_pmc_lca, \"orange\", 0, 100)\n",
    "savefig(\"mc_RE_fdp_lca.png\")\n",
    "boxplot(pmfp_pmc_lca, \"darkblue\", 0, 1.5)\n",
    "savefig(\"mc_RE_pmfp_lca.png\")\n",
    "boxplot(ap_pmc_lca, \"lightgreen\", 0, 3)\n",
    "savefig(\"mc_RE_ap_lca.png\")"
   ]
  },
  {
   "cell_type": "code",
   "execution_count": 54,
   "metadata": {},
   "outputs": [
    {
     "data": {
      "image/png": "[encoded data removed]",
      "text/plain": [
       "<Figure size 360x360 with 1 Axes>"
      ]
     },
     "metadata": {
      "needs_background": "light"
     },
     "output_type": "display_data"
    },
    {
     "data": {
      "image/png": "[encoded data removed]",
      "text/plain": [
       "<Figure size 360x360 with 1 Axes>"
      ]
     },
     "metadata": {
      "needs_background": "light"
     },
     "output_type": "display_data"
    },
    {
     "data": {
      "image/png": "[encoded data removed]",
      "text/plain": [
       "<Figure size 360x360 with 1 Axes>"
      ]
     },
     "metadata": {
      "needs_background": "light"
     },
     "output_type": "display_data"
    },
    {
     "data": {
      "image/png": "[encoded data removed]",
      "text/plain": [
       "<Figure size 360x360 with 1 Axes>"
      ]
     },
     "metadata": {
      "needs_background": "light"
     },
     "output_type": "display_data"
    },
    {
     "data": {
      "application/javascript": [
       "\n",
       "            setTimeout(function() {\n",
       "                var nbb_cell_id = 54;\n",
       "                var nbb_unformatted_code = \"boxplot(manu_gwp_pmc, \\\"lightblue\\\", 0, 2000)\\nsavefig(\\\"mc_RE_gwp_manu.png\\\")\\nboxplot(manu_fdp_pmc, \\\"orange\\\", 0, 750)\\nsavefig(\\\"mc_RE_fdp_manu.png\\\")\\nboxplot(manu_pmfp_pmc, \\\"darkblue\\\", 0, 20)\\nsavefig(\\\"mc_RE_pmfp_manu.png\\\")\\nboxplot(manu_ap_pmc, \\\"lightgreen\\\", 0, 60)\\nsavefig(\\\"mc_RE_ap_manu.png\\\")\";\n",
       "                var nbb_formatted_code = \"boxplot(manu_gwp_pmc, \\\"lightblue\\\", 0, 2000)\\nsavefig(\\\"mc_RE_gwp_manu.png\\\")\\nboxplot(manu_fdp_pmc, \\\"orange\\\", 0, 750)\\nsavefig(\\\"mc_RE_fdp_manu.png\\\")\\nboxplot(manu_pmfp_pmc, \\\"darkblue\\\", 0, 20)\\nsavefig(\\\"mc_RE_pmfp_manu.png\\\")\\nboxplot(manu_ap_pmc, \\\"lightgreen\\\", 0, 60)\\nsavefig(\\\"mc_RE_ap_manu.png\\\")\";\n",
       "                var nbb_cells = Jupyter.notebook.get_cells();\n",
       "                for (var i = 0; i < nbb_cells.length; ++i) {\n",
       "                    if (nbb_cells[i].input_prompt_number == nbb_cell_id) {\n",
       "                        if (nbb_cells[i].get_text() == nbb_unformatted_code) {\n",
       "                             nbb_cells[i].set_text(nbb_formatted_code);\n",
       "                        }\n",
       "                        break;\n",
       "                    }\n",
       "                }\n",
       "            }, 500);\n",
       "            "
      ],
      "text/plain": [
       "<IPython.core.display.Javascript object>"
      ]
     },
     "metadata": {},
     "output_type": "display_data"
    }
   ],
   "source": [
    "boxplot(manu_gwp_pmc, \"lightblue\", 0, 2000)\n",
    "savefig(\"mc_RE_gwp_manu.png\")\n",
    "boxplot(manu_fdp_pmc, \"orange\", 0, 750)\n",
    "savefig(\"mc_RE_fdp_manu.png\")\n",
    "boxplot(manu_pmfp_pmc, \"darkblue\", 0, 20)\n",
    "savefig(\"mc_RE_pmfp_manu.png\")\n",
    "boxplot(manu_ap_pmc, \"lightgreen\", 0, 60)\n",
    "savefig(\"mc_RE_ap_manu.png\")"
   ]
  },
  {
   "cell_type": "code",
   "execution_count": 58,
   "metadata": {},
   "outputs": [
    {
     "data": {
      "image/png": "[encoded data removed]",
      "text/plain": [
       "<Figure size 360x360 with 1 Axes>"
      ]
     },
     "metadata": {
      "needs_background": "light"
     },
     "output_type": "display_data"
    },
    {
     "data": {
      "image/png": "[encoded data removed]",
      "text/plain": [
       "<Figure size 360x360 with 1 Axes>"
      ]
     },
     "metadata": {
      "needs_background": "light"
     },
     "output_type": "display_data"
    },
    {
     "data": {
      "image/png": "[encoded data removed]",
      "text/plain": [
       "<Figure size 360x360 with 1 Axes>"
      ]
     },
     "metadata": {
      "needs_background": "light"
     },
     "output_type": "display_data"
    },
    {
     "data": {
      "image/png": "[encoded data removed]",
      "text/plain": [
       "<Figure size 360x360 with 1 Axes>"
      ]
     },
     "metadata": {
      "needs_background": "light"
     },
     "output_type": "display_data"
    },
    {
     "data": {
      "application/javascript": [
       "\n",
       "            setTimeout(function() {\n",
       "                var nbb_cell_id = 58;\n",
       "                var nbb_unformatted_code = \"boxplot(op_gwp_pmc, \\\"lightblue\\\", 0, 2000)\\nsavefig(\\\"mc_RE_gwp_op.png\\\")\\nboxplot(op_fdp_pmc, \\\"orange\\\", 0, 1000)\\nsavefig(\\\"mc_RE_fdp_op.png\\\")\\nboxplot(op_pmfp_pmc, \\\"darkblue\\\", 0, 10)\\nsavefig(\\\"mc_RE_pmfp_op.png\\\")\\nboxplot(op_ap_pmc, \\\"lightgreen\\\", 0, 20)\\nsavefig(\\\"mc_RE_ap_op.png\\\")\";\n",
       "                var nbb_formatted_code = \"boxplot(op_gwp_pmc, \\\"lightblue\\\", 0, 2000)\\nsavefig(\\\"mc_RE_gwp_op.png\\\")\\nboxplot(op_fdp_pmc, \\\"orange\\\", 0, 1000)\\nsavefig(\\\"mc_RE_fdp_op.png\\\")\\nboxplot(op_pmfp_pmc, \\\"darkblue\\\", 0, 10)\\nsavefig(\\\"mc_RE_pmfp_op.png\\\")\\nboxplot(op_ap_pmc, \\\"lightgreen\\\", 0, 20)\\nsavefig(\\\"mc_RE_ap_op.png\\\")\";\n",
       "                var nbb_cells = Jupyter.notebook.get_cells();\n",
       "                for (var i = 0; i < nbb_cells.length; ++i) {\n",
       "                    if (nbb_cells[i].input_prompt_number == nbb_cell_id) {\n",
       "                        if (nbb_cells[i].get_text() == nbb_unformatted_code) {\n",
       "                             nbb_cells[i].set_text(nbb_formatted_code);\n",
       "                        }\n",
       "                        break;\n",
       "                    }\n",
       "                }\n",
       "            }, 500);\n",
       "            "
      ],
      "text/plain": [
       "<IPython.core.display.Javascript object>"
      ]
     },
     "metadata": {},
     "output_type": "display_data"
    }
   ],
   "source": [
    "boxplot(op_gwp_pmc, \"lightblue\", 0, 2000)\n",
    "savefig(\"mc_RE_gwp_op.png\")\n",
    "boxplot(op_fdp_pmc, \"orange\", 0, 1000)\n",
    "savefig(\"mc_RE_fdp_op.png\")\n",
    "boxplot(op_pmfp_pmc, \"darkblue\", 0, 10)\n",
    "savefig(\"mc_RE_pmfp_op.png\")\n",
    "boxplot(op_ap_pmc, \"lightgreen\", 0, 20)\n",
    "savefig(\"mc_RE_ap_op.png\")"
   ]
  },
  {
   "cell_type": "markdown",
   "metadata": {},
   "source": [
    "#  Sensitivity Analysis"
   ]
  },
  {
   "cell_type": "markdown",
   "metadata": {},
   "source": [
    "## Sensitivity to recycle rate"
   ]
  },
  {
   "cell_type": "code",
   "execution_count": null,
   "metadata": {},
   "outputs": [],
   "source": [
    "def sce_calc(sce_name, database, LCIA_method):\n",
    "    # setup scenario calculation for SOFC\n",
    "    sce_act = [find_by_name(name, database) for name in sce_name]\n",
    "    sce_fu = [{sce_act[i]: 1} for i in range(len(sce_act))]\n",
    "    bw.calculation_setups[\"fc_sce\"] = {\"inv\": sce_fu, \"ia\": LCIA_method}\n",
    "    sce_results = bw.MultiLCA(\"fc_sce\").results\n",
    "    return sce_results\n",
    "\n",
    "\n",
    "sce_name = [\"Disposal_scen1\", \"Disposal_scen2\", \"Disposal_scen3\", \"Disposal_scen4\"]\n",
    "indicators"
   ]
  },
  {
   "cell_type": "code",
   "execution_count": null,
   "metadata": {},
   "outputs": [],
   "source": [
    "sofc_sce = sce_calc(sce_name, SOFC_import, indicators)\n",
    "mcfc_sce = sce_calc(sce_name, MCFC_import, indicators)\n",
    "pafc_sce = sce_calc(sce_name, PAFC_import, indicators)\n",
    "pemfc_sce = sce_calc(sce_name, PEMFC_import, indicators)"
   ]
  },
  {
   "cell_type": "code",
   "execution_count": null,
   "metadata": {},
   "outputs": [],
   "source": [
    "allocation_factor = 0.700897254"
   ]
  },
  {
   "cell_type": "code",
   "execution_count": null,
   "metadata": {},
   "outputs": [],
   "source": [
    "sce_df = pd.concat(\n",
    "    [\n",
    "        pd.DataFrame(sofc_sce),\n",
    "        pd.DataFrame(mcfc_sce),\n",
    "        pd.DataFrame(pafc_sce),\n",
    "        pd.DataFrame(pemfc_sce),\n",
    "    ],\n",
    "    axis=1,\n",
    ")*allocation_factor\n",
    "sce_df.to_excel(r\"D:\\desktop\\recycling rate scenario1.xlsx\")"
   ]
  },
  {
   "cell_type": "code",
   "execution_count": null,
   "metadata": {},
   "outputs": [],
   "source": [
    "temp = sce_df.transpose()\n",
    "ls = np.reshape(np.arange(16), (4, 4))\n",
    "temp0 = []\n",
    "for i in range(4):\n",
    "    temp0.append(temp.iloc[ls[:, i]])\n",
    "\n",
    "temp0\n",
    "sce_df1 = pd.concat([df for df in temp0], axis=0,)\n",
    "sce_df1.to_excel(r\"D:\\desktop\\recycling rate scenario.xlsx\")"
   ]
  },
  {
   "cell_type": "markdown",
   "metadata": {},
   "source": [
    "##  Sensitivity to sys expansion activity"
   ]
  },
  {
   "cell_type": "code",
   "execution_count": null,
   "metadata": {},
   "outputs": [],
   "source": [
    "ls = [22244.4, 18559.5, 8659.5, 0, 18408.3, -2512.95]\n",
    "sys_exp_sce1 = [\n",
    "    act\n",
    "    for act in eidb\n",
    "    if \"heat production, air-water heat pump 10kW\" in act[\"name\"]\n",
    "    and \"RoW\" in act[\"location\"]\n",
    "][0]\n",
    "sys_exp_sce2 = [\n",
    "    act\n",
    "    for act in eidb\n",
    "    if \"heat production, biogas, at diffusion absorption heat pump 4kW, future\"\n",
    "    in act[\"name\"]\n",
    "][0]\n",
    "baseCase_fu = []\n",
    "sys_sce1_fu = []\n",
    "sys_sce2_fu = []\n",
    "for num in range(len(ls)):\n",
    "    sys_sce1_fu.append({sys_exp_sce1: ls[num]})\n",
    "    sys_sce2_fu.append({sys_exp_sce2: ls[num]})\n",
    "    baseCase_fu.append({sysExp[0]: ls[num]})\n",
    "sys_sce1_fu, sys_sce2_fu, baseCase_fu"
   ]
  },
  {
   "cell_type": "code",
   "execution_count": null,
   "metadata": {},
   "outputs": [],
   "source": [
    "bw.calculation_setups[\"baseCase\"] = {\"inv\": baseCase_fu, \"ia\": indicators}\n",
    "baseCase_results = bw.MultiLCA(\"baseCase\").results\n",
    "baseCase_results"
   ]
  },
  {
   "cell_type": "code",
   "execution_count": null,
   "metadata": {},
   "outputs": [],
   "source": [
    "bw.calculation_setups[\"sys_sce1\"] = {\"inv\": sys_sce1_fu, \"ia\": indicators}\n",
    "sys_sce1_results = bw.MultiLCA(\"sys_sce1\").results\n",
    "sys_sce1_results"
   ]
  },
  {
   "cell_type": "code",
   "execution_count": null,
   "metadata": {},
   "outputs": [],
   "source": [
    "bw.calculation_setups[\"sys_sce2\"] = {\"inv\": sys_sce2_fu, \"ia\": indicators}\n",
    "sys_sce2_results = bw.MultiLCA(\"sys_sce2\").results\n",
    "sys_sce2_results"
   ]
  },
  {
   "cell_type": "code",
   "execution_count": null,
   "metadata": {},
   "outputs": [],
   "source": [
    "indexes = [\"SOFC\", \"MCFC\", \"PAFC\", \"PEMFC\", \"NGCC\", \"micro GT\"]\n",
    "columns = [\"GHG emission\", \"fossil depletion\", \"paticle formation\", \"acidification\"]\n",
    "df_baseCase = pd.DataFrame(baseCase_results, index=indexes, columns=columns)\n",
    "df_sys_sce1 = pd.DataFrame(sys_sce1_results, index=indexes, columns=columns)\n",
    "df_sys_sce2 = pd.DataFrame(sys_sce2_results, index=indexes, columns=columns)\n",
    "sys_sce_results = pd.concat([df_baseCase, df_sys_sce1, df_sys_sce2], axis=1)\n",
    "sys_sce_results.to_excel(r\"D:\\desktop\\sys_ex scenario.xlsx\")"
   ]
  },
  {
   "cell_type": "code",
   "execution_count": null,
   "metadata": {},
   "outputs": [],
   "source": [
    "def heatmap(data, row_labels, col_labels, ax=None, cbar_kw={}, cbarlabel=\"\", **kwargs):\n",
    "\n",
    "    if not ax:\n",
    "        ax = plt.gca()\n",
    "\n",
    "    # Plot the heatmap\n",
    "    im = ax.imshow(data, **kwargs)\n",
    "\n",
    "    # Create colorbar\n",
    "    cbar = ax.figure.colorbar(im, fraction=0.03, pad=0.05, ax=ax)\n",
    "    # fraction 设置colorbar相对于图的大小，pad设置colorbar到图的距离\n",
    "    cbar.ax.set_ylabel(\n",
    "        cbarlabel, rotation=-90, va=\"bottom\", fontsize=16, fontname=\"Calibri\"\n",
    "    )\n",
    "\n",
    "    # We want to show all ticks...\n",
    "    ax.set_xticks(np.arange(data.shape[1]))\n",
    "    ax.set_yticks(np.arange(data.shape[0]))\n",
    "    # ... and label them with the respective list entries.\n",
    "    ax.set_xticklabels(col_labels)\n",
    "    ax.set_yticklabels(row_labels)\n",
    "\n",
    "    # Let the horizontal axes labeling appear on top.\n",
    "    ax.tick_params(top=True, bottom=False, labeltop=True, labelbottom=False)\n",
    "\n",
    "    # Rotate the tick labels and set their alignment.\n",
    "    plt.setp(ax.get_xticklabels(), rotation=-90)\n",
    "    plt.xticks(fontname=\"Calibri\", fontsize=18)\n",
    "    plt.yticks(fontname=\"Calibri\", fontsize=18)\n",
    "    # Turn spines off and create white grid.\n",
    "    for edge, spine in ax.spines.items():\n",
    "        spine.set_visible(False)\n",
    "\n",
    "    ax.set_xticks(np.arange(data.shape[1] + 1) - 0.5, minor=True)\n",
    "    ax.set_yticks(np.arange(data.shape[0] + 1) - 0.5, minor=True)\n",
    "    ax.grid(which=\"minor\", color=\"w\", linestyle=\"-\", linewidth=3)\n",
    "    ax.tick_params(which=\"minor\", bottom=False, left=False)\n",
    "\n",
    "    return im, cbar"
   ]
  },
  {
   "cell_type": "code",
   "execution_count": null,
   "metadata": {},
   "outputs": [],
   "source": [
    "index = list\n",
    "tes = pd.read_excel(r\"D:\\desktop\\test.xlsx\", index_col=0)\n",
    "tes"
   ]
  },
  {
   "cell_type": "code",
   "execution_count": null,
   "metadata": {},
   "outputs": [],
   "source": [
    "fig, ax = plt.subplots()\n",
    "im, cbar = heatmap(\n",
    "    tes,\n",
    "    [\"Base case\", \"Scenario 1\", \"Scenario 2\"],\n",
    "    indexes,\n",
    "    cmap=\"YlGn\",\n",
    "    cbarlabel=\"GHG emission (kg CO2 eq.)\",\n",
    ")\n",
    "plt.savefig(\n",
    "    r\"D:\\tencent files\\chrome Download\\Research\\LCA\\LCA SOFC\\Figures\\gwp_sysexp.png\",\n",
    "    dpi=600,\n",
    "    bbox_inches=\"tight\",\n",
    ")"
   ]
  },
  {
   "cell_type": "markdown",
   "metadata": {},
   "source": [
    "## Sensitivity to technical performance "
   ]
  },
  {
   "cell_type": "code",
   "execution_count": 36,
   "metadata": {},
   "outputs": [
    {
     "data": {
      "text/plain": [
       "'market for natural gas, low pressure' (cubic meter, RoW, None)"
      ]
     },
     "execution_count": 36,
     "metadata": {},
     "output_type": "execute_result"
    },
    {
     "data": {
      "application/javascript": [
       "\n",
       "            setTimeout(function() {\n",
       "                var nbb_cell_id = 36;\n",
       "                var nbb_unformatted_code = \"ng_input_act = [\\n    act\\n    for act in eidb\\n    if \\\"market for natural gas, low pressure\\\" in act[\\\"name\\\"]\\n    and \\\"RoW\\\" in act[\\\"location\\\"]\\n    and \\\"cubic meter\\\" in act[\\\"unit\\\"]\\n][0]\\nng_input_act\";\n",
       "                var nbb_formatted_code = \"ng_input_act = [\\n    act\\n    for act in eidb\\n    if \\\"market for natural gas, low pressure\\\" in act[\\\"name\\\"]\\n    and \\\"RoW\\\" in act[\\\"location\\\"]\\n    and \\\"cubic meter\\\" in act[\\\"unit\\\"]\\n][0]\\nng_input_act\";\n",
       "                var nbb_cells = Jupyter.notebook.get_cells();\n",
       "                for (var i = 0; i < nbb_cells.length; ++i) {\n",
       "                    if (nbb_cells[i].input_prompt_number == nbb_cell_id) {\n",
       "                        if (nbb_cells[i].get_text() == nbb_unformatted_code) {\n",
       "                             nbb_cells[i].set_text(nbb_formatted_code);\n",
       "                        }\n",
       "                        break;\n",
       "                    }\n",
       "                }\n",
       "            }, 500);\n",
       "            "
      ],
      "text/plain": [
       "<IPython.core.display.Javascript object>"
      ]
     },
     "metadata": {},
     "output_type": "display_data"
    }
   ],
   "source": [
    "ng_input_act = [\n",
    "    act\n",
    "    for act in eidb\n",
    "    if \"market for natural gas, low pressure\" in act[\"name\"]\n",
    "    and \"RoW\" in act[\"location\"]\n",
    "    and \"cubic meter\" in act[\"unit\"]\n",
    "][0]\n",
    "ng_input_act"
   ]
  },
  {
   "cell_type": "code",
   "execution_count": 37,
   "metadata": {},
   "outputs": [
    {
     "data": {
      "application/javascript": [
       "\n",
       "            setTimeout(function() {\n",
       "                var nbb_cell_id = 37;\n",
       "                var nbb_unformatted_code = \"ng_input_amout = [1498.1, 1689.3, 1890.5, 2145.9]\";\n",
       "                var nbb_formatted_code = \"ng_input_amout = [1498.1, 1689.3, 1890.5, 2145.9]\";\n",
       "                var nbb_cells = Jupyter.notebook.get_cells();\n",
       "                for (var i = 0; i < nbb_cells.length; ++i) {\n",
       "                    if (nbb_cells[i].input_prompt_number == nbb_cell_id) {\n",
       "                        if (nbb_cells[i].get_text() == nbb_unformatted_code) {\n",
       "                             nbb_cells[i].set_text(nbb_formatted_code);\n",
       "                        }\n",
       "                        break;\n",
       "                    }\n",
       "                }\n",
       "            }, 500);\n",
       "            "
      ],
      "text/plain": [
       "<IPython.core.display.Javascript object>"
      ]
     },
     "metadata": {},
     "output_type": "display_data"
    }
   ],
   "source": [
    "ng_input_amout = [1498.1, 1689.3, 1890.5, 2145.9]"
   ]
  },
  {
   "cell_type": "code",
   "execution_count": 43,
   "metadata": {},
   "outputs": [
    {
     "data": {
      "text/plain": [
       "[{'comment': '',\n",
       "  'location': 'GLO',\n",
       "  'production amount': 1.0,\n",
       "  'unit': 'pcs',\n",
       "  'name': 'electricity production',\n",
       "  'exchanges': [{'name': 'electricity_sofc',\n",
       "    'amount': 7000.0,\n",
       "    'unit': 'kilowatt hour',\n",
       "    'database': 'operation',\n",
       "    'location': 'GLO',\n",
       "    'type': 'technosphere',\n",
       "    'input': ('operation', '6163a7dd5c299d2079b4fe36dd779be2'),\n",
       "    'output': ('operation', '76ffaba81cec303303dc0339155829ca')},\n",
       "   {'name': 'electricity_mcfc',\n",
       "    'amount': 7000.0,\n",
       "    'unit': 'kilowatt hour',\n",
       "    'database': 'operation',\n",
       "    'location': 'GLO',\n",
       "    'type': 'technosphere',\n",
       "    'input': ('operation', '779fc9e836edb4cd966ca6ea7c0f68e5'),\n",
       "    'output': ('operation', '76ffaba81cec303303dc0339155829ca')},\n",
       "   {'name': 'electricity_pafc',\n",
       "    'amount': 7000.0,\n",
       "    'unit': 'kilowatt hour',\n",
       "    'database': 'operation',\n",
       "    'location': 'GLO',\n",
       "    'type': 'technosphere',\n",
       "    'input': ('operation', '0b1c481afa0a8ed88c4e4516f73557e4'),\n",
       "    'output': ('operation', '76ffaba81cec303303dc0339155829ca')},\n",
       "   {'name': 'electricity_pemfc',\n",
       "    'amount': 7000.0,\n",
       "    'unit': 'kilowatt hour',\n",
       "    'database': 'operation',\n",
       "    'location': 'GLO',\n",
       "    'type': 'technosphere',\n",
       "    'input': ('operation', 'a173c901b7949071aa35929e71e9a89c'),\n",
       "    'output': ('operation', '76ffaba81cec303303dc0339155829ca')}],\n",
       "  'worksheet name': 'Sheet1',\n",
       "  'database': 'operation',\n",
       "  'code': '76ffaba81cec303303dc0339155829ca'},\n",
       " {'comment': '',\n",
       "  'location': 'GLO',\n",
       "  'production amount': 7000.0,\n",
       "  'unit': 'kilowatt hour',\n",
       "  'name': 'electricity_sofc',\n",
       "  'exchanges': [{'name': 'Carbon dioxide, fossil',\n",
       "    'amount': 2400.3,\n",
       "    'unit': 'kilogram',\n",
       "    'database': 'biosphere3',\n",
       "    'categories': ('air', 'urban air close to ground'),\n",
       "    'type': 'biosphere',\n",
       "    'uncertainty type': 4,\n",
       "    'minimum': 2155.924533,\n",
       "    'maximum': 2644.897108,\n",
       "    'input': ('biosphere3', 'f9749677-9c9f-4678-ab55-c607dfdc2cb9'),\n",
       "    'output': ('operation', '6163a7dd5c299d2079b4fe36dd779be2')},\n",
       "   {'name': 'market for natural gas, low pressure',\n",
       "    'amount': 1498.1337533815017,\n",
       "    'unit': 'cubic meter',\n",
       "    'database': 'ecoinvent 3.6',\n",
       "    'location': 'RoW',\n",
       "    'type': 'technosphere',\n",
       "    'input': ('ecoinvent 3.6', '75123851b304ed41f094d953a2b89888'),\n",
       "    'output': ('operation', '6163a7dd5c299d2079b4fe36dd779be2')},\n",
       "   {'name': 'Nitrogen oxides',\n",
       "    'amount': 0.0053977,\n",
       "    'unit': 'kilogram',\n",
       "    'database': 'biosphere3',\n",
       "    'categories': ('air', 'urban air close to ground'),\n",
       "    'type': 'biosphere',\n",
       "    'uncertainty type': 1,\n",
       "    'input': ('biosphere3', 'd068f3e2-b033-417b-a359-ca4f25da9731'),\n",
       "    'output': ('operation', '6163a7dd5c299d2079b4fe36dd779be2')},\n",
       "   {'name': 'Carbon monoxide, fossil',\n",
       "    'amount': 0.10794,\n",
       "    'unit': 'kilogram',\n",
       "    'database': 'biosphere3',\n",
       "    'categories': ('air', 'urban air close to ground'),\n",
       "    'type': 'biosphere',\n",
       "    'uncertainty type': 1,\n",
       "    'input': ('biosphere3', '6edcc2df-88a3-48e1-83d8-ffc38d31c35b'),\n",
       "    'output': ('operation', '6163a7dd5c299d2079b4fe36dd779be2')},\n",
       "   {'name': 'NMVOC, non-methane volatile organic compounds, unspecified origin',\n",
       "    'amount': 0.050484,\n",
       "    'unit': 'kilogram',\n",
       "    'database': 'biosphere3',\n",
       "    'categories': ('air', 'urban air close to ground'),\n",
       "    'type': 'biosphere',\n",
       "    'uncertainty type': 1,\n",
       "    'input': ('biosphere3', '175baa64-d985-4c5e-84ef-67cc3a1cf952'),\n",
       "    'output': ('operation', '6163a7dd5c299d2079b4fe36dd779be2')}],\n",
       "  'worksheet name': 'Sheet1',\n",
       "  'database': 'operation',\n",
       "  'code': '6163a7dd5c299d2079b4fe36dd779be2'},\n",
       " {'comment': '',\n",
       "  'location': 'GLO',\n",
       "  'production amount': 7000.0,\n",
       "  'unit': 'kilowatt hour',\n",
       "  'name': 'electricity_mcfc',\n",
       "  'exchanges': [{'name': 'Carbon dioxide, fossil',\n",
       "    'amount': 2159.099677,\n",
       "    'unit': 'kilogram',\n",
       "    'database': 'biosphere3',\n",
       "    'categories': ('air', 'urban air close to ground'),\n",
       "    'type': 'biosphere',\n",
       "    'uncertainty type': 4,\n",
       "    'minimum': 1651.076224,\n",
       "    'maximum': 3111.6436540000004,\n",
       "    'input': ('biosphere3', 'f9749677-9c9f-4678-ab55-c607dfdc2cb9'),\n",
       "    'output': ('operation', '779fc9e836edb4cd966ca6ea7c0f68e5')},\n",
       "   {'name': 'market for natural gas, low pressure',\n",
       "    'amount': 1689.3848708344594,\n",
       "    'unit': 'cubic meter',\n",
       "    'database': 'ecoinvent 3.6',\n",
       "    'location': 'RoW',\n",
       "    'type': 'technosphere',\n",
       "    'input': ('ecoinvent 3.6', '75123851b304ed41f094d953a2b89888'),\n",
       "    'output': ('operation', '779fc9e836edb4cd966ca6ea7c0f68e5')},\n",
       "   {'name': 'Nitrogen oxides',\n",
       "    'amount': 0.031751468,\n",
       "    'unit': 'kilogram',\n",
       "    'database': 'biosphere3',\n",
       "    'categories': ('air', 'urban air close to ground'),\n",
       "    'type': 'biosphere',\n",
       "    'uncertainty type': 1,\n",
       "    'input': ('biosphere3', 'd068f3e2-b033-417b-a359-ca4f25da9731'),\n",
       "    'output': ('operation', '779fc9e836edb4cd966ca6ea7c0f68e5')},\n",
       "   {'name': 'Sulfur dioxide',\n",
       "    'amount': 0.0003175,\n",
       "    'unit': 'kilogram',\n",
       "    'database': 'biosphere3',\n",
       "    'categories': ('air', 'urban air close to ground'),\n",
       "    'type': 'biosphere',\n",
       "    'uncertainty type': 1,\n",
       "    'input': ('biosphere3', '8c52f40c-69b7-4538-8923-b371523c71f5'),\n",
       "    'output': ('operation', '779fc9e836edb4cd966ca6ea7c0f68e5')},\n",
       "   {'name': 'Water',\n",
       "    'amount': 859.25,\n",
       "    'unit': 'cubic meter',\n",
       "    'database': 'biosphere3',\n",
       "    'categories': ('air', 'urban air close to ground'),\n",
       "    'type': 'biosphere',\n",
       "    'uncertainty type': 1,\n",
       "    'input': ('biosphere3', '5d368100-b1bc-4456-8420-e469edccf349'),\n",
       "    'output': ('operation', '779fc9e836edb4cd966ca6ea7c0f68e5')}],\n",
       "  'worksheet name': 'Sheet1',\n",
       "  'database': 'operation',\n",
       "  'code': '779fc9e836edb4cd966ca6ea7c0f68e5'},\n",
       " {'comment': '',\n",
       "  'location': 'GLO',\n",
       "  'production amount': 7000.0,\n",
       "  'unit': 'kilowatt hour',\n",
       "  'name': 'electricity_pafc',\n",
       "  'exchanges': [{'name': 'Carbon dioxide, fossil',\n",
       "    'amount': 2597.0,\n",
       "    'unit': 'kilogram',\n",
       "    'database': 'biosphere3',\n",
       "    'categories': ('air', 'urban air close to ground'),\n",
       "    'type': 'biosphere',\n",
       "    'uncertainty type': 4,\n",
       "    'minimum': 1540.0,\n",
       "    'maximum': 3178.0,\n",
       "    'input': ('biosphere3', 'f9749677-9c9f-4678-ab55-c607dfdc2cb9'),\n",
       "    'output': ('operation', '0b1c481afa0a8ed88c4e4516f73557e4')},\n",
       "   {'name': 'market for natural gas, low pressure',\n",
       "    'amount': 1890.50211736237,\n",
       "    'unit': 'cubic meter',\n",
       "    'database': 'ecoinvent 3.6',\n",
       "    'location': 'RoW',\n",
       "    'type': 'technosphere',\n",
       "    'input': ('ecoinvent 3.6', '75123851b304ed41f094d953a2b89888'),\n",
       "    'output': ('operation', '0b1c481afa0a8ed88c4e4516f73557e4')},\n",
       "   {'name': 'Nitrogen oxides',\n",
       "    'amount': 0.063,\n",
       "    'unit': 'kilogram',\n",
       "    'database': 'biosphere3',\n",
       "    'categories': ('air', 'urban air close to ground'),\n",
       "    'type': 'biosphere',\n",
       "    'uncertainty type': 1,\n",
       "    'input': ('biosphere3', 'd068f3e2-b033-417b-a359-ca4f25da9731'),\n",
       "    'output': ('operation', '0b1c481afa0a8ed88c4e4516f73557e4')},\n",
       "   {'name': 'Carbon monoxide, fossil',\n",
       "    'amount': 0.035,\n",
       "    'unit': 'kilogram',\n",
       "    'database': 'biosphere3',\n",
       "    'categories': ('air', 'urban air close to ground'),\n",
       "    'type': 'biosphere',\n",
       "    'uncertainty type': 1,\n",
       "    'input': ('biosphere3', '6edcc2df-88a3-48e1-83d8-ffc38d31c35b'),\n",
       "    'output': ('operation', '0b1c481afa0a8ed88c4e4516f73557e4')},\n",
       "   {'name': 'NMVOC, non-methane volatile organic compounds, unspecified origin',\n",
       "    'amount': 0.035,\n",
       "    'unit': 'kilogram',\n",
       "    'database': 'biosphere3',\n",
       "    'categories': ('air', 'urban air close to ground'),\n",
       "    'type': 'biosphere',\n",
       "    'uncertainty type': 1,\n",
       "    'input': ('biosphere3', '175baa64-d985-4c5e-84ef-67cc3a1cf952'),\n",
       "    'output': ('operation', '0b1c481afa0a8ed88c4e4516f73557e4')}],\n",
       "  'worksheet name': 'Sheet1',\n",
       "  'database': 'operation',\n",
       "  'code': '0b1c481afa0a8ed88c4e4516f73557e4'},\n",
       " {'comment': '',\n",
       "  'location': 'GLO',\n",
       "  'production amount': 7000.0,\n",
       "  'unit': 'kilowatt hour',\n",
       "  'name': 'electricity_pemfc',\n",
       "  'exchanges': [{'name': 'Carbon dioxide, fossil',\n",
       "    'amount': 3696.0,\n",
       "    'unit': 'kilogram',\n",
       "    'database': 'biosphere3',\n",
       "    'categories': ('air', 'urban air close to ground'),\n",
       "    'type': 'biosphere',\n",
       "    'uncertainty type': 0,\n",
       "    'input': ('biosphere3', 'f9749677-9c9f-4678-ab55-c607dfdc2cb9'),\n",
       "    'output': ('operation', 'a173c901b7949071aa35929e71e9a89c')},\n",
       "   {'name': 'market for natural gas, low pressure',\n",
       "    'amount': 2145.97537646539,\n",
       "    'unit': 'cubic meter',\n",
       "    'database': 'ecoinvent 3.6',\n",
       "    'location': 'RoW',\n",
       "    'type': 'technosphere',\n",
       "    'input': ('ecoinvent 3.6', '75123851b304ed41f094d953a2b89888'),\n",
       "    'output': ('operation', 'a173c901b7949071aa35929e71e9a89c')},\n",
       "   {'name': 'Nitrogen oxides',\n",
       "    'amount': 0.048299999999999996,\n",
       "    'unit': 'kilogram',\n",
       "    'database': 'biosphere3',\n",
       "    'categories': ('air', 'urban air close to ground'),\n",
       "    'type': 'biosphere',\n",
       "    'uncertainty type': 0,\n",
       "    'input': ('biosphere3', 'd068f3e2-b033-417b-a359-ca4f25da9731'),\n",
       "    'output': ('operation', 'a173c901b7949071aa35929e71e9a89c')},\n",
       "   {'name': 'Carbon monoxide, fossil',\n",
       "    'amount': 0.11977,\n",
       "    'unit': 'kilogram',\n",
       "    'database': 'biosphere3',\n",
       "    'categories': ('air', 'urban air close to ground'),\n",
       "    'type': 'biosphere',\n",
       "    'uncertainty type': 0,\n",
       "    'input': ('biosphere3', '6edcc2df-88a3-48e1-83d8-ffc38d31c35b'),\n",
       "    'output': ('operation', 'a173c901b7949071aa35929e71e9a89c')}],\n",
       "  'worksheet name': 'Sheet1',\n",
       "  'database': 'operation',\n",
       "  'code': 'a173c901b7949071aa35929e71e9a89c'}]"
      ]
     },
     "execution_count": 43,
     "metadata": {},
     "output_type": "execute_result"
    },
    {
     "data": {
      "application/javascript": [
       "\n",
       "            setTimeout(function() {\n",
       "                var nbb_cell_id = 43;\n",
       "                var nbb_unformatted_code = \"[act for act in op_db]\";\n",
       "                var nbb_formatted_code = \"[act for act in op_db]\";\n",
       "                var nbb_cells = Jupyter.notebook.get_cells();\n",
       "                for (var i = 0; i < nbb_cells.length; ++i) {\n",
       "                    if (nbb_cells[i].input_prompt_number == nbb_cell_id) {\n",
       "                        if (nbb_cells[i].get_text() == nbb_unformatted_code) {\n",
       "                             nbb_cells[i].set_text(nbb_formatted_code);\n",
       "                        }\n",
       "                        break;\n",
       "                    }\n",
       "                }\n",
       "            }, 500);\n",
       "            "
      ],
      "text/plain": [
       "<IPython.core.display.Javascript object>"
      ]
     },
     "metadata": {},
     "output_type": "display_data"
    }
   ],
   "source": [
    "[act for act in op_db]"
   ]
  },
  {
   "cell_type": "code",
   "execution_count": 43,
   "metadata": {},
   "outputs": [
    {
     "data": {
      "application/javascript": [
       "\n",
       "            setTimeout(function() {\n",
       "                var nbb_cell_id = 43;\n",
       "                var nbb_unformatted_code = \"# \\u627e\\u5230\\u9700\\u8981\\u6539\\u8fdb\\u7684\\u6280\\u672f\\u53c2\\u6570\\u53ca\\u5176\\u73b0\\u5728\\u7684\\u503c,\\u5e76\\u8ba1\\u7b97LCA\\ndef get_tech_imp_LCA(act, imp_rate, ng_input_amount):\\n    ng_input_exc = [exc for exc in act.technosphere()][0]  # obtain\\n    act.technosphere().delete()  # delete previouse exchange\\n    ng_input_scenario = ng_input_amount * (1 + imp_rate)\\n    ng_input_sce = act.new_exchange(\\n        input=ng_input_act, amount=ng_input_scenario, type=\\\"technosphere\\\"\\n    )\\n    ng_input_sce.save()\\n\\n    act_FU = [{act: 1}]\\n    name = [act.as_dict()[\\\"name\\\"]]\\n    bw.calculation_setups[\\\"tech_imp_LCA\\\"] = {\\\"inv\\\": act_FU, \\\"ia\\\": indicators}\\n    tech_imp_LCA = bw.MultiLCA(\\\"tech_imp_LCA\\\").results\\n    df_tech_imp = pd.DataFrame(tech_imp_LCA, index=name, columns=ia_cat1)\\n    return df_tech_imp\";\n",
       "                var nbb_formatted_code = \"# \\u627e\\u5230\\u9700\\u8981\\u6539\\u8fdb\\u7684\\u6280\\u672f\\u53c2\\u6570\\u53ca\\u5176\\u73b0\\u5728\\u7684\\u503c,\\u5e76\\u8ba1\\u7b97LCA\\ndef get_tech_imp_LCA(act, imp_rate, ng_input_amount):\\n    ng_input_exc = [exc for exc in act.technosphere()][0]  # obtain\\n    act.technosphere().delete()  # delete previouse exchange\\n    ng_input_scenario = ng_input_amount * (1 + imp_rate)\\n    ng_input_sce = act.new_exchange(\\n        input=ng_input_act, amount=ng_input_scenario, type=\\\"technosphere\\\"\\n    )\\n    ng_input_sce.save()\\n\\n    act_FU = [{act: 1}]\\n    name = [act.as_dict()[\\\"name\\\"]]\\n    bw.calculation_setups[\\\"tech_imp_LCA\\\"] = {\\\"inv\\\": act_FU, \\\"ia\\\": indicators}\\n    tech_imp_LCA = bw.MultiLCA(\\\"tech_imp_LCA\\\").results\\n    df_tech_imp = pd.DataFrame(tech_imp_LCA, index=name, columns=ia_cat1)\\n    return df_tech_imp\";\n",
       "                var nbb_cells = Jupyter.notebook.get_cells();\n",
       "                for (var i = 0; i < nbb_cells.length; ++i) {\n",
       "                    if (nbb_cells[i].input_prompt_number == nbb_cell_id) {\n",
       "                        if (nbb_cells[i].get_text() == nbb_unformatted_code) {\n",
       "                             nbb_cells[i].set_text(nbb_formatted_code);\n",
       "                        }\n",
       "                        break;\n",
       "                    }\n",
       "                }\n",
       "            }, 500);\n",
       "            "
      ],
      "text/plain": [
       "<IPython.core.display.Javascript object>"
      ]
     },
     "metadata": {},
     "output_type": "display_data"
    }
   ],
   "source": [
    "# 找到需要改进的技术参数及其现在的值,并计算LCA\n",
    "def get_tech_imp_LCA(act, imp_rate, ng_input_amount):\n",
    "    ng_input_exc = [exc for exc in act.technosphere()][0]  # obtain current input\n",
    "    act.technosphere().delete()  # delete previouse exchange\n",
    "    ng_input_scenario = ng_input_amount * (1 + imp_rate)\n",
    "    ng_input_sce = act.new_exchange(\n",
    "        input=ng_input_act, amount=ng_input_scenario, type=\"technosphere\"\n",
    "    )\n",
    "    ng_input_sce.save()\n",
    "\n",
    "    act_FU = [{act: 1}]\n",
    "    name = [act.as_dict()[\"name\"]]\n",
    "    bw.calculation_setups[\"tech_imp_LCA\"] = {\"inv\": act_FU, \"ia\": indicators}\n",
    "    tech_imp_LCA = bw.MultiLCA(\"tech_imp_LCA\").results\n",
    "    df_tech_imp = pd.DataFrame(tech_imp_LCA, index=name, columns=ia_cat1)\n",
    "    return df_tech_imp"
   ]
  },
  {
   "cell_type": "code",
   "execution_count": 48,
   "metadata": {},
   "outputs": [
    {
     "data": {
      "application/javascript": [
       "\n",
       "            setTimeout(function() {\n",
       "                var nbb_cell_id = 48;\n",
       "                var nbb_unformatted_code = \"operation = [i for i in op_db_import if i[\\\"name\\\"] in op_foreground_name]\";\n",
       "                var nbb_formatted_code = \"operation = [i for i in op_db_import if i[\\\"name\\\"] in op_foreground_name]\";\n",
       "                var nbb_cells = Jupyter.notebook.get_cells();\n",
       "                for (var i = 0; i < nbb_cells.length; ++i) {\n",
       "                    if (nbb_cells[i].input_prompt_number == nbb_cell_id) {\n",
       "                        if (nbb_cells[i].get_text() == nbb_unformatted_code) {\n",
       "                             nbb_cells[i].set_text(nbb_formatted_code);\n",
       "                        }\n",
       "                        break;\n",
       "                    }\n",
       "                }\n",
       "            }, 500);\n",
       "            "
      ],
      "text/plain": [
       "<IPython.core.display.Javascript object>"
      ]
     },
     "metadata": {},
     "output_type": "display_data"
    }
   ],
   "source": [
    "operation = [i for i in op_db_import if i[\"name\"] in op_foreground_name]"
   ]
  },
  {
   "cell_type": "code",
   "execution_count": 50,
   "metadata": {},
   "outputs": [
    {
     "data": {
      "application/javascript": [
       "\n",
       "            setTimeout(function() {\n",
       "                var nbb_cell_id = 50;\n",
       "                var nbb_unformatted_code = \"sofc_tech_imp1 = get_tech_imp_LCA(operation[0], 0.05, ng_input_amout[0])\\nmcfc_tech_imp1 = get_tech_imp_LCA(operation[1], 0.05, ng_input_amout[1])\\npafc_tech_imp1 = get_tech_imp_LCA(operation[2], 0.05, ng_input_amout[2])\\npemfc_tech_imp1 = get_tech_imp_LCA(operation[3], 0.05, ng_input_amout[3])\\nsofc_tech_imp2 = get_tech_imp_LCA(operation[0], 0.15, ng_input_amout[0])\\nmcfc_tech_imp2 = get_tech_imp_LCA(operation[1], 0.15, ng_input_amout[1])\\npafc_tech_imp2 = get_tech_imp_LCA(operation[2], 0.15, ng_input_amout[2])\\npemfc_tech_imp2 = get_tech_imp_LCA(operation[3], 0.15, ng_input_amout[3])\\n\\ndf_tech_imp = pd.concat(\\n    [\\n        sofc_tech_imp1,\\n        mcfc_tech_imp1,\\n        pafc_tech_imp1,\\n        pemfc_tech_imp1,\\n        sofc_tech_imp2,\\n        mcfc_tech_imp2,\\n        pafc_tech_imp2,\\n        pemfc_tech_imp2,\\n    ],\\n    axis=0,\\n)\\ndf_tech_imp.to_excel(r\\\"D:\\\\tencent_files\\\\chrome_Download\\\\Research\\\\LCA\\\\LCA SOFC\\\\output\\\\Efficiency_loss_scenarios1.xlsx\\\")\";\n",
       "                var nbb_formatted_code = \"sofc_tech_imp1 = get_tech_imp_LCA(operation[0], 0.05, ng_input_amout[0])\\nmcfc_tech_imp1 = get_tech_imp_LCA(operation[1], 0.05, ng_input_amout[1])\\npafc_tech_imp1 = get_tech_imp_LCA(operation[2], 0.05, ng_input_amout[2])\\npemfc_tech_imp1 = get_tech_imp_LCA(operation[3], 0.05, ng_input_amout[3])\\nsofc_tech_imp2 = get_tech_imp_LCA(operation[0], 0.15, ng_input_amout[0])\\nmcfc_tech_imp2 = get_tech_imp_LCA(operation[1], 0.15, ng_input_amout[1])\\npafc_tech_imp2 = get_tech_imp_LCA(operation[2], 0.15, ng_input_amout[2])\\npemfc_tech_imp2 = get_tech_imp_LCA(operation[3], 0.15, ng_input_amout[3])\\n\\ndf_tech_imp = pd.concat(\\n    [\\n        sofc_tech_imp1,\\n        mcfc_tech_imp1,\\n        pafc_tech_imp1,\\n        pemfc_tech_imp1,\\n        sofc_tech_imp2,\\n        mcfc_tech_imp2,\\n        pafc_tech_imp2,\\n        pemfc_tech_imp2,\\n    ],\\n    axis=0,\\n)\\ndf_tech_imp.to_excel(\\n    r\\\"D:\\\\tencent_files\\\\chrome_Download\\\\Research\\\\LCA\\\\LCA SOFC\\\\output\\\\Efficiency_loss_scenarios1.xlsx\\\"\\n)\";\n",
       "                var nbb_cells = Jupyter.notebook.get_cells();\n",
       "                for (var i = 0; i < nbb_cells.length; ++i) {\n",
       "                    if (nbb_cells[i].input_prompt_number == nbb_cell_id) {\n",
       "                        if (nbb_cells[i].get_text() == nbb_unformatted_code) {\n",
       "                             nbb_cells[i].set_text(nbb_formatted_code);\n",
       "                        }\n",
       "                        break;\n",
       "                    }\n",
       "                }\n",
       "            }, 500);\n",
       "            "
      ],
      "text/plain": [
       "<IPython.core.display.Javascript object>"
      ]
     },
     "metadata": {},
     "output_type": "display_data"
    }
   ],
   "source": [
    "sofc_tech_imp1 = get_tech_imp_LCA(operation[0], 0.05, ng_input_amout[0])\n",
    "mcfc_tech_imp1 = get_tech_imp_LCA(operation[1], 0.05, ng_input_amout[1])\n",
    "pafc_tech_imp1 = get_tech_imp_LCA(operation[2], 0.05, ng_input_amout[2])\n",
    "pemfc_tech_imp1 = get_tech_imp_LCA(operation[3], 0.05, ng_input_amout[3])\n",
    "sofc_tech_imp2 = get_tech_imp_LCA(operation[0], 0.15, ng_input_amout[0])\n",
    "mcfc_tech_imp2 = get_tech_imp_LCA(operation[1], 0.15, ng_input_amout[1])\n",
    "pafc_tech_imp2 = get_tech_imp_LCA(operation[2], 0.15, ng_input_amout[2])\n",
    "pemfc_tech_imp2 = get_tech_imp_LCA(operation[3], 0.15, ng_input_amout[3])\n",
    "\n",
    "df_tech_imp = pd.concat(\n",
    "    [\n",
    "        sofc_tech_imp1,\n",
    "        mcfc_tech_imp1,\n",
    "        pafc_tech_imp1,\n",
    "        pemfc_tech_imp1,\n",
    "        sofc_tech_imp2,\n",
    "        mcfc_tech_imp2,\n",
    "        pafc_tech_imp2,\n",
    "        pemfc_tech_imp2,\n",
    "    ],\n",
    "    axis=0,\n",
    ")\n",
    "df_tech_imp.to_excel(\n",
    "    r\"D:\\tencent_files\\chrome_Download\\Research\\LCA\\LCA SOFC\\output\\Efficiency_loss_scenarios1.xlsx\"\n",
    ")"
   ]
  },
  {
   "cell_type": "code",
   "execution_count": 60,
   "metadata": {},
   "outputs": [
    {
     "data": {
      "text/plain": [
       "['electricity_pafc' (kilowatt hour, GLO, None),\n",
       " 'electricity_pemfc' (kilowatt hour, GLO, None),\n",
       " 'electricity_mcfc' (kilowatt hour, GLO, None),\n",
       " 'electricity_sofc' (kilowatt hour, GLO, None)]"
      ]
     },
     "execution_count": 60,
     "metadata": {},
     "output_type": "execute_result"
    },
    {
     "data": {
      "application/javascript": [
       "\n",
       "            setTimeout(function() {\n",
       "                var nbb_cell_id = 60;\n",
       "                var nbb_unformatted_code = \"find_by_name(op_foreground_name, op_db_import)\";\n",
       "                var nbb_formatted_code = \"find_by_name(op_foreground_name, op_db_import)\";\n",
       "                var nbb_cells = Jupyter.notebook.get_cells();\n",
       "                for (var i = 0; i < nbb_cells.length; ++i) {\n",
       "                    if (nbb_cells[i].input_prompt_number == nbb_cell_id) {\n",
       "                        if (nbb_cells[i].get_text() == nbb_unformatted_code) {\n",
       "                             nbb_cells[i].set_text(nbb_formatted_code);\n",
       "                        }\n",
       "                        break;\n",
       "                    }\n",
       "                }\n",
       "            }, 500);\n",
       "            "
      ],
      "text/plain": [
       "<IPython.core.display.Javascript object>"
      ]
     },
     "metadata": {},
     "output_type": "display_data"
    }
   ],
   "source": [
    "find_by_name(op_foreground_name, op_db_import)"
   ]
  },
  {
   "cell_type": "code",
   "execution_count": null,
   "metadata": {},
   "outputs": [],
   "source": [
    "biogas_input = [\n",
    "    act\n",
    "    for act in eidb\n",
    "    if \"methane, 96% by volume, from biogas, low pressure, at user\" in act[\"name\"]\n",
    "    and \"RoW\" in act[\"location\"]\n",
    "][0]"
   ]
  },
  {
   "cell_type": "code",
   "execution_count": null,
   "metadata": {},
   "outputs": [],
   "source": [
    "biogas_input"
   ]
  },
  {
   "cell_type": "code",
   "execution_count": null,
   "metadata": {},
   "outputs": [],
   "source": [
    "def Scenario_LCA(activity, new_exchange, imp_rate, ng_input_amount):\n",
    "    ng_input_exc = [exc for exc in activity.technosphere()][0]  # obtain\n",
    "    activity.technosphere().delete()  # delete previouse exchange\n",
    "    ng_input_scenario = ng_input_amount * (1 + imp_rate)\n",
    "    ng_input_sce = activity.new_exchange(\n",
    "        input=new_exchange, amount=ng_input_scenario, type=\"technosphere\"\n",
    "    )\n",
    "    ng_input_sce.save()\n",
    "\n",
    "    act_FU = [{activity: 1}]\n",
    "    name = [activity.as_dict()[\"name\"]]\n",
    "    bw.calculation_setups[\"tech_imp_LCA\"] = {\"inv\": act_FU, \"ia\": indicators}\n",
    "    tech_imp_LCA = bw.MultiLCA(\"tech_imp_LCA\").results\n",
    "    df_tech_imp = pd.DataFrame(tech_imp_LCA, index=name, columns=ia_cat1)\n",
    "    return df_tech_imp"
   ]
  },
  {
   "cell_type": "code",
   "execution_count": null,
   "metadata": {},
   "outputs": [],
   "source": [
    "sofc_biogas_0 = Scenario_LCA(operation[0], biogas_input, 0, 47552.4)"
   ]
  },
  {
   "cell_type": "code",
   "execution_count": null,
   "metadata": {},
   "outputs": [],
   "source": [
    "pd.DataFrame(sofc_biogas_0)"
   ]
  },
  {
   "cell_type": "code",
   "execution_count": null,
   "metadata": {},
   "outputs": [],
   "source": [
    "list(operation[0].exchanges())"
   ]
  },
  {
   "cell_type": "markdown",
   "metadata": {},
   "source": [
    "##  Calc Pearson's coeff of LCIA"
   ]
  },
  {
   "cell_type": "code",
   "execution_count": null,
   "metadata": {},
   "outputs": [],
   "source": [
    "def pearson_corr(df_pmc_results):  # calc pearson's coefficients of LCIA results\n",
    "    df_trans = df_pmc_results.transpose()\n",
    "    df_trans_midpoint = df_trans\n",
    "    results = df_trans_midpoint.corr(method=\"pearson\")\n",
    "    # 矩阵运算\n",
    "    pear_diag = pd.DataFrame(np.diag(np.diag(results)))\n",
    "    pear_tril = pd.DataFrame(np.tril(results, -1))\n",
    "    pear_final = pear_tril + pear_diag\n",
    "    masked_correlation = np.ma.array(pear_final, mask=pear_final == 0)\n",
    "    pear_mid_final = pd.DataFrame(masked_correlation, index=columns, columns=columns)\n",
    "    return pear_mid_final"
   ]
  },
  {
   "cell_type": "code",
   "execution_count": null,
   "metadata": {},
   "outputs": [],
   "source": [
    "pearson_corr(.iloc[:4])"
   ]
  },
  {
   "cell_type": "code",
   "execution_count": null,
   "metadata": {},
   "outputs": [],
   "source": [
    "pear_sofc = pearson_corr(manu_pmc.iloc[:4])\n",
    "fig, ax = plt.subplots()\n",
    "im, cbar = heatmap(pear_sofc, columns, columns, ax=ax, cmap=\"YlGn\", cbarlabel=\"r-value\")\n",
    "plt.savefig(\n",
    "    r\"D:\\tencent files\\chrome Download\\Research\\LCA\\LCA SOFC\\Figures\\pear_sofc.png\",\n",
    "    dpi=600,\n",
    "    bbox_inches=\"tight\",\n",
    ")"
   ]
  },
  {
   "cell_type": "markdown",
   "metadata": {},
   "source": [
    "##  calc LCIA of other techs"
   ]
  },
  {
   "cell_type": "markdown",
   "metadata": {},
   "source": [
    "In earlier works, I calculated LCIA of other technologies in comparison with Fuel cells. These are lately abondoned. "
   ]
  },
  {
   "cell_type": "code",
   "execution_count": 112,
   "metadata": {},
   "outputs": [
    {
     "data": {
      "text/plain": [
       "['market for gas power plant, combined cycle, 400MW electrical' (unit, GLO, None),\n",
       " 'heat and power co-generation, natural gas, combined cycle power plant, 400MW electrical' (kilowatt hour, RoW, None),\n",
       " 'heat and power co-generation, natural gas, combined cycle power plant, 400MW electrical' (megajoule, RoW, None),\n",
       " 'heat production, natural gas, at boiler modulating <100kW' (megajoule, RoW, None)]"
      ]
     },
     "execution_count": 112,
     "metadata": {},
     "output_type": "execute_result"
    },
    {
     "data": {
      "application/javascript": [
       "\n",
       "            setTimeout(function() {\n",
       "                var nbb_cell_id = 112;\n",
       "                var nbb_unformatted_code = \"ngcc_man = [\\n    act for act in eidb if \\\"combined cycle\\\" in act[\\\"name\\\"] and \\\"market\\\" in act[\\\"name\\\"]\\n]\\nngcc_op_elec = [\\n    act\\n    for act in eidb\\n    if \\\"heat and power co-generation, natural gas, combined cycle power plant, 400MW electrical\\\"\\n    in act[\\\"name\\\"]\\n    and \\\"RoW\\\" in act[\\\"location\\\"]\\n    and \\\"kilowatt hour\\\" in act[\\\"unit\\\"]\\n]\\nngcc_op_heat = [\\n    act\\n    for act in eidb\\n    if \\\"heat and power co-generation, natural gas, combined cycle power plant, 400MW electrical\\\"\\n    in act[\\\"name\\\"]\\n    and \\\"RoW\\\" in act[\\\"location\\\"]\\n    and \\\"heat\\\" in act[\\\"reference product\\\"]\\n]\\nsysExp = [\\n    act\\n    for act in eidb\\n    if \\\"heat production, natural gas, at boiler modulating <100kW\\\" in act[\\\"name\\\"]\\n    and \\\"RoW\\\" in act[\\\"location\\\"]\\n    and \\\"\\\" in act[\\\"unit\\\"]\\n]\\nngcc = ngcc_man + ngcc_op_elec + ngcc_op_heat + sysExp\\nngcc\";\n",
       "                var nbb_formatted_code = \"ngcc_man = [\\n    act for act in eidb if \\\"combined cycle\\\" in act[\\\"name\\\"] and \\\"market\\\" in act[\\\"name\\\"]\\n]\\nngcc_op_elec = [\\n    act\\n    for act in eidb\\n    if \\\"heat and power co-generation, natural gas, combined cycle power plant, 400MW electrical\\\"\\n    in act[\\\"name\\\"]\\n    and \\\"RoW\\\" in act[\\\"location\\\"]\\n    and \\\"kilowatt hour\\\" in act[\\\"unit\\\"]\\n]\\nngcc_op_heat = [\\n    act\\n    for act in eidb\\n    if \\\"heat and power co-generation, natural gas, combined cycle power plant, 400MW electrical\\\"\\n    in act[\\\"name\\\"]\\n    and \\\"RoW\\\" in act[\\\"location\\\"]\\n    and \\\"heat\\\" in act[\\\"reference product\\\"]\\n]\\nsysExp = [\\n    act\\n    for act in eidb\\n    if \\\"heat production, natural gas, at boiler modulating <100kW\\\" in act[\\\"name\\\"]\\n    and \\\"RoW\\\" in act[\\\"location\\\"]\\n    and \\\"\\\" in act[\\\"unit\\\"]\\n]\\nngcc = ngcc_man + ngcc_op_elec + ngcc_op_heat + sysExp\\nngcc\";\n",
       "                var nbb_cells = Jupyter.notebook.get_cells();\n",
       "                for (var i = 0; i < nbb_cells.length; ++i) {\n",
       "                    if (nbb_cells[i].input_prompt_number == nbb_cell_id) {\n",
       "                        if (nbb_cells[i].get_text() == nbb_unformatted_code) {\n",
       "                             nbb_cells[i].set_text(nbb_formatted_code);\n",
       "                        }\n",
       "                        break;\n",
       "                    }\n",
       "                }\n",
       "            }, 500);\n",
       "            "
      ],
      "text/plain": [
       "<IPython.core.display.Javascript object>"
      ]
     },
     "metadata": {},
     "output_type": "display_data"
    }
   ],
   "source": [
    "ngcc_man = [\n",
    "    act for act in eidb if \"combined cycle\" in act[\"name\"] and \"market\" in act[\"name\"]\n",
    "]\n",
    "ngcc_op_elec = [\n",
    "    act\n",
    "    for act in eidb\n",
    "    if \"heat and power co-generation, natural gas, combined cycle power plant, 400MW electrical\"\n",
    "    in act[\"name\"]\n",
    "    and \"RoW\" in act[\"location\"]\n",
    "    and \"kilowatt hour\" in act[\"unit\"]\n",
    "]\n",
    "ngcc_op_heat = [\n",
    "    act\n",
    "    for act in eidb\n",
    "    if \"heat and power co-generation, natural gas, combined cycle power plant, 400MW electrical\"\n",
    "    in act[\"name\"]\n",
    "    and \"RoW\" in act[\"location\"]\n",
    "    and \"heat\" in act[\"reference product\"]\n",
    "]\n",
    "sysExp = [\n",
    "    act\n",
    "    for act in eidb\n",
    "    if \"heat production, natural gas, at boiler modulating <100kW\" in act[\"name\"]\n",
    "    and \"RoW\" in act[\"location\"]\n",
    "    and \"\" in act[\"unit\"]\n",
    "]\n",
    "ngcc = ngcc_man + ngcc_op_elec + ngcc_op_heat + sysExp\n",
    "ngcc_fu = [\n",
    "    {ngcc[0]: 1 / 400000},\n",
    "    {ngcc[1]: 7000},\n",
    "    {ngcc[2]: 19051.2},\n",
    "    {ngcc[3]: 18408.25946},\n",
    "]\n",
    "bw.calculation_setups[\"ngcc\"] = {\"inv\": ngcc_fu, \"ia\": ReCiPe}\n",
    "ngcc_lca = bw.MultiLCA(\"ngcc\").results\n",
    "ix = [\n",
    "    \"ngcc_manufacturting\",\n",
    "    \"ngcc_op_electricity\",\n",
    "    \"ngcc_op_heat\",\n",
    "    \"system_expansion\",\n",
    "]\n",
    "ngcc_results = pd.DataFrame(data=ngcc_lca, columns=ReCiPe, index=ix,)\n",
    "ngcc_results\n",
    "\n",
    "ngcc = pd.concat(\n",
    "    [\n",
    "        ngcc_results.iloc[0],\n",
    "        ngcc_results.iloc[1] + ngcc_results.iloc[2],\n",
    "        ngcc_results.iloc[3],\n",
    "    ],\n",
    "    axis=1,\n",
    ")\n",
    "ngcc_final = pd.DataFrame(ngcc)\n",
    "ngcc_final"
   ]
  },
  {
   "cell_type": "code",
   "execution_count": 116,
   "metadata": {},
   "outputs": [
    {
     "data": {
      "application/javascript": [
       "\n",
       "            setTimeout(function() {\n",
       "                var nbb_cell_id = 116;\n",
       "                var nbb_unformatted_code = \"microGT_man = [\\n    act\\n    for act in eidb\\n    if \\\"market for micro gas turbine, 100kW electrical\\\" in act[\\\"name\\\"]\\n]\\nmicroGT_op_elec = [\\n    act\\n    for act in eidb\\n    if \\\"natural gas, burned in micro gas turbine, 100kWe\\\" in act[\\\"name\\\"]\\n    and \\\"CH\\\" in act[\\\"location\\\"]\\n    and \\\"kilowatt hour\\\" in act[\\\"unit\\\"]\\n]\\nmicroGT_op_heat = [\\n    act\\n    for act in eidb\\n    if \\\"natural gas, burned in micro gas turbine, 100kWe\\\" in act[\\\"name\\\"]\\n    and \\\"CH\\\" in act[\\\"location\\\"]\\n    and \\\"heat\\\" in act[\\\"reference product\\\"]\\n]\\nmicroGT = microGT_man + microGT_op_elec + microGT_op_heat + sysExp\\nmicroGT_fu = [\\n    {microGT[0]: 1 / 100},\\n    {microGT[1]: 7000},\\n    {microGT[2]: 39972.41379},\\n    {microGT[3]: -2512.954334},\\n]\\nbw.calculation_setups[\\\"microGT\\\"] = {\\\"inv\\\": microGT_fu, \\\"ia\\\": ReCiPe}\\nmicroGT_lca = bw.MultiLCA(\\\"microGT\\\").results\";\n",
       "                var nbb_formatted_code = \"microGT_man = [\\n    act\\n    for act in eidb\\n    if \\\"market for micro gas turbine, 100kW electrical\\\" in act[\\\"name\\\"]\\n]\\nmicroGT_op_elec = [\\n    act\\n    for act in eidb\\n    if \\\"natural gas, burned in micro gas turbine, 100kWe\\\" in act[\\\"name\\\"]\\n    and \\\"CH\\\" in act[\\\"location\\\"]\\n    and \\\"kilowatt hour\\\" in act[\\\"unit\\\"]\\n]\\nmicroGT_op_heat = [\\n    act\\n    for act in eidb\\n    if \\\"natural gas, burned in micro gas turbine, 100kWe\\\" in act[\\\"name\\\"]\\n    and \\\"CH\\\" in act[\\\"location\\\"]\\n    and \\\"heat\\\" in act[\\\"reference product\\\"]\\n]\\nmicroGT = microGT_man + microGT_op_elec + microGT_op_heat + sysExp\\nmicroGT_fu = [\\n    {microGT[0]: 1 / 100},\\n    {microGT[1]: 7000},\\n    {microGT[2]: 39972.41379},\\n    {microGT[3]: -2512.954334},\\n]\\nbw.calculation_setups[\\\"microGT\\\"] = {\\\"inv\\\": microGT_fu, \\\"ia\\\": ReCiPe}\\nmicroGT_lca = bw.MultiLCA(\\\"microGT\\\").results\";\n",
       "                var nbb_cells = Jupyter.notebook.get_cells();\n",
       "                for (var i = 0; i < nbb_cells.length; ++i) {\n",
       "                    if (nbb_cells[i].input_prompt_number == nbb_cell_id) {\n",
       "                        if (nbb_cells[i].get_text() == nbb_unformatted_code) {\n",
       "                             nbb_cells[i].set_text(nbb_formatted_code);\n",
       "                        }\n",
       "                        break;\n",
       "                    }\n",
       "                }\n",
       "            }, 500);\n",
       "            "
      ],
      "text/plain": [
       "<IPython.core.display.Javascript object>"
      ]
     },
     "metadata": {},
     "output_type": "display_data"
    }
   ],
   "source": [
    "microGT_man = [\n",
    "    act\n",
    "    for act in eidb\n",
    "    if \"market for micro gas turbine, 100kW electrical\" in act[\"name\"]\n",
    "]\n",
    "microGT_op_elec = [\n",
    "    act\n",
    "    for act in eidb\n",
    "    if \"natural gas, burned in micro gas turbine, 100kWe\" in act[\"name\"]\n",
    "    and \"CH\" in act[\"location\"]\n",
    "    and \"kilowatt hour\" in act[\"unit\"]\n",
    "]\n",
    "microGT_op_heat = [\n",
    "    act\n",
    "    for act in eidb\n",
    "    if \"natural gas, burned in micro gas turbine, 100kWe\" in act[\"name\"]\n",
    "    and \"CH\" in act[\"location\"]\n",
    "    and \"heat\" in act[\"reference product\"]\n",
    "]\n",
    "microGT = microGT_man + microGT_op_elec + microGT_op_heat + sysExp\n",
    "microGT_fu = [\n",
    "    {microGT[0]: 1 / 100},\n",
    "    {microGT[1]: 7000},\n",
    "    {microGT[2]: 39972.41379},\n",
    "    {microGT[3]: -2512.954334},\n",
    "]\n",
    "bw.calculation_setups[\"microGT\"] = {\"inv\": microGT_fu, \"ia\": ReCiPe}\n",
    "microGT_lca = bw.MultiLCA(\"microGT\").results"
   ]
  },
  {
   "cell_type": "code",
   "execution_count": 117,
   "metadata": {},
   "outputs": [
    {
     "data": {
      "text/html": [
       "<div>\n",
       "<style scoped>\n",
       "    .dataframe tbody tr th:only-of-type {\n",
       "        vertical-align: middle;\n",
       "    }\n",
       "\n",
       "    .dataframe tbody tr th {\n",
       "        vertical-align: top;\n",
       "    }\n",
       "\n",
       "    .dataframe thead th {\n",
       "        text-align: right;\n",
       "    }\n",
       "</style>\n",
       "<table border=\"1\" class=\"dataframe\">\n",
       "  <thead>\n",
       "    <tr style=\"text-align: right;\">\n",
       "      <th></th>\n",
       "      <th>(ReCiPe Midpoint (H) V1.13, freshwater ecotoxicity, FETPinf)</th>\n",
       "      <th>(ReCiPe Midpoint (H) V1.13, human toxicity, HTPinf)</th>\n",
       "      <th>(ReCiPe Midpoint (H) V1.13, marine ecotoxicity, METPinf)</th>\n",
       "      <th>(ReCiPe Midpoint (H) V1.13, terrestrial ecotoxicity, TETPinf)</th>\n",
       "      <th>(ReCiPe Midpoint (H) V1.13, metal depletion, MDP)</th>\n",
       "      <th>(ReCiPe Midpoint (H) V1.13, agricultural land occupation, ALOP)</th>\n",
       "      <th>(ReCiPe Midpoint (H) V1.13, climate change, GWP100)</th>\n",
       "      <th>(ReCiPe Midpoint (H) V1.13, fossil depletion, FDP)</th>\n",
       "      <th>(ReCiPe Midpoint (H) V1.13, freshwater eutrophication, FEP)</th>\n",
       "      <th>(ReCiPe Midpoint (H) V1.13, ionising radiation, IRP_HE)</th>\n",
       "      <th>(ReCiPe Midpoint (H) V1.13, marine eutrophication, MEP)</th>\n",
       "      <th>(ReCiPe Midpoint (H) V1.13, natural land transformation, NLTP)</th>\n",
       "      <th>(ReCiPe Midpoint (H) V1.13, ozone depletion, ODPinf)</th>\n",
       "      <th>(ReCiPe Midpoint (H) V1.13, particulate matter formation, PMFP)</th>\n",
       "      <th>(ReCiPe Midpoint (H) V1.13, photochemical oxidant formation, POFP)</th>\n",
       "      <th>(ReCiPe Midpoint (H) V1.13, terrestrial acidification, TAP100)</th>\n",
       "      <th>(ReCiPe Midpoint (H) V1.13, urban land occupation, ULOP)</th>\n",
       "      <th>(ReCiPe Midpoint (H) V1.13, water depletion, WDP)</th>\n",
       "      <th>(ReCiPe Endpoint (H,A) (obsolete), total, total)</th>\n",
       "    </tr>\n",
       "  </thead>\n",
       "  <tbody>\n",
       "    <tr>\n",
       "      <th>microGT_manufacturting</th>\n",
       "      <td>53.723753</td>\n",
       "      <td>276.575773</td>\n",
       "      <td>47.739496</td>\n",
       "      <td>0.036061</td>\n",
       "      <td>99.704203</td>\n",
       "      <td>8.571535</td>\n",
       "      <td>171.582412</td>\n",
       "      <td>49.222627</td>\n",
       "      <td>0.159765</td>\n",
       "      <td>11.942182</td>\n",
       "      <td>0.050626</td>\n",
       "      <td>-0.016917</td>\n",
       "      <td>0.000009</td>\n",
       "      <td>0.804206</td>\n",
       "      <td>0.834801</td>\n",
       "      <td>1.496094</td>\n",
       "      <td>2.160715</td>\n",
       "      <td>1.578637</td>\n",
       "      <td>47.296375</td>\n",
       "    </tr>\n",
       "    <tr>\n",
       "      <th>microGT_op_elec</th>\n",
       "      <td>13.667224</td>\n",
       "      <td>85.186238</td>\n",
       "      <td>13.424004</td>\n",
       "      <td>0.031786</td>\n",
       "      <td>26.710133</td>\n",
       "      <td>7.141190</td>\n",
       "      <td>4750.248120</td>\n",
       "      <td>2338.647575</td>\n",
       "      <td>0.058191</td>\n",
       "      <td>11.642008</td>\n",
       "      <td>0.161171</td>\n",
       "      <td>-0.011361</td>\n",
       "      <td>0.000628</td>\n",
       "      <td>1.380652</td>\n",
       "      <td>5.472477</td>\n",
       "      <td>3.710482</td>\n",
       "      <td>2.259123</td>\n",
       "      <td>1.153642</td>\n",
       "      <td>467.656633</td>\n",
       "    </tr>\n",
       "    <tr>\n",
       "      <th>microGT_op_heat</th>\n",
       "      <td>3.678450</td>\n",
       "      <td>22.927350</td>\n",
       "      <td>3.612988</td>\n",
       "      <td>0.008555</td>\n",
       "      <td>7.188868</td>\n",
       "      <td>1.922009</td>\n",
       "      <td>1278.498975</td>\n",
       "      <td>629.432093</td>\n",
       "      <td>0.015662</td>\n",
       "      <td>3.133373</td>\n",
       "      <td>0.043378</td>\n",
       "      <td>-0.003058</td>\n",
       "      <td>0.000169</td>\n",
       "      <td>0.371594</td>\n",
       "      <td>1.472882</td>\n",
       "      <td>0.998653</td>\n",
       "      <td>0.608029</td>\n",
       "      <td>0.310495</td>\n",
       "      <td>125.866802</td>\n",
       "    </tr>\n",
       "    <tr>\n",
       "      <th>system_expansion</th>\n",
       "      <td>-0.860732</td>\n",
       "      <td>-5.869984</td>\n",
       "      <td>-0.807812</td>\n",
       "      <td>-0.001640</td>\n",
       "      <td>-1.569699</td>\n",
       "      <td>-0.476924</td>\n",
       "      <td>-186.329176</td>\n",
       "      <td>-90.855332</td>\n",
       "      <td>-0.005050</td>\n",
       "      <td>-0.968956</td>\n",
       "      <td>-0.005550</td>\n",
       "      <td>0.000778</td>\n",
       "      <td>-0.000024</td>\n",
       "      <td>-0.056513</td>\n",
       "      <td>-0.178461</td>\n",
       "      <td>-0.138149</td>\n",
       "      <td>-0.112054</td>\n",
       "      <td>-0.073466</td>\n",
       "      <td>-18.322032</td>\n",
       "    </tr>\n",
       "  </tbody>\n",
       "</table>\n",
       "</div>"
      ],
      "text/plain": [
       "                        (ReCiPe Midpoint (H) V1.13, freshwater ecotoxicity, FETPinf)  \\\n",
       "microGT_manufacturting                                          53.723753              \n",
       "microGT_op_elec                                                 13.667224              \n",
       "microGT_op_heat                                                  3.678450              \n",
       "system_expansion                                                -0.860732              \n",
       "\n",
       "                        (ReCiPe Midpoint (H) V1.13, human toxicity, HTPinf)  \\\n",
       "microGT_manufacturting                                         276.575773     \n",
       "microGT_op_elec                                                 85.186238     \n",
       "microGT_op_heat                                                 22.927350     \n",
       "system_expansion                                                -5.869984     \n",
       "\n",
       "                        (ReCiPe Midpoint (H) V1.13, marine ecotoxicity, METPinf)  \\\n",
       "microGT_manufacturting                                          47.739496          \n",
       "microGT_op_elec                                                 13.424004          \n",
       "microGT_op_heat                                                  3.612988          \n",
       "system_expansion                                                -0.807812          \n",
       "\n",
       "                        (ReCiPe Midpoint (H) V1.13, terrestrial ecotoxicity, TETPinf)  \\\n",
       "microGT_manufacturting                                           0.036061               \n",
       "microGT_op_elec                                                  0.031786               \n",
       "microGT_op_heat                                                  0.008555               \n",
       "system_expansion                                                -0.001640               \n",
       "\n",
       "                        (ReCiPe Midpoint (H) V1.13, metal depletion, MDP)  \\\n",
       "microGT_manufacturting                                          99.704203   \n",
       "microGT_op_elec                                                 26.710133   \n",
       "microGT_op_heat                                                  7.188868   \n",
       "system_expansion                                                -1.569699   \n",
       "\n",
       "                        (ReCiPe Midpoint (H) V1.13, agricultural land occupation, ALOP)  \\\n",
       "microGT_manufacturting                                           8.571535                 \n",
       "microGT_op_elec                                                  7.141190                 \n",
       "microGT_op_heat                                                  1.922009                 \n",
       "system_expansion                                                -0.476924                 \n",
       "\n",
       "                        (ReCiPe Midpoint (H) V1.13, climate change, GWP100)  \\\n",
       "microGT_manufacturting                                         171.582412     \n",
       "microGT_op_elec                                               4750.248120     \n",
       "microGT_op_heat                                               1278.498975     \n",
       "system_expansion                                              -186.329176     \n",
       "\n",
       "                        (ReCiPe Midpoint (H) V1.13, fossil depletion, FDP)  \\\n",
       "microGT_manufacturting                                          49.222627    \n",
       "microGT_op_elec                                               2338.647575    \n",
       "microGT_op_heat                                                629.432093    \n",
       "system_expansion                                               -90.855332    \n",
       "\n",
       "                        (ReCiPe Midpoint (H) V1.13, freshwater eutrophication, FEP)  \\\n",
       "microGT_manufacturting                                           0.159765             \n",
       "microGT_op_elec                                                  0.058191             \n",
       "microGT_op_heat                                                  0.015662             \n",
       "system_expansion                                                -0.005050             \n",
       "\n",
       "                        (ReCiPe Midpoint (H) V1.13, ionising radiation, IRP_HE)  \\\n",
       "microGT_manufacturting                                          11.942182         \n",
       "microGT_op_elec                                                 11.642008         \n",
       "microGT_op_heat                                                  3.133373         \n",
       "system_expansion                                                -0.968956         \n",
       "\n",
       "                        (ReCiPe Midpoint (H) V1.13, marine eutrophication, MEP)  \\\n",
       "microGT_manufacturting                                           0.050626         \n",
       "microGT_op_elec                                                  0.161171         \n",
       "microGT_op_heat                                                  0.043378         \n",
       "system_expansion                                                -0.005550         \n",
       "\n",
       "                        (ReCiPe Midpoint (H) V1.13, natural land transformation, NLTP)  \\\n",
       "microGT_manufacturting                                          -0.016917                \n",
       "microGT_op_elec                                                 -0.011361                \n",
       "microGT_op_heat                                                 -0.003058                \n",
       "system_expansion                                                 0.000778                \n",
       "\n",
       "                        (ReCiPe Midpoint (H) V1.13, ozone depletion, ODPinf)  \\\n",
       "microGT_manufacturting                                           0.000009      \n",
       "microGT_op_elec                                                  0.000628      \n",
       "microGT_op_heat                                                  0.000169      \n",
       "system_expansion                                                -0.000024      \n",
       "\n",
       "                        (ReCiPe Midpoint (H) V1.13, particulate matter formation, PMFP)  \\\n",
       "microGT_manufacturting                                           0.804206                 \n",
       "microGT_op_elec                                                  1.380652                 \n",
       "microGT_op_heat                                                  0.371594                 \n",
       "system_expansion                                                -0.056513                 \n",
       "\n",
       "                        (ReCiPe Midpoint (H) V1.13, photochemical oxidant formation, POFP)  \\\n",
       "microGT_manufacturting                                           0.834801                    \n",
       "microGT_op_elec                                                  5.472477                    \n",
       "microGT_op_heat                                                  1.472882                    \n",
       "system_expansion                                                -0.178461                    \n",
       "\n",
       "                        (ReCiPe Midpoint (H) V1.13, terrestrial acidification, TAP100)  \\\n",
       "microGT_manufacturting                                           1.496094                \n",
       "microGT_op_elec                                                  3.710482                \n",
       "microGT_op_heat                                                  0.998653                \n",
       "system_expansion                                                -0.138149                \n",
       "\n",
       "                        (ReCiPe Midpoint (H) V1.13, urban land occupation, ULOP)  \\\n",
       "microGT_manufacturting                                           2.160715          \n",
       "microGT_op_elec                                                  2.259123          \n",
       "microGT_op_heat                                                  0.608029          \n",
       "system_expansion                                                -0.112054          \n",
       "\n",
       "                        (ReCiPe Midpoint (H) V1.13, water depletion, WDP)  \\\n",
       "microGT_manufacturting                                           1.578637   \n",
       "microGT_op_elec                                                  1.153642   \n",
       "microGT_op_heat                                                  0.310495   \n",
       "system_expansion                                                -0.073466   \n",
       "\n",
       "                        (ReCiPe Endpoint (H,A) (obsolete), total, total)  \n",
       "microGT_manufacturting                                         47.296375  \n",
       "microGT_op_elec                                               467.656633  \n",
       "microGT_op_heat                                               125.866802  \n",
       "system_expansion                                              -18.322032  "
      ]
     },
     "execution_count": 117,
     "metadata": {},
     "output_type": "execute_result"
    },
    {
     "data": {
      "application/javascript": [
       "\n",
       "            setTimeout(function() {\n",
       "                var nbb_cell_id = 117;\n",
       "                var nbb_unformatted_code = \"microGT_results = pd.DataFrame(\\n    data=microGT_lca,\\n    columns=ReCiPe,\\n    index=[\\n        \\\"microGT_manufacturting\\\",\\n        \\\"microGT_op_elec\\\",\\n        \\\"microGT_op_heat\\\",\\n        \\\"system_expansion\\\",\\n    ],\\n)\\nmicroGT_results\";\n",
       "                var nbb_formatted_code = \"microGT_results = pd.DataFrame(\\n    data=microGT_lca,\\n    columns=ReCiPe,\\n    index=[\\n        \\\"microGT_manufacturting\\\",\\n        \\\"microGT_op_elec\\\",\\n        \\\"microGT_op_heat\\\",\\n        \\\"system_expansion\\\",\\n    ],\\n)\\nmicroGT_results\";\n",
       "                var nbb_cells = Jupyter.notebook.get_cells();\n",
       "                for (var i = 0; i < nbb_cells.length; ++i) {\n",
       "                    if (nbb_cells[i].input_prompt_number == nbb_cell_id) {\n",
       "                        if (nbb_cells[i].get_text() == nbb_unformatted_code) {\n",
       "                             nbb_cells[i].set_text(nbb_formatted_code);\n",
       "                        }\n",
       "                        break;\n",
       "                    }\n",
       "                }\n",
       "            }, 500);\n",
       "            "
      ],
      "text/plain": [
       "<IPython.core.display.Javascript object>"
      ]
     },
     "metadata": {},
     "output_type": "display_data"
    }
   ],
   "source": [
    "microGT_results = pd.DataFrame(\n",
    "    data=microGT_lca,\n",
    "    columns=ReCiPe,\n",
    "    index=[\n",
    "        \"microGT_manufacturting\",\n",
    "        \"microGT_op_elec\",\n",
    "        \"microGT_op_heat\",\n",
    "        \"system_expansion\",\n",
    "    ],\n",
    ")\n",
    "microGT_results"
   ]
  },
  {
   "cell_type": "code",
   "execution_count": 118,
   "metadata": {},
   "outputs": [
    {
     "data": {
      "text/html": [
       "<div>\n",
       "<style scoped>\n",
       "    .dataframe tbody tr th:only-of-type {\n",
       "        vertical-align: middle;\n",
       "    }\n",
       "\n",
       "    .dataframe tbody tr th {\n",
       "        vertical-align: top;\n",
       "    }\n",
       "\n",
       "    .dataframe thead th {\n",
       "        text-align: right;\n",
       "    }\n",
       "</style>\n",
       "<table border=\"1\" class=\"dataframe\">\n",
       "  <thead>\n",
       "    <tr style=\"text-align: right;\">\n",
       "      <th></th>\n",
       "      <th>microGT_manufacturting</th>\n",
       "      <th>0</th>\n",
       "      <th>system_expansion</th>\n",
       "    </tr>\n",
       "  </thead>\n",
       "  <tbody>\n",
       "    <tr>\n",
       "      <th>(ReCiPe Midpoint (H) V1.13, freshwater ecotoxicity, FETPinf)</th>\n",
       "      <td>53.723753</td>\n",
       "      <td>17.345674</td>\n",
       "      <td>-0.860732</td>\n",
       "    </tr>\n",
       "    <tr>\n",
       "      <th>(ReCiPe Midpoint (H) V1.13, human toxicity, HTPinf)</th>\n",
       "      <td>276.575773</td>\n",
       "      <td>108.113588</td>\n",
       "      <td>-5.869984</td>\n",
       "    </tr>\n",
       "    <tr>\n",
       "      <th>(ReCiPe Midpoint (H) V1.13, marine ecotoxicity, METPinf)</th>\n",
       "      <td>47.739496</td>\n",
       "      <td>17.036992</td>\n",
       "      <td>-0.807812</td>\n",
       "    </tr>\n",
       "    <tr>\n",
       "      <th>(ReCiPe Midpoint (H) V1.13, terrestrial ecotoxicity, TETPinf)</th>\n",
       "      <td>0.036061</td>\n",
       "      <td>0.040341</td>\n",
       "      <td>-0.001640</td>\n",
       "    </tr>\n",
       "    <tr>\n",
       "      <th>(ReCiPe Midpoint (H) V1.13, metal depletion, MDP)</th>\n",
       "      <td>99.704203</td>\n",
       "      <td>33.899001</td>\n",
       "      <td>-1.569699</td>\n",
       "    </tr>\n",
       "  </tbody>\n",
       "</table>\n",
       "</div>"
      ],
      "text/plain": [
       "                                                    microGT_manufacturting  \\\n",
       "(ReCiPe Midpoint (H) V1.13, freshwater ecotoxic...               53.723753   \n",
       "(ReCiPe Midpoint (H) V1.13, human toxicity, HTP...              276.575773   \n",
       "(ReCiPe Midpoint (H) V1.13, marine ecotoxicity,...               47.739496   \n",
       "(ReCiPe Midpoint (H) V1.13, terrestrial ecotoxi...                0.036061   \n",
       "(ReCiPe Midpoint (H) V1.13, metal depletion, MDP)                99.704203   \n",
       "\n",
       "                                                             0  \\\n",
       "(ReCiPe Midpoint (H) V1.13, freshwater ecotoxic...   17.345674   \n",
       "(ReCiPe Midpoint (H) V1.13, human toxicity, HTP...  108.113588   \n",
       "(ReCiPe Midpoint (H) V1.13, marine ecotoxicity,...   17.036992   \n",
       "(ReCiPe Midpoint (H) V1.13, terrestrial ecotoxi...    0.040341   \n",
       "(ReCiPe Midpoint (H) V1.13, metal depletion, MDP)    33.899001   \n",
       "\n",
       "                                                    system_expansion  \n",
       "(ReCiPe Midpoint (H) V1.13, freshwater ecotoxic...         -0.860732  \n",
       "(ReCiPe Midpoint (H) V1.13, human toxicity, HTP...         -5.869984  \n",
       "(ReCiPe Midpoint (H) V1.13, marine ecotoxicity,...         -0.807812  \n",
       "(ReCiPe Midpoint (H) V1.13, terrestrial ecotoxi...         -0.001640  \n",
       "(ReCiPe Midpoint (H) V1.13, metal depletion, MDP)          -1.569699  "
      ]
     },
     "execution_count": 118,
     "metadata": {},
     "output_type": "execute_result"
    },
    {
     "data": {
      "application/javascript": [
       "\n",
       "            setTimeout(function() {\n",
       "                var nbb_cell_id = 118;\n",
       "                var nbb_unformatted_code = \"microGT = pd.concat(\\n    [\\n        microGT_results.iloc[0],\\n        microGT_results.iloc[1] + microGT_results.iloc[2],\\n        microGT_results.iloc[3],\\n    ],\\n    axis=1,\\n)\\nmicroGT_final = pd.DataFrame(microGT)\\nmicroGT_final.head()\";\n",
       "                var nbb_formatted_code = \"microGT = pd.concat(\\n    [\\n        microGT_results.iloc[0],\\n        microGT_results.iloc[1] + microGT_results.iloc[2],\\n        microGT_results.iloc[3],\\n    ],\\n    axis=1,\\n)\\nmicroGT_final = pd.DataFrame(microGT)\\nmicroGT_final.head()\";\n",
       "                var nbb_cells = Jupyter.notebook.get_cells();\n",
       "                for (var i = 0; i < nbb_cells.length; ++i) {\n",
       "                    if (nbb_cells[i].input_prompt_number == nbb_cell_id) {\n",
       "                        if (nbb_cells[i].get_text() == nbb_unformatted_code) {\n",
       "                             nbb_cells[i].set_text(nbb_formatted_code);\n",
       "                        }\n",
       "                        break;\n",
       "                    }\n",
       "                }\n",
       "            }, 500);\n",
       "            "
      ],
      "text/plain": [
       "<IPython.core.display.Javascript object>"
      ]
     },
     "metadata": {},
     "output_type": "display_data"
    }
   ],
   "source": [
    "microGT = pd.concat(\n",
    "    [\n",
    "        microGT_results.iloc[0],\n",
    "        microGT_results.iloc[1] + microGT_results.iloc[2],\n",
    "        microGT_results.iloc[3],\n",
    "    ],\n",
    "    axis=1,\n",
    ")\n",
    "microGT_final = pd.DataFrame(microGT)\n",
    "microGT_final.head()"
   ]
  },
  {
   "cell_type": "code",
   "execution_count": 119,
   "metadata": {},
   "outputs": [
    {
     "data": {
      "application/javascript": [
       "\n",
       "            setTimeout(function() {\n",
       "                var nbb_cell_id = 119;\n",
       "                var nbb_unformatted_code = \"ngcc_final.to_excel(\\n    r\\\"e:\\\\tencent files\\\\chrome Download\\\\Research\\\\LCA\\\\LCA SOFC\\\\output\\\\ngcc_export.xlsx\\\"\\n)\\nmicroGT_final.to_excel(\\n    r\\\"e:\\\\tencent files\\\\chrome Download\\\\Research\\\\LCA\\\\LCA SOFC\\\\output\\\\microGT_export.xlsx\\\"\\n)\";\n",
       "                var nbb_formatted_code = \"ngcc_final.to_excel(\\n    r\\\"e:\\\\tencent files\\\\chrome Download\\\\Research\\\\LCA\\\\LCA SOFC\\\\output\\\\ngcc_export.xlsx\\\"\\n)\\nmicroGT_final.to_excel(\\n    r\\\"e:\\\\tencent files\\\\chrome Download\\\\Research\\\\LCA\\\\LCA SOFC\\\\output\\\\microGT_export.xlsx\\\"\\n)\";\n",
       "                var nbb_cells = Jupyter.notebook.get_cells();\n",
       "                for (var i = 0; i < nbb_cells.length; ++i) {\n",
       "                    if (nbb_cells[i].input_prompt_number == nbb_cell_id) {\n",
       "                        if (nbb_cells[i].get_text() == nbb_unformatted_code) {\n",
       "                             nbb_cells[i].set_text(nbb_formatted_code);\n",
       "                        }\n",
       "                        break;\n",
       "                    }\n",
       "                }\n",
       "            }, 500);\n",
       "            "
      ],
      "text/plain": [
       "<IPython.core.display.Javascript object>"
      ]
     },
     "metadata": {},
     "output_type": "display_data"
    }
   ],
   "source": [
    "ngcc_final.to_excel(\n",
    "    r\"D:\\tencent files\\chrome Download\\Research\\LCA\\LCA SOFC\\output\\ngcc_export.xlsx\"\n",
    ")\n",
    "microGT_final.to_excel(\n",
    "    r\"D:\\tencent files\\chrome Download\\Research\\LCA\\LCA SOFC\\output\\microGT_export.xlsx\"\n",
    ")"
   ]
  }
 ],
 "metadata": {
  "kernelspec": {
   "display_name": "base",
   "language": "python",
   "name": "base"
  },
  "language_info": {
   "codemirror_mode": {
    "name": "ipython",
    "version": 3
   },
   "file_extension": ".py",
   "mimetype": "text/x-python",
   "name": "python",
   "nbconvert_exporter": "python",
   "pygments_lexer": "ipython3",
   "version": "3.7.3"
  },
  "toc": {
   "base_numbering": 1,
   "nav_menu": {},
   "number_sections": true,
   "sideBar": true,
   "skip_h1_title": false,
   "title_cell": "Table of Contents",
   "title_sidebar": "Contents",
   "toc_cell": false,
   "toc_position": {
    "height": "calc(100% - 180px)",
    "left": "10px",
    "top": "150px",
    "width": "307.194px"
   },
   "toc_section_display": true,
   "toc_window_display": true
  }
 },
 "nbformat": 4,
 "nbformat_minor": 2
}
